{
 "cells": [
  {
   "cell_type": "code",
   "execution_count": 5,
   "metadata": {
    "collapsed": true
   },
   "outputs": [],
   "source": [
    "import requests\n",
    "from urllib.request import urlopen as uReq\n",
    "from bs4 import BeautifulSoup as soup\n",
    "import re\n",
    "import urllib.request\n",
    "import pandas as pd\n",
    "import numpy as np"
   ]
  },
  {
   "cell_type": "code",
   "execution_count": 6,
   "metadata": {
    "collapsed": true
   },
   "outputs": [],
   "source": [
    "temp_df = pd.DataFrame()\n",
    "headers = {'User-Agent': 'Mozilla/5.0 (Windows; U; Windows NT 5.1; en-US; rv:1.9.0.7) Gecko/2009021910 Firefox/3.0.7'}\n",
    "url = \"https://yocket.in/universities?page=1\""
   ]
  },
  {
   "cell_type": "code",
   "execution_count": 4,
   "metadata": {
    "collapsed": true
   },
   "outputs": [],
   "source": [
    "def open_url_2_soup(url):    \n",
    "    request=urllib.request.Request(url,None,headers)\n",
    "    response = urllib.request.urlopen(request)\n",
    "    data = response.read() # The data u need\n",
    "    page_soup = soup(data,\"lxml\")\n",
    "    return page_soup"
   ]
  },
  {
   "cell_type": "code",
   "execution_count": null,
   "metadata": {
    "collapsed": true
   },
   "outputs": [],
   "source": [
    "def collegeList():\n",
    "    page_count = 1\n",
    "    while(page_count <= 16):\n",
    "        url = \"https://yocket.in/universities?page=\"+page_count\n",
    "        url_df = \"https://yocket.in\"\n",
    "        page_soup = open_url_2_soup(url)\n",
    "        \n",
    "        page_count++"
   ]
  },
  {
   "cell_type": "code",
   "execution_count": 9,
   "metadata": {
    "collapsed": false
   },
   "outputs": [],
   "source": [
    "def collegeDetail(page_soup):\n",
    "    college_soup = page_soup.findAll(\"div\", {\"class\":\"col-sm-9 col-xs-12\"})\n",
    "    for tag in college_soup:\n",
    "        temp_div = tag.find(\"div\",{\"class\":\"col-sm-9\"})\n",
    "        temp_div = temp_div.find(\"span\",{\"class\":\"lead\"})\n",
    "        link = temp_div.find(\"a\", href = True)\n",
    "        href = link['href']\n",
    "        name = link.text"
   ]
  },
  {
   "cell_type": "code",
   "execution_count": null,
   "metadata": {
    "collapsed": true
   },
   "outputs": [],
   "source": [
    "def getCourseDetails(page_soup):\n",
    "    courseTag = page_soup.findAll(\"div\",{\"class\":\"col-sm-9\"})\n",
    "    for tag in courseTag:\n",
    "        name.append(tag.find(\"a\").text)\n",
    "        course.append(tag.find(\"small\").text)\n",
    "        "
   ]
  }
 ],
 "metadata": {
  "kernelspec": {
   "display_name": "Python 3",
   "language": "python",
   "name": "python3"
  },
  "language_info": {
   "codemirror_mode": {
    "name": "ipython",
    "version": 3
   },
   "file_extension": ".py",
   "mimetype": "text/x-python",
   "name": "python",
   "nbconvert_exporter": "python",
   "pygments_lexer": "ipython3",
   "version": "3.5.1"
  }
 },
 "nbformat": 4,
 "nbformat_minor": 0
}
