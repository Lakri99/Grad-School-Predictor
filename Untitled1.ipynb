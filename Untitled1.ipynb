{
 "cells": [
  {
   "cell_type": "code",
   "execution_count": 35,
   "metadata": {
    "collapsed": true
   },
   "outputs": [],
   "source": [
    "import requests\n",
    "from urllib.request import urlopen as uReq\n",
    "from bs4 import BeautifulSoup as soup\n",
    "import re\n",
    "import urllib.request\n",
    "import pandas as pd\n",
    "import numpy as np"
   ]
  },
  {
   "cell_type": "code",
   "execution_count": 38,
   "metadata": {
    "collapsed": true
   },
   "outputs": [],
   "source": [
    "def open_url_2_soup(url):\n",
    "    headers = {'User-Agent': 'Mozilla/5.0 (Windows; U; Windows NT 5.1; en-US; rv:1.9.0.7) Gecko/2009021910 Firefox/3.0.7'}\n",
    "    page = requests.get(url,headers = headers,verify = False)\n",
    "    page_soup = soup(page.content,'html.parser')\n",
    "    temp = page_soup.findAll(\"div\",{\"class\":\"col-sm-9\"})\n",
    "#     print(temp[2].small.text)\n",
    "    return page_soup"
   ]
  },
  {
   "cell_type": "code",
   "execution_count": 49,
   "metadata": {
    "collapsed": true
   },
   "outputs": [],
   "source": [
    "univ_df = pd.DataFrame(columns=[\"name\",\"href\"])\n",
    "def getUniversityList(url):\n",
    "    univ_soup = open_url_2_soup(url)\n",
    "    univ_detail_tag = univ_soup.findAll(\"div\",{\"class\":\"col-sm-9 col-xs-12\"})\n",
    "    for tag in univ_detail_tag:\n",
    "        name = tag.a.text\n",
    "        href = tag.a.href\n",
    "        print(href)\n",
    "        uni\n"
   ]
  },
  {
   "cell_type": "code",
   "execution_count": 50,
   "metadata": {
    "collapsed": false,
    "scrolled": true
   },
   "outputs": [
    {
     "name": "stderr",
     "output_type": "stream",
     "text": [
      "C:\\Users\\lakshmib\\AppData\\Local\\Continuum\\Anaconda3\\lib\\site-packages\\requests\\packages\\urllib3\\connectionpool.py:791: InsecureRequestWarning: Unverified HTTPS request is being made. Adding certificate verification is strongly advised. See: https://urllib3.readthedocs.org/en/latest/security.html\n",
      "  InsecureRequestWarning)\n"
     ]
    },
    {
     "name": "stdout",
     "output_type": "stream",
     "text": [
      "Arizona State University (ASU)\n",
      "Northeastern University (NEU)\n",
      "Texas A&M University, College Station (TAMU)\n",
      "University of Southern California (USC)\n",
      "University of Texas at Dallas (UTD)\n",
      "University of Texas at Arlington (UT Arlington)\n",
      "University at Buffalo SUNY (SUNY Buffalo)\n",
      "North Carolina State University, Raleigh (NCSU)\n",
      "Georgia Institute of Technology (GaTech)\n",
      "University of Texas at Austin (UT Austin)\n",
      "University of Illinois at Chicago (UIC)\n",
      "New York University (NYU)\n",
      "Illinois Institute of Technology (IIT Chicago)\n",
      "San Jose State University (SJSU)\n",
      "University of North Carolina at Charlotte (UNCC)\n",
      "Carnegie Mellon University (CMU)\n",
      "Purdue University West Lafayette (Purdue)\n",
      "University of Maryland, College Park (UMCP)\n",
      "University of Florida (UFL)\n",
      "University of California, San Diego (UCSD)\n",
      "Pennsylvania State University (Penn State)\n",
      "University of Minnesota, Twin Cities (UM Twin Cities)\n",
      "Syracuse University (Syracuse)\n",
      "University of California, Irvine (UC Irvine)\n",
      "Rochester Institute of Technology (RIT)\n",
      "University of Michigan - Ann Arbor (U Mich)\n",
      "Virginia Tech (Virg. Tech)\n",
      "University of Illinois at Urbana-Champaign (UIUC)\n",
      "University of California, Los Angeles (UCLA)\n",
      "State University of New York at Stony Brook (SUNY-SB)\n"
     ]
    }
   ],
   "source": [
    "getUniversityList(\"https://yocket.in/universities?page=1\")\n",
    "# open_url_2_soup(\"https://yocket.in/applications-admits-rejects/university-of-california-riverside/2\")"
   ]
  },
  {
   "cell_type": "code",
   "execution_count": null,
   "metadata": {
    "collapsed": true
   },
   "outputs": [],
   "source": []
  },
  {
   "cell_type": "code",
   "execution_count": null,
   "metadata": {
    "collapsed": true
   },
   "outputs": [],
   "source": []
  }
 ],
 "metadata": {
  "kernelspec": {
   "display_name": "Python 3",
   "language": "python",
   "name": "python3"
  },
  "language_info": {
   "codemirror_mode": {
    "name": "ipython",
    "version": 3
   },
   "file_extension": ".py",
   "mimetype": "text/x-python",
   "name": "python",
   "nbconvert_exporter": "python",
   "pygments_lexer": "ipython3",
   "version": "3.5.1"
  }
 },
 "nbformat": 4,
 "nbformat_minor": 0
}
