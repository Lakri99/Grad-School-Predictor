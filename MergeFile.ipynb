{
 "cells": [
  {
   "cell_type": "code",
   "execution_count": 1,
   "metadata": {
    "collapsed": true
   },
   "outputs": [],
   "source": [
    "import pandas as pd"
   ]
  },
  {
   "cell_type": "code",
   "execution_count": 2,
   "metadata": {
    "collapsed": true
   },
   "outputs": [],
   "source": [
    "studentList = pd.read_csv('studentList.csv', header =1)"
   ]
  },
  {
   "cell_type": "code",
   "execution_count": 26,
   "metadata": {
    "collapsed": false
   },
   "outputs": [
    {
     "data": {
      "text/html": [
       "<div>\n",
       "<table border=\"1\" class=\"dataframe\">\n",
       "  <thead>\n",
       "    <tr style=\"text-align: right;\">\n",
       "      <th></th>\n",
       "      <th>CGPA</th>\n",
       "      <th>CourseName</th>\n",
       "      <th>ENG_TEST</th>\n",
       "      <th>GRE</th>\n",
       "      <th>Name</th>\n",
       "      <th>WorkExp</th>\n",
       "      <th>admit/reject</th>\n",
       "      <th>college</th>\n",
       "    </tr>\n",
       "  </thead>\n",
       "  <tbody>\n",
       "    <tr>\n",
       "      <th>24555</th>\n",
       "      <td>\\n8.9 CGPA</td>\n",
       "      <td>\\nUniversity of California, Santa Barbara Elec...</td>\n",
       "      <td>\\n119</td>\n",
       "      <td>\\n331</td>\n",
       "      <td>Venkateshwar Kottapalli</td>\n",
       "      <td>\\n30 months</td>\n",
       "      <td>admit</td>\n",
       "      <td>University of California, Santa Barbara</td>\n",
       "    </tr>\n",
       "    <tr>\n",
       "      <th>24556</th>\n",
       "      <td>\\n9.29 CGPA</td>\n",
       "      <td>\\nUniversity of California, Santa Barbara Comp...</td>\n",
       "      <td>\\n108</td>\n",
       "      <td>\\n313</td>\n",
       "      <td>Srushti Sb</td>\n",
       "      <td>\\n20 months</td>\n",
       "      <td>admit</td>\n",
       "      <td>University of California, Santa Barbara</td>\n",
       "    </tr>\n",
       "    <tr>\n",
       "      <th>24557</th>\n",
       "      <td>\\n8.8 CGPA</td>\n",
       "      <td>\\nUniversity of California, Santa Barbara Elec...</td>\n",
       "      <td>\\n109</td>\n",
       "      <td>\\n325</td>\n",
       "      <td>Tajuddin Manhar</td>\n",
       "      <td>\\nNA</td>\n",
       "      <td>admit</td>\n",
       "      <td>University of California, Santa Barbara</td>\n",
       "    </tr>\n",
       "    <tr>\n",
       "      <th>24558</th>\n",
       "      <td>\\n9.54 CGPA</td>\n",
       "      <td>\\nUniversity of California, Santa Barbara Elec...</td>\n",
       "      <td>\\n109</td>\n",
       "      <td>\\n329</td>\n",
       "      <td>Prathi</td>\n",
       "      <td>\\n30 months</td>\n",
       "      <td>admit</td>\n",
       "      <td>University of California, Santa Barbara</td>\n",
       "    </tr>\n",
       "  </tbody>\n",
       "</table>\n",
       "</div>"
      ],
      "text/plain": [
       "               CGPA                                         CourseName  \\\n",
       "24555   \\n8.9 CGPA   \\nUniversity of California, Santa Barbara Elec...   \n",
       "24556  \\n9.29 CGPA   \\nUniversity of California, Santa Barbara Comp...   \n",
       "24557   \\n8.8 CGPA   \\nUniversity of California, Santa Barbara Elec...   \n",
       "24558  \\n9.54 CGPA   \\nUniversity of California, Santa Barbara Elec...   \n",
       "\n",
       "      ENG_TEST     GRE                     Name       WorkExp admit/reject  \\\n",
       "24555   \\n119   \\n331   Venkateshwar Kottapalli  \\n30 months         admit   \n",
       "24556   \\n108   \\n313                Srushti Sb  \\n20 months         admit   \n",
       "24557   \\n109   \\n325           Tajuddin Manhar         \\nNA         admit   \n",
       "24558   \\n109   \\n329                    Prathi  \\n30 months         admit   \n",
       "\n",
       "                                       college  \n",
       "24555  University of California, Santa Barbara  \n",
       "24556  University of California, Santa Barbara  \n",
       "24557  University of California, Santa Barbara  \n",
       "24558  University of California, Santa Barbara  "
      ]
     },
     "execution_count": 26,
     "metadata": {},
     "output_type": "execute_result"
    }
   ],
   "source": [
    "studentList.tail(4)"
   ]
  },
  {
   "cell_type": "code",
   "execution_count": 9,
   "metadata": {
    "collapsed": false
   },
   "outputs": [],
   "source": [
    "studentList = studentList.drop('Unnamed: 0', axis = 1)"
   ]
  },
  {
   "cell_type": "code",
   "execution_count": 17,
   "metadata": {
    "collapsed": false
   },
   "outputs": [],
   "source": [
    "studentList1 = pd.read_csv('studentList1.csv', names = ['remove','CGPA','CourseName','ENG_TEST','GRE','Name','WorkExp','admit/reject','college'])"
   ]
  },
  {
   "cell_type": "code",
   "execution_count": 27,
   "metadata": {
    "collapsed": false
   },
   "outputs": [
    {
     "data": {
      "text/html": [
       "<div>\n",
       "<table border=\"1\" class=\"dataframe\">\n",
       "  <thead>\n",
       "    <tr style=\"text-align: right;\">\n",
       "      <th></th>\n",
       "      <th>CGPA</th>\n",
       "      <th>CourseName</th>\n",
       "      <th>ENG_TEST</th>\n",
       "      <th>GRE</th>\n",
       "      <th>Name</th>\n",
       "      <th>WorkExp</th>\n",
       "      <th>admit/reject</th>\n",
       "      <th>college</th>\n",
       "    </tr>\n",
       "  </thead>\n",
       "  <tbody>\n",
       "    <tr>\n",
       "      <th>28080</th>\n",
       "      <td>\\n54.5 %</td>\n",
       "      <td>\\nUniversity of the Potomac Information Techno...</td>\n",
       "      <td>\\n6</td>\n",
       "      <td>\\n284</td>\n",
       "      <td>yashwanth</td>\n",
       "      <td>\\nNA</td>\n",
       "      <td>admit</td>\n",
       "      <td>University of the Potomac</td>\n",
       "    </tr>\n",
       "    <tr>\n",
       "      <th>28081</th>\n",
       "      <td>\\n54.5 %</td>\n",
       "      <td>\\nUniversity of the Potomac Information Techno...</td>\n",
       "      <td>\\n6</td>\n",
       "      <td>\\n284</td>\n",
       "      <td>yashwanth</td>\n",
       "      <td>\\nNA</td>\n",
       "      <td>admit</td>\n",
       "      <td>University of the Potomac</td>\n",
       "    </tr>\n",
       "    <tr>\n",
       "      <th>28082</th>\n",
       "      <td>\\n8.5 CGPA</td>\n",
       "      <td>\\nKeck Graduate Institute Bioscience\\nFall 2018</td>\n",
       "      <td>\\n110</td>\n",
       "      <td>\\n303</td>\n",
       "      <td>Sreya</td>\n",
       "      <td>\\n1 month</td>\n",
       "      <td>admit</td>\n",
       "      <td>Keck Graduate Institute</td>\n",
       "    </tr>\n",
       "    <tr>\n",
       "      <th>28083</th>\n",
       "      <td>\\n8.5 CGPA</td>\n",
       "      <td>\\nKeck Graduate Institute Bioscience\\nFall 2018</td>\n",
       "      <td>\\n110</td>\n",
       "      <td>\\n303</td>\n",
       "      <td>Sreya</td>\n",
       "      <td>\\n1 month</td>\n",
       "      <td>admit</td>\n",
       "      <td>Keck Graduate Institute</td>\n",
       "    </tr>\n",
       "  </tbody>\n",
       "</table>\n",
       "</div>"
      ],
      "text/plain": [
       "              CGPA                                         CourseName  \\\n",
       "28080    \\n54.5 %   \\nUniversity of the Potomac Information Techno...   \n",
       "28081    \\n54.5 %   \\nUniversity of the Potomac Information Techno...   \n",
       "28082  \\n8.5 CGPA    \\nKeck Graduate Institute Bioscience\\nFall 2018    \n",
       "28083  \\n8.5 CGPA    \\nKeck Graduate Institute Bioscience\\nFall 2018    \n",
       "\n",
       "      ENG_TEST     GRE       Name     WorkExp admit/reject  \\\n",
       "28080     \\n6   \\n284   yashwanth       \\nNA         admit   \n",
       "28081     \\n6   \\n284   yashwanth       \\nNA         admit   \n",
       "28082   \\n110   \\n303      Sreya   \\n1 month         admit   \n",
       "28083   \\n110   \\n303      Sreya   \\n1 month         admit   \n",
       "\n",
       "                         college  \n",
       "28080  University of the Potomac  \n",
       "28081  University of the Potomac  \n",
       "28082    Keck Graduate Institute  \n",
       "28083    Keck Graduate Institute  "
      ]
     },
     "execution_count": 27,
     "metadata": {},
     "output_type": "execute_result"
    }
   ],
   "source": [
    "studentList1.tail(4)"
   ]
  },
  {
   "cell_type": "code",
   "execution_count": 19,
   "metadata": {
    "collapsed": true
   },
   "outputs": [],
   "source": [
    "studentList1 = studentList1.drop('remove', axis = 1)"
   ]
  },
  {
   "cell_type": "code",
   "execution_count": 28,
   "metadata": {
    "collapsed": false
   },
   "outputs": [],
   "source": [
    "finalList = pd.concat([studentList,studentList1],ignore_index=True)"
   ]
  },
  {
   "cell_type": "code",
   "execution_count": 29,
   "metadata": {
    "collapsed": false
   },
   "outputs": [
    {
     "data": {
      "text/html": [
       "<div>\n",
       "<table border=\"1\" class=\"dataframe\">\n",
       "  <thead>\n",
       "    <tr style=\"text-align: right;\">\n",
       "      <th></th>\n",
       "      <th>CGPA</th>\n",
       "      <th>CourseName</th>\n",
       "      <th>ENG_TEST</th>\n",
       "      <th>GRE</th>\n",
       "      <th>Name</th>\n",
       "      <th>WorkExp</th>\n",
       "      <th>admit/reject</th>\n",
       "      <th>college</th>\n",
       "    </tr>\n",
       "  </thead>\n",
       "  <tbody>\n",
       "    <tr>\n",
       "      <th>52639</th>\n",
       "      <td>\\n54.5 %</td>\n",
       "      <td>\\nUniversity of the Potomac Information Techno...</td>\n",
       "      <td>\\n6</td>\n",
       "      <td>\\n284</td>\n",
       "      <td>yashwanth</td>\n",
       "      <td>\\nNA</td>\n",
       "      <td>admit</td>\n",
       "      <td>University of the Potomac</td>\n",
       "    </tr>\n",
       "    <tr>\n",
       "      <th>52640</th>\n",
       "      <td>\\n54.5 %</td>\n",
       "      <td>\\nUniversity of the Potomac Information Techno...</td>\n",
       "      <td>\\n6</td>\n",
       "      <td>\\n284</td>\n",
       "      <td>yashwanth</td>\n",
       "      <td>\\nNA</td>\n",
       "      <td>admit</td>\n",
       "      <td>University of the Potomac</td>\n",
       "    </tr>\n",
       "    <tr>\n",
       "      <th>52641</th>\n",
       "      <td>\\n8.5 CGPA</td>\n",
       "      <td>\\nKeck Graduate Institute Bioscience\\nFall 2018</td>\n",
       "      <td>\\n110</td>\n",
       "      <td>\\n303</td>\n",
       "      <td>Sreya</td>\n",
       "      <td>\\n1 month</td>\n",
       "      <td>admit</td>\n",
       "      <td>Keck Graduate Institute</td>\n",
       "    </tr>\n",
       "    <tr>\n",
       "      <th>52642</th>\n",
       "      <td>\\n8.5 CGPA</td>\n",
       "      <td>\\nKeck Graduate Institute Bioscience\\nFall 2018</td>\n",
       "      <td>\\n110</td>\n",
       "      <td>\\n303</td>\n",
       "      <td>Sreya</td>\n",
       "      <td>\\n1 month</td>\n",
       "      <td>admit</td>\n",
       "      <td>Keck Graduate Institute</td>\n",
       "    </tr>\n",
       "  </tbody>\n",
       "</table>\n",
       "</div>"
      ],
      "text/plain": [
       "              CGPA                                         CourseName  \\\n",
       "52639    \\n54.5 %   \\nUniversity of the Potomac Information Techno...   \n",
       "52640    \\n54.5 %   \\nUniversity of the Potomac Information Techno...   \n",
       "52641  \\n8.5 CGPA    \\nKeck Graduate Institute Bioscience\\nFall 2018    \n",
       "52642  \\n8.5 CGPA    \\nKeck Graduate Institute Bioscience\\nFall 2018    \n",
       "\n",
       "      ENG_TEST     GRE       Name     WorkExp admit/reject  \\\n",
       "52639     \\n6   \\n284   yashwanth       \\nNA         admit   \n",
       "52640     \\n6   \\n284   yashwanth       \\nNA         admit   \n",
       "52641   \\n110   \\n303      Sreya   \\n1 month         admit   \n",
       "52642   \\n110   \\n303      Sreya   \\n1 month         admit   \n",
       "\n",
       "                         college  \n",
       "52639  University of the Potomac  \n",
       "52640  University of the Potomac  \n",
       "52641    Keck Graduate Institute  \n",
       "52642    Keck Graduate Institute  "
      ]
     },
     "execution_count": 29,
     "metadata": {},
     "output_type": "execute_result"
    }
   ],
   "source": [
    "finalList.tail(4)"
   ]
  },
  {
   "cell_type": "code",
   "execution_count": 31,
   "metadata": {
    "collapsed": true
   },
   "outputs": [],
   "source": [
    "finalList.to_csv('finalList.csv', index=False)"
   ]
  },
  {
   "cell_type": "code",
   "execution_count": null,
   "metadata": {
    "collapsed": true
   },
   "outputs": [],
   "source": []
  }
 ],
 "metadata": {
  "kernelspec": {
   "display_name": "Python 3",
   "language": "python",
   "name": "python3"
  },
  "language_info": {
   "codemirror_mode": {
    "name": "ipython",
    "version": 3
   },
   "file_extension": ".py",
   "mimetype": "text/x-python",
   "name": "python",
   "nbconvert_exporter": "python",
   "pygments_lexer": "ipython3",
   "version": "3.5.1"
  }
 },
 "nbformat": 4,
 "nbformat_minor": 0
}
