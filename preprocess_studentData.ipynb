{
 "cells": [
  {
   "cell_type": "code",
   "execution_count": 1,
   "metadata": {
    "collapsed": true
   },
   "outputs": [],
   "source": [
    "# to do\n",
    "# join university details with student detail\n"
   ]
  },
  {
   "cell_type": "code",
   "execution_count": 2,
   "metadata": {
    "collapsed": true
   },
   "outputs": [],
   "source": [
    "import pandas as pd\n",
    "import numpy as np\n"
   ]
  },
  {
   "cell_type": "code",
   "execution_count": 3,
   "metadata": {
    "collapsed": true
   },
   "outputs": [],
   "source": [
    "studentDetail_df = pd.read_csv(\"finalList.csv\", header=0)"
   ]
  },
  {
   "cell_type": "code",
   "execution_count": 4,
   "metadata": {
    "collapsed": false
   },
   "outputs": [
    {
     "data": {
      "text/html": [
       "<div>\n",
       "<table border=\"1\" class=\"dataframe\">\n",
       "  <thead>\n",
       "    <tr style=\"text-align: right;\">\n",
       "      <th></th>\n",
       "      <th>CGPA</th>\n",
       "      <th>CourseName</th>\n",
       "      <th>ENG_TEST</th>\n",
       "      <th>GRE</th>\n",
       "      <th>Name</th>\n",
       "      <th>WorkExp</th>\n",
       "      <th>admit/reject</th>\n",
       "      <th>college</th>\n",
       "    </tr>\n",
       "  </thead>\n",
       "  <tbody>\n",
       "    <tr>\n",
       "      <th>52639</th>\n",
       "      <td>\\r\\n54.5 %</td>\n",
       "      <td>\\r\\nUniversity of the Potomac Information Tech...</td>\n",
       "      <td>\\r\\n6</td>\n",
       "      <td>\\r\\n284</td>\n",
       "      <td>yashwanth</td>\n",
       "      <td>\\r\\nNA</td>\n",
       "      <td>admit</td>\n",
       "      <td>University of the Potomac</td>\n",
       "    </tr>\n",
       "    <tr>\n",
       "      <th>52640</th>\n",
       "      <td>\\r\\n54.5 %</td>\n",
       "      <td>\\r\\nUniversity of the Potomac Information Tech...</td>\n",
       "      <td>\\r\\n6</td>\n",
       "      <td>\\r\\n284</td>\n",
       "      <td>yashwanth</td>\n",
       "      <td>\\r\\nNA</td>\n",
       "      <td>admit</td>\n",
       "      <td>University of the Potomac</td>\n",
       "    </tr>\n",
       "    <tr>\n",
       "      <th>52641</th>\n",
       "      <td>\\r\\n8.5 CGPA</td>\n",
       "      <td>\\r\\nKeck Graduate Institute Bioscience\\r\\nFall...</td>\n",
       "      <td>\\r\\n110</td>\n",
       "      <td>\\r\\n303</td>\n",
       "      <td>Sreya</td>\n",
       "      <td>\\r\\n1 month</td>\n",
       "      <td>admit</td>\n",
       "      <td>Keck Graduate Institute</td>\n",
       "    </tr>\n",
       "    <tr>\n",
       "      <th>52642</th>\n",
       "      <td>\\r\\n8.5 CGPA</td>\n",
       "      <td>\\r\\nKeck Graduate Institute Bioscience\\r\\nFall...</td>\n",
       "      <td>\\r\\n110</td>\n",
       "      <td>\\r\\n303</td>\n",
       "      <td>Sreya</td>\n",
       "      <td>\\r\\n1 month</td>\n",
       "      <td>admit</td>\n",
       "      <td>Keck Graduate Institute</td>\n",
       "    </tr>\n",
       "  </tbody>\n",
       "</table>\n",
       "</div>"
      ],
      "text/plain": [
       "                CGPA                                         CourseName  \\\n",
       "52639    \\r\\n54.5 %   \\r\\nUniversity of the Potomac Information Tech...   \n",
       "52640    \\r\\n54.5 %   \\r\\nUniversity of the Potomac Information Tech...   \n",
       "52641  \\r\\n8.5 CGPA   \\r\\nKeck Graduate Institute Bioscience\\r\\nFall...   \n",
       "52642  \\r\\n8.5 CGPA   \\r\\nKeck Graduate Institute Bioscience\\r\\nFall...   \n",
       "\n",
       "       ENG_TEST       GRE       Name       WorkExp admit/reject  \\\n",
       "52639    \\r\\n6   \\r\\n284   yashwanth       \\r\\nNA         admit   \n",
       "52640    \\r\\n6   \\r\\n284   yashwanth       \\r\\nNA         admit   \n",
       "52641  \\r\\n110   \\r\\n303      Sreya   \\r\\n1 month         admit   \n",
       "52642  \\r\\n110   \\r\\n303      Sreya   \\r\\n1 month         admit   \n",
       "\n",
       "                         college  \n",
       "52639  University of the Potomac  \n",
       "52640  University of the Potomac  \n",
       "52641    Keck Graduate Institute  \n",
       "52642    Keck Graduate Institute  "
      ]
     },
     "execution_count": 4,
     "metadata": {},
     "output_type": "execute_result"
    }
   ],
   "source": [
    "studentDetail_df.tail(4)"
   ]
  },
  {
   "cell_type": "code",
   "execution_count": 5,
   "metadata": {
    "collapsed": true
   },
   "outputs": [],
   "source": [
    "# make a copy just in case\n",
    "copy_studentList = studentDetail_df.copy()"
   ]
  },
  {
   "cell_type": "code",
   "execution_count": 6,
   "metadata": {
    "collapsed": false
   },
   "outputs": [
    {
     "name": "stdout",
     "output_type": "stream",
     "text": [
      "[52147 52148 52149 52150 52151 52152 52153 52154 52155 52156 52157 52158\n",
      " 52159 52160 52161 52162 52163 52164 52165 52166 52167 52168 52169 52170\n",
      " 52171 52172 52173 52174 52175 52176]\n"
     ]
    }
   ],
   "source": [
    "# check if the work_exp is admit/reject .. easy to check in if.. \n",
    "# think of other logic if you can \n",
    "\n",
    "misarranged_df = studentDetail_df[(studentDetail_df['WorkExp'] == 'admit') | (studentDetail_df['WorkExp'] == 'reject')]\n",
    "index_to_del = misarranged_df.index.values\n",
    "print(index_to_del)\n",
    "studentDetail_df.drop(index_to_del, inplace=True) \n",
    "studentDetail_df.dropna(how='all', inplace=True) #remove the nan resulted from removing the rows"
   ]
  },
  {
   "cell_type": "code",
   "execution_count": 7,
   "metadata": {
    "collapsed": false
   },
   "outputs": [],
   "source": [
    "# change the index\n",
    "# studentDetail_df = studentDetail_df.reindex(list(range(studentDetail_df.shape[0]))) \n",
    "# Above does not seem to work.. renders the removal of nan useless\n"
   ]
  },
  {
   "cell_type": "code",
   "execution_count": 8,
   "metadata": {
    "collapsed": false,
    "scrolled": true
   },
   "outputs": [
    {
     "data": {
      "text/html": [
       "<div>\n",
       "<table border=\"1\" class=\"dataframe\">\n",
       "  <thead>\n",
       "    <tr style=\"text-align: right;\">\n",
       "      <th></th>\n",
       "      <th>CGPA</th>\n",
       "      <th>CourseName</th>\n",
       "      <th>ENG_TEST</th>\n",
       "      <th>GRE</th>\n",
       "      <th>Name</th>\n",
       "      <th>WorkExp</th>\n",
       "      <th>admit/reject</th>\n",
       "      <th>college</th>\n",
       "    </tr>\n",
       "  </thead>\n",
       "  <tbody>\n",
       "    <tr>\n",
       "      <th>52638</th>\n",
       "      <td>\\r\\n64.5 %</td>\n",
       "      <td>\\r\\nThe College of Saint Rose Computer Informa...</td>\n",
       "      <td>\\r\\n6.5</td>\n",
       "      <td>\\r\\n286</td>\n",
       "      <td>SAI KUMAR REDDY</td>\n",
       "      <td>\\r\\nNA</td>\n",
       "      <td>admit</td>\n",
       "      <td>The College of Saint Rose</td>\n",
       "    </tr>\n",
       "    <tr>\n",
       "      <th>52639</th>\n",
       "      <td>\\r\\n54.5 %</td>\n",
       "      <td>\\r\\nUniversity of the Potomac Information Tech...</td>\n",
       "      <td>\\r\\n6</td>\n",
       "      <td>\\r\\n284</td>\n",
       "      <td>yashwanth</td>\n",
       "      <td>\\r\\nNA</td>\n",
       "      <td>admit</td>\n",
       "      <td>University of the Potomac</td>\n",
       "    </tr>\n",
       "    <tr>\n",
       "      <th>52640</th>\n",
       "      <td>\\r\\n54.5 %</td>\n",
       "      <td>\\r\\nUniversity of the Potomac Information Tech...</td>\n",
       "      <td>\\r\\n6</td>\n",
       "      <td>\\r\\n284</td>\n",
       "      <td>yashwanth</td>\n",
       "      <td>\\r\\nNA</td>\n",
       "      <td>admit</td>\n",
       "      <td>University of the Potomac</td>\n",
       "    </tr>\n",
       "    <tr>\n",
       "      <th>52641</th>\n",
       "      <td>\\r\\n8.5 CGPA</td>\n",
       "      <td>\\r\\nKeck Graduate Institute Bioscience\\r\\nFall...</td>\n",
       "      <td>\\r\\n110</td>\n",
       "      <td>\\r\\n303</td>\n",
       "      <td>Sreya</td>\n",
       "      <td>\\r\\n1 month</td>\n",
       "      <td>admit</td>\n",
       "      <td>Keck Graduate Institute</td>\n",
       "    </tr>\n",
       "    <tr>\n",
       "      <th>52642</th>\n",
       "      <td>\\r\\n8.5 CGPA</td>\n",
       "      <td>\\r\\nKeck Graduate Institute Bioscience\\r\\nFall...</td>\n",
       "      <td>\\r\\n110</td>\n",
       "      <td>\\r\\n303</td>\n",
       "      <td>Sreya</td>\n",
       "      <td>\\r\\n1 month</td>\n",
       "      <td>admit</td>\n",
       "      <td>Keck Graduate Institute</td>\n",
       "    </tr>\n",
       "  </tbody>\n",
       "</table>\n",
       "</div>"
      ],
      "text/plain": [
       "                CGPA                                         CourseName  \\\n",
       "52638    \\r\\n64.5 %   \\r\\nThe College of Saint Rose Computer Informa...   \n",
       "52639    \\r\\n54.5 %   \\r\\nUniversity of the Potomac Information Tech...   \n",
       "52640    \\r\\n54.5 %   \\r\\nUniversity of the Potomac Information Tech...   \n",
       "52641  \\r\\n8.5 CGPA   \\r\\nKeck Graduate Institute Bioscience\\r\\nFall...   \n",
       "52642  \\r\\n8.5 CGPA   \\r\\nKeck Graduate Institute Bioscience\\r\\nFall...   \n",
       "\n",
       "       ENG_TEST       GRE             Name       WorkExp admit/reject  \\\n",
       "52638  \\r\\n6.5   \\r\\n286   SAI KUMAR REDDY       \\r\\nNA         admit   \n",
       "52639    \\r\\n6   \\r\\n284         yashwanth       \\r\\nNA         admit   \n",
       "52640    \\r\\n6   \\r\\n284         yashwanth       \\r\\nNA         admit   \n",
       "52641  \\r\\n110   \\r\\n303            Sreya   \\r\\n1 month         admit   \n",
       "52642  \\r\\n110   \\r\\n303            Sreya   \\r\\n1 month         admit   \n",
       "\n",
       "                         college  \n",
       "52638  The College of Saint Rose  \n",
       "52639  University of the Potomac  \n",
       "52640  University of the Potomac  \n",
       "52641    Keck Graduate Institute  \n",
       "52642    Keck Graduate Institute  "
      ]
     },
     "execution_count": 8,
     "metadata": {},
     "output_type": "execute_result"
    }
   ],
   "source": [
    "studentDetail_df.tail()"
   ]
  },
  {
   "cell_type": "code",
   "execution_count": 9,
   "metadata": {
    "collapsed": false
   },
   "outputs": [],
   "source": [
    "# Remove the line break and spaces\n",
    "for col in ['CourseName','ENG_TEST','GRE','WorkExp','CGPA']:\n",
    "    studentDetail_df[col] = studentDetail_df[col].astype(str).apply(lambda x: x[2:])\n"
   ]
  },
  {
   "cell_type": "code",
   "execution_count": 10,
   "metadata": {
    "collapsed": false
   },
   "outputs": [],
   "source": [
    "studentDetail_df['Period'] = studentDetail_df.CourseName.str.split('\\r\\n').str[1]\n",
    "studentDetail_df['CollegeInfo'] = studentDetail_df.CourseName.str.split('\\r\\n').str[0]"
   ]
  },
  {
   "cell_type": "code",
   "execution_count": 11,
   "metadata": {
    "collapsed": true
   },
   "outputs": [],
   "source": [
    "def getCourseName(df):\n",
    "    df['Course'] = df['CollegeInfo'][len(df['college']):]\n",
    "    return df['Course']"
   ]
  },
  {
   "cell_type": "code",
   "execution_count": 12,
   "metadata": {
    "collapsed": false,
    "scrolled": true
   },
   "outputs": [],
   "source": [
    "studentDetail_df['Course'] = studentDetail_df.apply(getCourseName, axis = 1)\n"
   ]
  },
  {
   "cell_type": "code",
   "execution_count": 13,
   "metadata": {
    "collapsed": false
   },
   "outputs": [],
   "source": [
    "intermediate_studentList = studentDetail_df.copy()"
   ]
  },
  {
   "cell_type": "code",
   "execution_count": 14,
   "metadata": {
    "collapsed": false
   },
   "outputs": [],
   "source": [
    "studentDetail_df['Year'] = studentDetail_df.Period.str.split(\" \").str[1]\n",
    "studentDetail_df['Period'] = studentDetail_df.Period.str.split(\" \").str[0]"
   ]
  },
  {
   "cell_type": "code",
   "execution_count": 15,
   "metadata": {
    "collapsed": false
   },
   "outputs": [
    {
     "data": {
      "text/html": [
       "<div>\n",
       "<table border=\"1\" class=\"dataframe\">\n",
       "  <thead>\n",
       "    <tr style=\"text-align: right;\">\n",
       "      <th></th>\n",
       "      <th>CGPA</th>\n",
       "      <th>CourseName</th>\n",
       "      <th>ENG_TEST</th>\n",
       "      <th>GRE</th>\n",
       "      <th>Name</th>\n",
       "      <th>WorkExp</th>\n",
       "      <th>admit/reject</th>\n",
       "      <th>college</th>\n",
       "      <th>Period</th>\n",
       "      <th>CollegeInfo</th>\n",
       "      <th>Course</th>\n",
       "      <th>Year</th>\n",
       "    </tr>\n",
       "  </thead>\n",
       "  <tbody>\n",
       "    <tr>\n",
       "      <th>0</th>\n",
       "      <td>67 %</td>\n",
       "      <td>Northeastern University Information Systems\\r\\...</td>\n",
       "      <td>96</td>\n",
       "      <td>310</td>\n",
       "      <td>Achira</td>\n",
       "      <td>36 months</td>\n",
       "      <td>admit</td>\n",
       "      <td>Northeastern University</td>\n",
       "      <td>Fall</td>\n",
       "      <td>Northeastern University Information Systems</td>\n",
       "      <td>Information Systems</td>\n",
       "      <td>2018</td>\n",
       "    </tr>\n",
       "    <tr>\n",
       "      <th>1</th>\n",
       "      <td>65 %</td>\n",
       "      <td>Northeastern University Information Systems\\r\\...</td>\n",
       "      <td>96</td>\n",
       "      <td>310</td>\n",
       "      <td>achira shah</td>\n",
       "      <td>24 months</td>\n",
       "      <td>admit</td>\n",
       "      <td>Northeastern University</td>\n",
       "      <td>Fall</td>\n",
       "      <td>Northeastern University Information Systems</td>\n",
       "      <td>Information Systems</td>\n",
       "      <td>2018</td>\n",
       "    </tr>\n",
       "    <tr>\n",
       "      <th>2</th>\n",
       "      <td>7.85 CGPA</td>\n",
       "      <td>Northeastern University Engineering Management...</td>\n",
       "      <td>100</td>\n",
       "      <td>304</td>\n",
       "      <td>Deep Vira</td>\n",
       "      <td>1 month</td>\n",
       "      <td>admit</td>\n",
       "      <td>Northeastern University</td>\n",
       "      <td>Fall</td>\n",
       "      <td>Northeastern University Engineering Management</td>\n",
       "      <td>Engineering Management</td>\n",
       "      <td>2018</td>\n",
       "    </tr>\n",
       "    <tr>\n",
       "      <th>3</th>\n",
       "      <td>7.02 CGPA</td>\n",
       "      <td>Northeastern University Biotechnology\\r\\nSprin...</td>\n",
       "      <td>99</td>\n",
       "      <td>306</td>\n",
       "      <td>Anushka Menon</td>\n",
       "      <td>NA</td>\n",
       "      <td>admit</td>\n",
       "      <td>Northeastern University</td>\n",
       "      <td>Spring</td>\n",
       "      <td>Northeastern University Biotechnology</td>\n",
       "      <td>Biotechnology</td>\n",
       "      <td>2019</td>\n",
       "    </tr>\n",
       "    <tr>\n",
       "      <th>4</th>\n",
       "      <td>7.75 CGPA</td>\n",
       "      <td>Northeastern University Digital Media\\r\\nSprin...</td>\n",
       "      <td>7.5</td>\n",
       "      <td>N.A.</td>\n",
       "      <td>Piyush Rai</td>\n",
       "      <td>24 months</td>\n",
       "      <td>admit</td>\n",
       "      <td>Northeastern University</td>\n",
       "      <td>Spring</td>\n",
       "      <td>Northeastern University Digital Media</td>\n",
       "      <td>Digital Media</td>\n",
       "      <td>2019</td>\n",
       "    </tr>\n",
       "    <tr>\n",
       "      <th>5</th>\n",
       "      <td>80 %</td>\n",
       "      <td>Northeastern University Pharmaceutical Science...</td>\n",
       "      <td>NA</td>\n",
       "      <td>N.A.</td>\n",
       "      <td>Isha Shetty</td>\n",
       "      <td>NA</td>\n",
       "      <td>admit</td>\n",
       "      <td>Northeastern University</td>\n",
       "      <td>Fall</td>\n",
       "      <td>Northeastern University Pharmaceutical Sciences</td>\n",
       "      <td>Pharmaceutical Sciences</td>\n",
       "      <td>2018</td>\n",
       "    </tr>\n",
       "  </tbody>\n",
       "</table>\n",
       "</div>"
      ],
      "text/plain": [
       "         CGPA                                         CourseName ENG_TEST  \\\n",
       "0       67 %   Northeastern University Information Systems\\r\\...      96    \n",
       "1       65 %   Northeastern University Information Systems\\r\\...      96    \n",
       "2  7.85 CGPA   Northeastern University Engineering Management...     100    \n",
       "3  7.02 CGPA   Northeastern University Biotechnology\\r\\nSprin...      99    \n",
       "4  7.75 CGPA   Northeastern University Digital Media\\r\\nSprin...     7.5    \n",
       "5       80 %   Northeastern University Pharmaceutical Science...      NA    \n",
       "\n",
       "     GRE           Name     WorkExp admit/reject                  college  \\\n",
       "0   310          Achira  36 months         admit  Northeastern University   \n",
       "1   310     achira shah  24 months         admit  Northeastern University   \n",
       "2   304       Deep Vira    1 month         admit  Northeastern University   \n",
       "3   306   Anushka Menon         NA         admit  Northeastern University   \n",
       "4  N.A.      Piyush Rai  24 months         admit  Northeastern University   \n",
       "5  N.A.     Isha Shetty         NA         admit  Northeastern University   \n",
       "\n",
       "   Period                                      CollegeInfo  \\\n",
       "0    Fall      Northeastern University Information Systems   \n",
       "1    Fall      Northeastern University Information Systems   \n",
       "2    Fall   Northeastern University Engineering Management   \n",
       "3  Spring            Northeastern University Biotechnology   \n",
       "4  Spring            Northeastern University Digital Media   \n",
       "5    Fall  Northeastern University Pharmaceutical Sciences   \n",
       "\n",
       "                     Course  Year  \n",
       "0       Information Systems  2018  \n",
       "1       Information Systems  2018  \n",
       "2    Engineering Management  2018  \n",
       "3             Biotechnology  2019  \n",
       "4             Digital Media  2019  \n",
       "5   Pharmaceutical Sciences  2018  "
      ]
     },
     "execution_count": 15,
     "metadata": {},
     "output_type": "execute_result"
    }
   ],
   "source": [
    "studentDetail_df.head(6)"
   ]
  },
  {
   "cell_type": "code",
   "execution_count": 16,
   "metadata": {
    "collapsed": false
   },
   "outputs": [],
   "source": [
    "studentDetail_df['ENG_TEST'] = pd.to_numeric(studentDetail_df['ENG_TEST'], errors='coerce')\n",
    "studentDetail_df['GRE'] = pd.to_numeric(studentDetail_df['GRE'], errors='coerce')"
   ]
  },
  {
   "cell_type": "code",
   "execution_count": 17,
   "metadata": {
    "collapsed": false
   },
   "outputs": [],
   "source": [
    "checking = studentDetail_df.copy()\n"
   ]
  },
  {
   "cell_type": "code",
   "execution_count": 18,
   "metadata": {
    "collapsed": false
   },
   "outputs": [],
   "source": [
    "checking['TOEFL'] = checking['ENG_TEST'][checking['ENG_TEST'] > 9]\n",
    "checking['IELTS'] = checking['ENG_TEST'][checking['ENG_TEST'] <= 9]"
   ]
  },
  {
   "cell_type": "code",
   "execution_count": 19,
   "metadata": {
    "collapsed": true
   },
   "outputs": [],
   "source": [
    "studentDetail_df['TOEFL'] = studentDetail_df['ENG_TEST'][studentDetail_df['ENG_TEST'] > 9]\n",
    "studentDetail_df['IELTS'] = studentDetail_df['ENG_TEST'][studentDetail_df['ENG_TEST'] <= 9]"
   ]
  },
  {
   "cell_type": "code",
   "execution_count": 20,
   "metadata": {
    "collapsed": false
   },
   "outputs": [
    {
     "data": {
      "text/html": [
       "<div>\n",
       "<table border=\"1\" class=\"dataframe\">\n",
       "  <thead>\n",
       "    <tr style=\"text-align: right;\">\n",
       "      <th></th>\n",
       "      <th>CGPA</th>\n",
       "      <th>CourseName</th>\n",
       "      <th>ENG_TEST</th>\n",
       "      <th>GRE</th>\n",
       "      <th>Name</th>\n",
       "      <th>WorkExp</th>\n",
       "      <th>admit/reject</th>\n",
       "      <th>college</th>\n",
       "      <th>Period</th>\n",
       "      <th>CollegeInfo</th>\n",
       "      <th>Course</th>\n",
       "      <th>Year</th>\n",
       "      <th>TOEFL</th>\n",
       "      <th>IELTS</th>\n",
       "    </tr>\n",
       "  </thead>\n",
       "  <tbody>\n",
       "    <tr>\n",
       "      <th>0</th>\n",
       "      <td>67 %</td>\n",
       "      <td>Northeastern University Information Systems\\r\\...</td>\n",
       "      <td>96.0</td>\n",
       "      <td>310.0</td>\n",
       "      <td>Achira</td>\n",
       "      <td>36 months</td>\n",
       "      <td>admit</td>\n",
       "      <td>Northeastern University</td>\n",
       "      <td>Fall</td>\n",
       "      <td>Northeastern University Information Systems</td>\n",
       "      <td>Information Systems</td>\n",
       "      <td>2018</td>\n",
       "      <td>96.0</td>\n",
       "      <td>NaN</td>\n",
       "    </tr>\n",
       "    <tr>\n",
       "      <th>1</th>\n",
       "      <td>65 %</td>\n",
       "      <td>Northeastern University Information Systems\\r\\...</td>\n",
       "      <td>96.0</td>\n",
       "      <td>310.0</td>\n",
       "      <td>achira shah</td>\n",
       "      <td>24 months</td>\n",
       "      <td>admit</td>\n",
       "      <td>Northeastern University</td>\n",
       "      <td>Fall</td>\n",
       "      <td>Northeastern University Information Systems</td>\n",
       "      <td>Information Systems</td>\n",
       "      <td>2018</td>\n",
       "      <td>96.0</td>\n",
       "      <td>NaN</td>\n",
       "    </tr>\n",
       "    <tr>\n",
       "      <th>2</th>\n",
       "      <td>7.85 CGPA</td>\n",
       "      <td>Northeastern University Engineering Management...</td>\n",
       "      <td>100.0</td>\n",
       "      <td>304.0</td>\n",
       "      <td>Deep Vira</td>\n",
       "      <td>1 month</td>\n",
       "      <td>admit</td>\n",
       "      <td>Northeastern University</td>\n",
       "      <td>Fall</td>\n",
       "      <td>Northeastern University Engineering Management</td>\n",
       "      <td>Engineering Management</td>\n",
       "      <td>2018</td>\n",
       "      <td>100.0</td>\n",
       "      <td>NaN</td>\n",
       "    </tr>\n",
       "    <tr>\n",
       "      <th>3</th>\n",
       "      <td>7.02 CGPA</td>\n",
       "      <td>Northeastern University Biotechnology\\r\\nSprin...</td>\n",
       "      <td>99.0</td>\n",
       "      <td>306.0</td>\n",
       "      <td>Anushka Menon</td>\n",
       "      <td>NA</td>\n",
       "      <td>admit</td>\n",
       "      <td>Northeastern University</td>\n",
       "      <td>Spring</td>\n",
       "      <td>Northeastern University Biotechnology</td>\n",
       "      <td>Biotechnology</td>\n",
       "      <td>2019</td>\n",
       "      <td>99.0</td>\n",
       "      <td>NaN</td>\n",
       "    </tr>\n",
       "    <tr>\n",
       "      <th>4</th>\n",
       "      <td>7.75 CGPA</td>\n",
       "      <td>Northeastern University Digital Media\\r\\nSprin...</td>\n",
       "      <td>7.5</td>\n",
       "      <td>NaN</td>\n",
       "      <td>Piyush Rai</td>\n",
       "      <td>24 months</td>\n",
       "      <td>admit</td>\n",
       "      <td>Northeastern University</td>\n",
       "      <td>Spring</td>\n",
       "      <td>Northeastern University Digital Media</td>\n",
       "      <td>Digital Media</td>\n",
       "      <td>2019</td>\n",
       "      <td>NaN</td>\n",
       "      <td>7.5</td>\n",
       "    </tr>\n",
       "    <tr>\n",
       "      <th>5</th>\n",
       "      <td>80 %</td>\n",
       "      <td>Northeastern University Pharmaceutical Science...</td>\n",
       "      <td>NaN</td>\n",
       "      <td>NaN</td>\n",
       "      <td>Isha Shetty</td>\n",
       "      <td>NA</td>\n",
       "      <td>admit</td>\n",
       "      <td>Northeastern University</td>\n",
       "      <td>Fall</td>\n",
       "      <td>Northeastern University Pharmaceutical Sciences</td>\n",
       "      <td>Pharmaceutical Sciences</td>\n",
       "      <td>2018</td>\n",
       "      <td>NaN</td>\n",
       "      <td>NaN</td>\n",
       "    </tr>\n",
       "  </tbody>\n",
       "</table>\n",
       "</div>"
      ],
      "text/plain": [
       "         CGPA                                         CourseName  ENG_TEST  \\\n",
       "0       67 %   Northeastern University Information Systems\\r\\...      96.0   \n",
       "1       65 %   Northeastern University Information Systems\\r\\...      96.0   \n",
       "2  7.85 CGPA   Northeastern University Engineering Management...     100.0   \n",
       "3  7.02 CGPA   Northeastern University Biotechnology\\r\\nSprin...      99.0   \n",
       "4  7.75 CGPA   Northeastern University Digital Media\\r\\nSprin...       7.5   \n",
       "5       80 %   Northeastern University Pharmaceutical Science...       NaN   \n",
       "\n",
       "     GRE           Name     WorkExp admit/reject                  college  \\\n",
       "0  310.0         Achira  36 months         admit  Northeastern University   \n",
       "1  310.0    achira shah  24 months         admit  Northeastern University   \n",
       "2  304.0      Deep Vira    1 month         admit  Northeastern University   \n",
       "3  306.0  Anushka Menon         NA         admit  Northeastern University   \n",
       "4    NaN     Piyush Rai  24 months         admit  Northeastern University   \n",
       "5    NaN    Isha Shetty         NA         admit  Northeastern University   \n",
       "\n",
       "   Period                                      CollegeInfo  \\\n",
       "0    Fall      Northeastern University Information Systems   \n",
       "1    Fall      Northeastern University Information Systems   \n",
       "2    Fall   Northeastern University Engineering Management   \n",
       "3  Spring            Northeastern University Biotechnology   \n",
       "4  Spring            Northeastern University Digital Media   \n",
       "5    Fall  Northeastern University Pharmaceutical Sciences   \n",
       "\n",
       "                     Course  Year  TOEFL  IELTS  \n",
       "0       Information Systems  2018   96.0    NaN  \n",
       "1       Information Systems  2018   96.0    NaN  \n",
       "2    Engineering Management  2018  100.0    NaN  \n",
       "3             Biotechnology  2019   99.0    NaN  \n",
       "4             Digital Media  2019    NaN    7.5  \n",
       "5   Pharmaceutical Sciences  2018    NaN    NaN  "
      ]
     },
     "execution_count": 20,
     "metadata": {},
     "output_type": "execute_result"
    }
   ],
   "source": [
    "checking.head(6)"
   ]
  },
  {
   "cell_type": "code",
   "execution_count": 21,
   "metadata": {
    "collapsed": false
   },
   "outputs": [
    {
     "name": "stdout",
     "output_type": "stream",
     "text": [
      "<class 'pandas.core.frame.DataFrame'>\n",
      "Int64Index: 52613 entries, 0 to 52642\n",
      "Data columns (total 14 columns):\n",
      "CGPA            52613 non-null object\n",
      "CourseName      52613 non-null object\n",
      "ENG_TEST        50275 non-null float64\n",
      "GRE             50937 non-null float64\n",
      "Name            52611 non-null object\n",
      "WorkExp         52613 non-null object\n",
      "admit/reject    52613 non-null object\n",
      "college         52613 non-null object\n",
      "Period          52611 non-null object\n",
      "CollegeInfo     52613 non-null object\n",
      "Course          52613 non-null object\n",
      "Year            52491 non-null object\n",
      "TOEFL           40121 non-null float64\n",
      "IELTS           10154 non-null float64\n",
      "dtypes: float64(4), object(10)\n",
      "memory usage: 6.0+ MB\n"
     ]
    }
   ],
   "source": [
    "studentDetail_df.info()"
   ]
  },
  {
   "cell_type": "code",
   "execution_count": 22,
   "metadata": {
    "collapsed": false,
    "scrolled": true
   },
   "outputs": [],
   "source": [
    "studentDetail_df['CGPA_100'] = studentDetail_df['CGPA'][studentDetail_df['CGPA'].str.contains('%')]\n",
    "studentDetail_df['CGPA_10'] = studentDetail_df['CGPA'][studentDetail_df['CGPA'].str.contains('CGPA')]"
   ]
  },
  {
   "cell_type": "code",
   "execution_count": 23,
   "metadata": {
    "collapsed": false
   },
   "outputs": [],
   "source": [
    "studentDetail_df['CGPA_10'] = studentDetail_df.CGPA_10.str.split(\" \").str[0]\n",
    "studentDetail_df['CGPA_100'] = studentDetail_df.CGPA_100.str.split(\" \").str[0]"
   ]
  },
  {
   "cell_type": "code",
   "execution_count": 37,
   "metadata": {
    "collapsed": false
   },
   "outputs": [
    {
     "data": {
      "text/html": [
       "<div>\n",
       "<table border=\"1\" class=\"dataframe\">\n",
       "  <thead>\n",
       "    <tr style=\"text-align: right;\">\n",
       "      <th></th>\n",
       "      <th>ENG_TEST</th>\n",
       "      <th>GRE</th>\n",
       "      <th>Name</th>\n",
       "      <th>WorkExp</th>\n",
       "      <th>admit/reject</th>\n",
       "      <th>college</th>\n",
       "      <th>Period</th>\n",
       "      <th>Course</th>\n",
       "      <th>Year</th>\n",
       "      <th>TOEFL</th>\n",
       "      <th>IELTS</th>\n",
       "      <th>CGPA_100</th>\n",
       "      <th>CGPA_10</th>\n",
       "    </tr>\n",
       "  </thead>\n",
       "  <tbody>\n",
       "    <tr>\n",
       "      <th>0</th>\n",
       "      <td>96.0</td>\n",
       "      <td>310.0</td>\n",
       "      <td>Achira</td>\n",
       "      <td>36.0</td>\n",
       "      <td>admit</td>\n",
       "      <td>Northeastern University</td>\n",
       "      <td>Fall</td>\n",
       "      <td>Information Systems</td>\n",
       "      <td>2018</td>\n",
       "      <td>96.0</td>\n",
       "      <td>NaN</td>\n",
       "      <td>67</td>\n",
       "      <td>NaN</td>\n",
       "    </tr>\n",
       "    <tr>\n",
       "      <th>1</th>\n",
       "      <td>96.0</td>\n",
       "      <td>310.0</td>\n",
       "      <td>achira shah</td>\n",
       "      <td>24.0</td>\n",
       "      <td>admit</td>\n",
       "      <td>Northeastern University</td>\n",
       "      <td>Fall</td>\n",
       "      <td>Information Systems</td>\n",
       "      <td>2018</td>\n",
       "      <td>96.0</td>\n",
       "      <td>NaN</td>\n",
       "      <td>65</td>\n",
       "      <td>NaN</td>\n",
       "    </tr>\n",
       "    <tr>\n",
       "      <th>2</th>\n",
       "      <td>100.0</td>\n",
       "      <td>304.0</td>\n",
       "      <td>Deep Vira</td>\n",
       "      <td>1.0</td>\n",
       "      <td>admit</td>\n",
       "      <td>Northeastern University</td>\n",
       "      <td>Fall</td>\n",
       "      <td>Engineering Management</td>\n",
       "      <td>2018</td>\n",
       "      <td>100.0</td>\n",
       "      <td>NaN</td>\n",
       "      <td>NaN</td>\n",
       "      <td>7.85</td>\n",
       "    </tr>\n",
       "    <tr>\n",
       "      <th>3</th>\n",
       "      <td>99.0</td>\n",
       "      <td>306.0</td>\n",
       "      <td>Anushka Menon</td>\n",
       "      <td>NaN</td>\n",
       "      <td>admit</td>\n",
       "      <td>Northeastern University</td>\n",
       "      <td>Spring</td>\n",
       "      <td>Biotechnology</td>\n",
       "      <td>2019</td>\n",
       "      <td>99.0</td>\n",
       "      <td>NaN</td>\n",
       "      <td>NaN</td>\n",
       "      <td>7.02</td>\n",
       "    </tr>\n",
       "    <tr>\n",
       "      <th>4</th>\n",
       "      <td>7.5</td>\n",
       "      <td>NaN</td>\n",
       "      <td>Piyush Rai</td>\n",
       "      <td>24.0</td>\n",
       "      <td>admit</td>\n",
       "      <td>Northeastern University</td>\n",
       "      <td>Spring</td>\n",
       "      <td>Digital Media</td>\n",
       "      <td>2019</td>\n",
       "      <td>NaN</td>\n",
       "      <td>7.5</td>\n",
       "      <td>NaN</td>\n",
       "      <td>7.75</td>\n",
       "    </tr>\n",
       "  </tbody>\n",
       "</table>\n",
       "</div>"
      ],
      "text/plain": [
       "   ENG_TEST    GRE           Name  WorkExp admit/reject  \\\n",
       "0      96.0  310.0         Achira     36.0        admit   \n",
       "1      96.0  310.0    achira shah     24.0        admit   \n",
       "2     100.0  304.0      Deep Vira      1.0        admit   \n",
       "3      99.0  306.0  Anushka Menon      NaN        admit   \n",
       "4       7.5    NaN     Piyush Rai     24.0        admit   \n",
       "\n",
       "                   college  Period                   Course  Year  TOEFL  \\\n",
       "0  Northeastern University    Fall      Information Systems  2018   96.0   \n",
       "1  Northeastern University    Fall      Information Systems  2018   96.0   \n",
       "2  Northeastern University    Fall   Engineering Management  2018  100.0   \n",
       "3  Northeastern University  Spring            Biotechnology  2019   99.0   \n",
       "4  Northeastern University  Spring            Digital Media  2019    NaN   \n",
       "\n",
       "   IELTS CGPA_100 CGPA_10  \n",
       "0    NaN       67     NaN  \n",
       "1    NaN       65     NaN  \n",
       "2    NaN      NaN    7.85  \n",
       "3    NaN      NaN    7.02  \n",
       "4    7.5      NaN    7.75  "
      ]
     },
     "execution_count": 37,
     "metadata": {},
     "output_type": "execute_result"
    }
   ],
   "source": [
    "studentDetail_df.head()"
   ]
  },
  {
   "cell_type": "code",
   "execution_count": 32,
   "metadata": {
    "collapsed": false
   },
   "outputs": [],
   "source": [
    "studentDetail_df['WorkExp'] = studentDetail_df['WorkExp'].str.split(\" \").str[0]\n",
    "studentDetail_df['WorkExp'] = pd.to_numeric(studentDetail_df['WorkExp'], errors='coerce')"
   ]
  },
  {
   "cell_type": "code",
   "execution_count": 34,
   "metadata": {
    "collapsed": true
   },
   "outputs": [],
   "source": [
    "checking = studentDetail_df.copy()"
   ]
  },
  {
   "cell_type": "code",
   "execution_count": 36,
   "metadata": {
    "collapsed": false
   },
   "outputs": [],
   "source": [
    "studentDetail_df.drop(['CourseName','CGPA','CollegeInfo'], axis = 1, inplace = True)"
   ]
  },
  {
   "cell_type": "code",
   "execution_count": 38,
   "metadata": {
    "collapsed": true
   },
   "outputs": [],
   "source": [
    "studentDetail_df.to_csv('processedData.csv',index=False)"
   ]
  },
  {
   "cell_type": "code",
   "execution_count": null,
   "metadata": {
    "collapsed": true
   },
   "outputs": [],
   "source": []
  }
 ],
 "metadata": {
  "kernelspec": {
   "display_name": "Python 3",
   "language": "python",
   "name": "python3"
  },
  "language_info": {
   "codemirror_mode": {
    "name": "ipython",
    "version": 3
   },
   "file_extension": ".py",
   "mimetype": "text/x-python",
   "name": "python",
   "nbconvert_exporter": "python",
   "pygments_lexer": "ipython3",
   "version": "3.5.1"
  }
 },
 "nbformat": 4,
 "nbformat_minor": 0
}
