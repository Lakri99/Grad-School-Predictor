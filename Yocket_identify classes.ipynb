{
 "cells": [
  {
   "cell_type": "code",
   "execution_count": null,
   "metadata": {
    "collapsed": true
   },
   "outputs": [],
   "source": [
    "import requests\n",
    "from urllib.request import urlopen as uReq\n",
    "from bs4 import BeautifulSoup as soup\n",
    "import re\n",
    "import urllib.request"
   ]
  },
  {
   "cell_type": "code",
   "execution_count": null,
   "metadata": {
    "collapsed": true
   },
   "outputs": [],
   "source": [
    "headers = {'User-Agent': 'Mozilla/5.0 (Windows; U; Windows NT 5.1; en-US; rv:1.9.0.7) Gecko/2009021910 Firefox/3.0.7'}\n",
    "url = \"https://yocket.in/applications-admits-rejects/university-of-california-riverside/2\""
   ]
  },
  {
   "cell_type": "code",
   "execution_count": null,
   "metadata": {
    "collapsed": false
   },
   "outputs": [],
   "source": [
    "request=urllib.request.Request(url,None,headers)\n"
   ]
  },
  {
   "cell_type": "code",
   "execution_count": null,
   "metadata": {
    "collapsed": false
   },
   "outputs": [],
   "source": [
    "response = urllib.request.urlopen(request)\n",
    "data = response.read() # The data u need\n",
    "page_soup = soup(data,\"lxml\")"
   ]
  },
  {
   "cell_type": "code",
   "execution_count": null,
   "metadata": {
    "collapsed": false
   },
   "outputs": [],
   "source": [
    "course = page_soup.findAll(\"div\",{\"class\":\"col-sm-9\"})\n",
    "course"
   ]
  },
  {
   "cell_type": "code",
   "execution_count": null,
   "metadata": {
    "collapsed": false
   },
   "outputs": [],
   "source": [
    "name = []\n",
    "course = []\n",
    "period = []\n",
    "gre =[]\n",
    "toefl = []\n",
    "cgpa = []\n",
    "workExp = []\n",
    "ielts = []"
   ]
  },
  {
   "cell_type": "code",
   "execution_count": null,
   "metadata": {
    "collapsed": false
   },
   "outputs": [],
   "source": [
    "#name, applied course and period of application\n",
    "# name,course_name,period = []\n",
    "courseTag = page_soup.findAll(\"div\",{\"class\":\"col-sm-9\"})\n",
    "for tag in courseTag:\n",
    "    name.append(tag.find(\"a\").text)\n",
    "    course.append(tag.find(\"small\").text.splitlines())"
   ]
  },
  {
   "cell_type": "code",
   "execution_count": null,
   "metadata": {
    "collapsed": false
   },
   "outputs": [],
   "source": [
    "course"
   ]
  },
  {
   "cell_type": "code",
   "execution_count": null,
   "metadata": {
    "collapsed": false
   },
   "outputs": [],
   "source": [
    "#gre, toefel cgpa work experience\n",
    "grading = page_soup.findAll(\"div\",{\"class\" : \"col-sm-3 col-xs-6\"})\n",
    "for tag in grading:\n",
    "    heading = tag.find(\"strong\").text\n",
    "#     print(heading)\n",
    "    data = tag.findNext(\"br\").next_sibling\n",
    "    if (heading == \"GRE\"):\n",
    "        gre.append(data)\n",
    "    \n",
    "    elif(heading == \"TOEFL\" or heading == \"IELTS\" or heading == \"ENG TEST\"):\n",
    "        toefl.append(data.string)\n",
    "    \n",
    "    elif(\"UNDERGRAD\"):\n",
    "        cgpa.append(data.string)\n",
    "    \n",
    "    elif(\"WORK EX\"):\n",
    "        workExp.append(data.string)\n",
    "    \n",
    "    elif (\"IELTS\"):\n",
    "        ielts.append(data.string)"
   ]
  },
  {
   "cell_type": "code",
   "execution_count": null,
   "metadata": {
    "collapsed": false
   },
   "outputs": [],
   "source": [
    "def getAdmitData(page_soup):\n",
    "    name = []\n",
    "    course = []\n",
    "    period = []\n",
    "    gre =[]\n",
    "    toefl = []\n",
    "    cgpa = []\n",
    "    workExp = []\n",
    "    ielts = []\n",
    "    courseTag = page_soup.findAll(\"div\",{\"class\":\"col-sm-9\"}) #div for name,Course(college,course,period)\n",
    "    grading = page_soup.findAll(\"div\",{\"class\" : \"col-sm-3 col-xs-6\"}) #div for gre,toefl,cgpa,work exp\n",
    "    for tag in courseTag:\n",
    "        name.append(tag.find(\"a\").text) #Tag for name of student\n",
    "        course.append(tag.find(\"small\").text) #Tag for course\n",
    "    for tag in grading:\n",
    "        heading = tag.find(\"strong\").text #name of column\n",
    "        data = tag.findNext(\"br\").next_sibling #value\n",
    "        if (heading == \"GRE\"):\n",
    "            gre.append(data)\n",
    "    \n",
    "        elif(heading == \"TOEFL\" or heading == \"IELTS\" or heading == \"ENG TEST\"):\n",
    "            toefl.append(data.string)\n",
    "    \n",
    "        elif(\"UNDERGRAD\"):\n",
    "            cgpa.append(data.string)\n",
    "    \n",
    "        elif(\"WORK EX\"):\n",
    "            workExp.append(data.string)\n",
    "    \n",
    "        elif (\"IELTS\"):\n",
    "            ielts.append(data.string)"
   ]
  },
  {
   "cell_type": "code",
   "execution_count": null,
   "metadata": {
    "collapsed": false
   },
   "outputs": [],
   "source": [
    "student_url = \"https://yocket.in/profiles/bodepudi\"\n",
    "headers = {'User-Agent': 'Mozilla/5.0 (Windows; U; Windows NT 5.1; en-US; rv:1.9.0.7) Gecko/2009021910 Firefox/3.0.7'}\n"
   ]
  },
  {
   "cell_type": "code",
   "execution_count": null,
   "metadata": {
    "collapsed": false
   },
   "outputs": [],
   "source": [
    "#working\n",
    "student_request=urllib.request.Request(student_url,None,headers)\n",
    "student_response = urllib.request.urlopen(student_request)\n",
    "student_data = student_response.read() # The data u need\n",
    "student_soup = soup(student_data,\"lxml\")\n",
    "student_soup"
   ]
  },
  {
   "cell_type": "code",
   "execution_count": null,
   "metadata": {
    "collapsed": false
   },
   "outputs": [],
   "source": [
    "#get all the data for a particular student\n",
    "\n",
    "def getStudentData(student_soup):\n",
    "    student_element = student_soup.findAll(\"div\", {\"class\" : \"col-sm-4 col-xs-4\"})\n",
    "#     print(student_element)\n",
    "    for tag in student_element:\n",
    "        heading = tag.find(\"small\").text #column heading\n",
    "        data = tag.findNext(\"br\").next_sibling.string #value\n",
    "        if(heading == \"GRE\"):\n",
    "            gre = data\n",
    "        elif(heading == \"IELTS\" or heading == \"TOEFL\" or heading == \"ENG TEST\"):\n",
    "            eng_test = data\n",
    "        elif(heading == \"UG Score\"):\n",
    "            cgpa = data\n",
    "        elif(heading == \"Work Exp.\"):\n",
    "            workExp = data\n",
    "        elif(heading == \"Tech Papers\"):\n",
    "            TechPaper = data\n",
    "getStudentData(student_soup)    "
   ]
  },
  {
   "cell_type": "code",
   "execution_count": null,
   "metadata": {
    "collapsed": false
   },
   "outputs": [],
   "source": [
    "#code snippet to get href from hyperlink\n",
    "student_element = student_soup.find(\"a\",href = True)\n",
    "student_element['href']\n"
   ]
  },
  {
   "cell_type": "code",
   "execution_count": null,
   "metadata": {
    "collapsed": false
   },
   "outputs": [],
   "source": [
    "#redirecting to login -- not working why?\n",
    "student_page =  requests.get(student_url, headers=headers, verify=False)\n",
    "student_soup = soup(student_page.content, 'html.parser')\n",
    "student_soup"
   ]
  },
  {
   "cell_type": "code",
   "execution_count": null,
   "metadata": {
    "collapsed": true
   },
   "outputs": [],
   "source": []
  }
 ],
 "metadata": {
  "kernelspec": {
   "display_name": "Python 3",
   "language": "python",
   "name": "python3"
  },
  "language_info": {
   "codemirror_mode": {
    "name": "ipython",
    "version": 3
   },
   "file_extension": ".py",
   "mimetype": "text/x-python",
   "name": "python",
   "nbconvert_exporter": "python",
   "pygments_lexer": "ipython3",
   "version": "3.5.1"
  }
 },
 "nbformat": 4,
 "nbformat_minor": 0
}
