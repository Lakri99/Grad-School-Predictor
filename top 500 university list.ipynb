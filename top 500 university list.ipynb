{
 "cells": [
  {
   "cell_type": "code",
   "execution_count": 22,
   "metadata": {
    "collapsed": true
   },
   "outputs": [],
   "source": [
    "import requests\n",
    "from urllib.request import urlopen as uReq\n",
    "from bs4 import BeautifulSoup as soup\n",
    "import re\n",
    "import urllib.request\n",
    "import pandas as pd\n",
    "import numpy as np\n",
    "import time"
   ]
  },
  {
   "cell_type": "code",
   "execution_count": 2,
   "metadata": {
    "collapsed": true
   },
   "outputs": [],
   "source": [
    "def open_url_2_soup(url):\n",
    "    headers = {'User-Agent': 'Mozilla/5.0 (Windows; U; Windows NT 5.1; en-US; rv:1.9.0.7) Gecko/2009021910 Firefox/3.0.7'}\n",
    "    page = requests.get(url,headers = headers,verify = False)\n",
    "    page_soup = soup(page.content,'lxml')\n",
    "    temp = page_soup.findAll(\"div\",{\"class\":\"col-sm-9\"})\n",
    "#     print(temp[2].small.text)\n",
    "    return page_soup"
   ]
  },
  {
   "cell_type": "code",
   "execution_count": 40,
   "metadata": {
    "collapsed": false,
    "scrolled": false
   },
   "outputs": [],
   "source": [
    "\n",
    "def getUniversityLookup(url):\n",
    "    univ_name = []\n",
    "    univ_link = []\n",
    "    univ_soup = open_url_2_soup(url)\n",
    "    univ_detail_tag = univ_soup.findAll(\"div\",{\"class\":\"col-sm-9 col-xs-12\"})\n",
    "    for tag in univ_detail_tag:\n",
    "        a = tag.find(\"a\",href=True)\n",
    "        univ_name.append(a.text)\n",
    "        univ_link.append(a['href'])\n",
    "    #data cleaning \n",
    "    univ_df = pd.DataFrame({\"name\":np.asarray(univ_name),\"href\": np.asarray(univ_link)})\n",
    "    print(univ_df['name'].str.split('(',n = 1, expand = True))\n",
    "    univ_df[['name','keys']] = univ_df['name'].str.split('(',n = 1, expand = True)\n",
    "    univ_df['keys'] = univ_df['keys'].apply(lambda x: x[:-1])\n",
    "    return univ_df\n",
    "# getUniversityLookup(\"https://yocket.in/universities?page=5\")"
   ]
  },
  {
   "cell_type": "code",
   "execution_count": 51,
   "metadata": {
    "collapsed": false,
    "scrolled": true
   },
   "outputs": [],
   "source": [
    "def getUniversityList():\n",
    "    UniversityList_df = pd.DataFrame()\n",
    "    count = 1\n",
    "    while(count <= 16):\n",
    "        url = \"https://yocket.in/universities?page=\" + str(count)\n",
    "        temp_df = getUniversityLookup(url)\n",
    "#         print(temp_df)\n",
    "        UniversityList_df = UniversityList_df.append(temp_df,ignore_index=True)\n",
    "#         print(UniversityList_df)\n",
    "        time.sleep(5) \n",
    "        count += 1\n",
    "    return UniversityList_df\n",
    "\n",
    "\n",
    "\n",
    "\n",
    "# open_url_2_soup(\"https://yocket.in/applications-admits-rejects/university-of-california-riverside/2\")"
   ]
  },
  {
   "cell_type": "code",
   "execution_count": 52,
   "metadata": {
    "collapsed": true
   },
   "outputs": [],
   "source": [
    "def write_2_csv(df,name):\n",
    "    df.to_csv(name + '.csv', encoding='utf-8')"
   ]
  },
  {
   "cell_type": "code",
   "execution_count": null,
   "metadata": {
    "collapsed": false
   },
   "outputs": [
    {
     "name": "stderr",
     "output_type": "stream",
     "text": [
      "C:\\Users\\lakshmib\\AppData\\Local\\Continuum\\Anaconda3\\lib\\site-packages\\requests\\packages\\urllib3\\connectionpool.py:791: InsecureRequestWarning: Unverified HTTPS request is being made. Adding certificate verification is strongly advised. See: https://urllib3.readthedocs.org/en/latest/security.html\n",
      "  InsecureRequestWarning)\n"
     ]
    },
    {
     "name": "stdout",
     "output_type": "stream",
     "text": [
      "                                               0                1\n",
      "0                      Arizona State University              ASU)\n",
      "1                       Northeastern University              NEU)\n",
      "2         Texas A&M University, College Station             TAMU)\n",
      "3             University of Southern California              USC)\n",
      "4                 University of Texas at Dallas              UTD)\n",
      "5              University of Texas at Arlington     UT Arlington)\n",
      "6                    University at Buffalo SUNY     SUNY Buffalo)\n",
      "7      North Carolina State University, Raleigh             NCSU)\n",
      "8               Georgia Institute of Technology           GaTech)\n",
      "9                 University of Texas at Austin        UT Austin)\n",
      "10            University of Illinois at Chicago              UIC)\n",
      "11                          New York University              NYU)\n",
      "12             Illinois Institute of Technology      IIT Chicago)\n",
      "13                    San Jose State University             SJSU)\n",
      "14    University of North Carolina at Charlotte             UNCC)\n",
      "15                   Carnegie Mellon University              CMU)\n",
      "16             Purdue University West Lafayette           Purdue)\n",
      "17         University of Maryland, College Park             UMCP)\n",
      "18                        University of Florida              UFL)\n",
      "19          University of California, San Diego             UCSD)\n",
      "20                Pennsylvania State University       Penn State)\n",
      "21         University of Minnesota, Twin Cities   UM Twin Cities)\n",
      "22                          Syracuse University         Syracuse)\n",
      "23             University of California, Irvine        UC Irvine)\n",
      "24            Rochester Institute of Technology              RIT)\n",
      "25           University of Michigan - Ann Arbor           U Mich)\n",
      "26                                Virginia Tech       Virg. Tech)\n",
      "27   University of Illinois at Urbana-Champaign             UIUC)\n",
      "28        University of California, Los Angeles             UCLA)\n",
      "29  State University of New York at Stony Brook          SUNY-SB)\n"
     ]
    },
    {
     "name": "stderr",
     "output_type": "stream",
     "text": [
      "C:\\Users\\lakshmib\\AppData\\Local\\Continuum\\Anaconda3\\lib\\site-packages\\requests\\packages\\urllib3\\connectionpool.py:791: InsecureRequestWarning: Unverified HTTPS request is being made. Adding certificate verification is strongly advised. See: https://urllib3.readthedocs.org/en/latest/security.html\n",
      "  InsecureRequestWarning)\n"
     ]
    },
    {
     "name": "stdout",
     "output_type": "stream",
     "text": [
      "                                          0             1\n",
      "0                    Iowa State University    Iowa State)\n",
      "1         Rutgers University-New Brunswick    Rutgers NB)\n",
      "2                      Columbia University      Columbia)\n",
      "3                    University of Houston    U. Houston)\n",
      "4                Michigan State University      Mich. SU)\n",
      "5      University of Massachusetts Amherst      Umass Am)\n",
      "6                 University of Cincinnati      U.Cincin)\n",
      "7           University of Colorado Boulder       Boulder)\n",
      "8       New Jersey Institute of Technology          NJIT)\n",
      "9          University of Wisconsin-Madison        UW Mad)\n",
      "10                      Clemson University       Clemson)\n",
      "11              University of Pennsylvania         UPenn)\n",
      "12  California State University, Fullerton     Fullerton)\n",
      "13                   Ohio State University           OSU)\n",
      "14     University of California – Berkeley   UC Berkeley)\n",
      "15         Stevens Institute of Technology    Stevens IT)\n",
      "16                      Cornell University       Cornell)\n",
      "17         University of California, Davis      UC Davis)\n",
      "18             University of South Florida           USF)\n",
      "19              San Diego State University          SDSU)\n",
      "20       Michigan Technological University           MTU)\n",
      "21   Massachusetts Institute of Technology           MIT)\n",
      "22                     Stanford University      Stanford)\n",
      "23                University of Washington    UW Seattle)\n",
      "24                      University of Utah          Utah)\n",
      "25              Rutgers University, Newark       Rutgers)\n",
      "26                 George Mason University           GMU)\n",
      "27                 Northwestern University           NWU)\n",
      "28                  Santa Clara University   Santa Clara)\n",
      "29                       Boston University            BU)\n"
     ]
    },
    {
     "name": "stderr",
     "output_type": "stream",
     "text": [
      "C:\\Users\\lakshmib\\AppData\\Local\\Continuum\\Anaconda3\\lib\\site-packages\\requests\\packages\\urllib3\\connectionpool.py:791: InsecureRequestWarning: Unverified HTTPS request is being made. Adding certificate verification is strongly advised. See: https://urllib3.readthedocs.org/en/latest/security.html\n",
      "  InsecureRequestWarning)\n"
     ]
    },
    {
     "name": "stdout",
     "output_type": "stream",
     "text": [
      "                                                    0              1\n",
      "0                          Colorado State University         Col.SU)\n",
      "1       Polytechnic Institute Of New York University       NYU Poly)\n",
      "2                                  Auburn University         Auburn)\n",
      "3            University of California, Santa Barbara           UCSB)\n",
      "4            California State University, Long Beach         CSU LB)\n",
      "5           University of Maryland, Baltimore County           UMBC)\n",
      "6               West Virginia University, Morgantown            WVU)\n",
      "7                 California Institute Of Technology        CalTech)\n",
      "8         State University of New York at Binghamton    SUNY Bingh.)\n",
      "9           California State University, Los Angeles         CSU LA)\n",
      "10                 Texas A&M University - Kingsville          TAMUK)\n",
      "11                    Indiana University Bloomington            IUB)\n",
      "12                             University of Arizona         U.Ariz)\n",
      "13                          University of Pittsburgh          UPitt)\n",
      "14              Oklahoma State University-Stillwater       Oklahoma)\n",
      "15                          Georgia State University            GSU)\n",
      "16                             Texas Tech University    TTU Whitcre)\n",
      "17               University of California, Riverside   UC Riverside)\n",
      "18                          Johns Hopkins University      J.Hopkins)\n",
      "19  Indiana University- Purdue University Indianap...         IUPUI)\n",
      "20                  University of Michigan, Dearborn    UM Dearborn)\n",
      "21       University of North Carolina at Chapel Hill     UNC-Chapel)\n",
      "22                      George Washington University            GWU)\n",
      "23              University of California, Santa Cruz           UCSC)\n",
      "24                                   Duke University           Duke)\n",
      "25                           Oregon State University      Oregon SU)\n",
      "26                                Harvard University        Harvard)\n",
      "27             California State University, East Bay         CSU EB)\n",
      "28                           Kansas State University      Kansas SU)\n",
      "29                     University of Central Florida            UCF)\n"
     ]
    },
    {
     "name": "stderr",
     "output_type": "stream",
     "text": [
      "C:\\Users\\lakshmib\\AppData\\Local\\Continuum\\Anaconda3\\lib\\site-packages\\requests\\packages\\urllib3\\connectionpool.py:791: InsecureRequestWarning: Unverified HTTPS request is being made. Adding certificate verification is strongly advised. See: https://urllib3.readthedocs.org/en/latest/security.html\n",
      "  InsecureRequestWarning)\n"
     ]
    },
    {
     "name": "stdout",
     "output_type": "stream",
     "text": [
      "                                                 0                      1\n",
      "0                      Cleveland State University              Cleveland)\n",
      "1                    Northern Illinois University                    NIU)\n",
      "2   Missouri University of Science and Technology                   MUST)\n",
      "3                 Worcester Polytechnic Institute                    WPI)\n",
      "4                               Lehigh University                 Lehigh)\n",
      "5                               Drexel University                 Drexel)\n",
      "6                   Southern Methodist University             SMU Dallas)\n",
      "7              University of Houston - Clear Lake                   UHCL)\n",
      "8                          Wayne State University               Wayne SU)\n",
      "9         California State University, Sacramento              Sac State)\n",
      "10                         University of Virginia            U. Virginia)\n",
      "11                Case Western Reserve University                   CWRU)\n",
      "12        California State University, Northridge                   CSUN)\n",
      "13             University of Massachusetts Lowell              UM Lowell)\n",
      "14                        University of Rochester            U.Rochester)\n",
      "15                      University of Connecticut                  UConn)\n",
      "16                                Rice University                   Rice)\n",
      "17    New York Institute of Technology, Manhattan                   NYIT)\n",
      "18                   State University of New York   Albany) (SUNY Albany)\n",
      "19                                Pace University                   Pace)\n",
      "20                           Princeton University              Princeton)\n",
      "21            California State University, Fresno           Fresno State)\n",
      "22                       Florida State University                    FSU)\n",
      "23                               Brown University                  Brown)\n",
      "24                             University of Iowa              U of Iowa)\n",
      "25                        Wright State University              Wright SU)\n",
      "26              University of Alabama, Huntsville            UA Huntsvi.)\n",
      "27               University of Colorado at Denver              UC Denver)\n",
      "28                       Wichita State University                Wichita)\n",
      "29                           University of Dayton            U of Dayton)\n"
     ]
    },
    {
     "name": "stderr",
     "output_type": "stream",
     "text": [
      "C:\\Users\\lakshmib\\AppData\\Local\\Continuum\\Anaconda3\\lib\\site-packages\\requests\\packages\\urllib3\\connectionpool.py:791: InsecureRequestWarning: Unverified HTTPS request is being made. Adding certificate verification is strongly advised. See: https://urllib3.readthedocs.org/en/latest/security.html\n",
      "  InsecureRequestWarning)\n"
     ]
    },
    {
     "name": "stdout",
     "output_type": "stream",
     "text": [
      "                                                  0              1\n",
      "0                  Florida Institute of Technology            FIT)\n",
      "1                           University of Oklahoma       U. Okhla)\n",
      "2                 Rensselaer Polytechnic Institute            RPI)\n",
      "3                                  Yale University           Yale)\n",
      "4            University of Illinois at Springfield            UIS)\n",
      "5                        Portland State University     PSU Maseeh)\n",
      "6                             University of Kansas      U. Kansas)\n",
      "7                      Washington State University     Wshgton SU)\n",
      "8                 University of Missouri, Columbia      UM Columb)\n",
      "9                                Dartmouth College      Dartmouth)\n",
      "10                     Western Michigan University         W Mich)\n",
      "11                       University of North Texas            UNT)\n",
      "12                           Kent State University        Kent SU)\n",
      "13                    University of South Carolina   U. South Car)\n",
      "14             University of Missouri, Kansas City           UMKC)\n",
      "15                                Lamar University          Lamar)\n",
      "16                Florida International University            FIU)\n",
      "17              Washington University in St. Louis           WUSL)\n",
      "18                  San Francisco State University           SFSU)\n",
      "19                          University of Delaware          U.Del)\n",
      "20              University of Texas at San Antonio           UTSA)\n",
      "21                         University of New Haven      New Haven)\n",
      "22                           Utah State University        Utah SU)\n",
      "23            University of Tennessee at Knoxville    U. Tenn Knx)\n",
      "24                 Texas A&M University - Commerce          TAMUC)\n",
      "25  New York Institute of Technology, Old Westbury        NYIT WB)\n",
      "26      Louisiana State University and A&M College        LSU AMC)\n",
      "27           University of Massachusetts Dartmouth       UM Dartm)\n",
      "28                        University of Bridgeport     Bridgeport)\n",
      "29                    Mississippi State University      Missi. SU)\n"
     ]
    },
    {
     "name": "stderr",
     "output_type": "stream",
     "text": [
      "C:\\Users\\lakshmib\\AppData\\Local\\Continuum\\Anaconda3\\lib\\site-packages\\requests\\packages\\urllib3\\connectionpool.py:791: InsecureRequestWarning: Unverified HTTPS request is being made. Adding certificate verification is strongly advised. See: https://urllib3.readthedocs.org/en/latest/security.html\n",
      "  InsecureRequestWarning)\n"
     ]
    },
    {
     "name": "stdout",
     "output_type": "stream",
     "text": [
      "                                            0             1\n",
      "0            University of Nebraska, Lincoln    UN Lincoln)\n",
      "1        University of Massachusetts, Boston           UMB)\n",
      "2                  Arkansas State university       A-State)\n",
      "3          Lawrence Technological University           LTU)\n",
      "4                  The University of Chicago     U Chicago)\n",
      "5             University of Central Missouri          UCMO)\n",
      "6                University of San Francisco         USFCA)\n",
      "7        Northwest Missouri State University   NW Missouri)\n",
      "8                          Temple University    Temple Uni)\n",
      "9        University of Alabama at Birmingham   UA Birmingh)\n",
      "10                    Alabama A&M University          AAMU)\n",
      "11         University of Wisconsin-Milwaukee           UWM)\n",
      "12                           Ohio University     Ohio Russ)\n",
      "13                  Colorado School of Mines     CSM Mines)\n",
      "14                    Texas State University      TX State)\n",
      "15                  University of Notre Dame    Notre Dame)\n",
      "16  Southern Illinois University, Carbondale          SIUC)\n",
      "17               Central Michigan University        C Mich)\n",
      "18             University of Georgia, Athens     GA Athens)\n",
      "19                        Bradley University       Bradley)\n",
      "20                     Vanderbilt University    Vanderbilt)\n",
      "21        The City College of New York, CUNY          CCNY)\n",
      "22     Texas A&M University - Corpus Christi        TAMUCC)\n",
      "23                         DePaul University        DePaul)\n",
      "24                     Penn State Harrisburg       PSU HBG)\n",
      "25   California Polytechnic State University      Cal Poly)\n",
      "26                          Tufts University         Tufts)\n",
      "27          Oklahoma State University, Tulsa     OSU Tulsa)\n",
      "28                    University of Arkansas         U Ark)\n",
      "29                  University of New Mexico           UNM)\n"
     ]
    },
    {
     "name": "stderr",
     "output_type": "stream",
     "text": [
      "C:\\Users\\lakshmib\\AppData\\Local\\Continuum\\Anaconda3\\lib\\site-packages\\requests\\packages\\urllib3\\connectionpool.py:791: InsecureRequestWarning: Unverified HTTPS request is being made. Adding certificate verification is strongly advised. See: https://urllib3.readthedocs.org/en/latest/security.html\n",
      "  InsecureRequestWarning)\n"
     ]
    },
    {
     "name": "stdout",
     "output_type": "stream",
     "text": [
      "                                                    0              1\n",
      "0                       University of Texas at Tyler       UT Tyler)\n",
      "1                     Fairleigh Dickinson University            FDU)\n",
      "2                      North Dakota State University           NDSU)\n",
      "3                        Eastern Michigan University         E Mich)\n",
      "4         Southern Illinois University, Edwardsville           SIUE)\n",
      "5                                University of Akron     U of Akron)\n",
      "6                        University of New Hampshire     U New Hamp)\n",
      "7                           Chicago State University     Chicago St)\n",
      "8                   Northeastern Illinois University           NEIU)\n",
      "9           State University of New York – New Paltz        SUNY NP)\n",
      "10                          Brigham Young University     BYU Fulton)\n",
      "11                            University of Kentucky    U. Kentucky)\n",
      "12                   University of Nevada, Las Vegas          UN LV)\n",
      "13                           Old Dominion University            ODU)\n",
      "14   California State Polytechnic University, Pomona   Cal Poly CPP)\n",
      "15  State University of New York Polytechnic Insti...     SUNY Poly)\n",
      "16                                Oakland University        Oakland)\n",
      "17                    Bowling Green State University           BGSU)\n",
      "18     City University Of New York, Brooklyn College        CUNY Br)\n",
      "19                       Purdue University Northwest            PNW)\n",
      "20                          Indiana State University      Ind State)\n",
      "21       California State University, San Bernardino         CSU SB)\n",
      "22                       Western Illinois University            WIU)\n",
      "23               North Carolina A&T State University           NCAT)\n",
      "24                     South Dakota State University       SD State)\n",
      "25                               University of Idaho          Idaho)\n",
      "26                       New Mexico State University           NMSU)\n",
      "27                     University of Nebraska, Omaha       UN Omaha)\n",
      "28                       Kettering University, Flint      Kettering)\n",
      "29                              University of Denver       U Denver)\n"
     ]
    },
    {
     "name": "stderr",
     "output_type": "stream",
     "text": [
      "C:\\Users\\lakshmib\\AppData\\Local\\Continuum\\Anaconda3\\lib\\site-packages\\requests\\packages\\urllib3\\connectionpool.py:791: InsecureRequestWarning: Unverified HTTPS request is being made. Adding certificate verification is strongly advised. See: https://urllib3.readthedocs.org/en/latest/security.html\n",
      "  InsecureRequestWarning)\n"
     ]
    },
    {
     "name": "stdout",
     "output_type": "stream",
     "text": [
      "                                                    0                1\n",
      "0       California State University, Channel Islands           CSU CI)\n",
      "1                               University of Toledo        U. Toledo)\n",
      "2                          Louisiana Tech University          LA Tech)\n",
      "3                               University of Oregon        U. Oregon)\n",
      "4                                  Gannon University           Gannon)\n",
      "5                                 Seattle University        Seattle U)\n",
      "6                                University of Miami         U. Miami)\n",
      "7       California State University, Dominguez Hills           CSU DH)\n",
      "8                                Clarkson University         Clarkson)\n",
      "9                         University of Nevada, Reno          UN Reno)\n",
      "10               Minnesota State University, Mankato             MNSU)\n",
      "11                    University of Texas at El Paso       UT El Paso)\n",
      "12                     University of Michigan, Flint            Flint)\n",
      "13                  Long Island University, Brooklyn     LIU Brooklyn)\n",
      "14                  University of Missouri-St. Louis             UMSL)\n",
      "15                         The University of Alabama        U Alabama)\n",
      "16                         Illinois State University   Illinois State)\n",
      "17              University of Louisiana at Lafayette      U.SW Louisi)\n",
      "18               Montana State University at Bozeman       Montana SU)\n",
      "19                          University of Louisville     U Louisville)\n",
      "20        University of North Carolina at Greensboro             UNCG)\n",
      "21        University of Colorado at Colorado Springs             UCCS)\n",
      "22  West Virginia University Institute of Technology         WVU Tech)\n",
      "23           California State University, San Marcos           CSU SM)\n",
      "24                 Virginia International University              VIU)\n",
      "25                             Georgetown University       Georgetown)\n",
      "26                               National University           NU Cal)\n",
      "27                       Florida Atlantic University              FAU)\n",
      "28                               Marshall University         Marshall)\n",
      "29                                 Baylor University           Baylor)\n"
     ]
    },
    {
     "name": "stderr",
     "output_type": "stream",
     "text": [
      "C:\\Users\\lakshmib\\AppData\\Local\\Continuum\\Anaconda3\\lib\\site-packages\\requests\\packages\\urllib3\\connectionpool.py:791: InsecureRequestWarning: Unverified HTTPS request is being made. Adding certificate verification is strongly advised. See: https://urllib3.readthedocs.org/en/latest/security.html\n",
      "  InsecureRequestWarning)\n"
     ]
    },
    {
     "name": "stdout",
     "output_type": "stream",
     "text": [
      "                                                  0              1\n",
      "0               Tennessee Technological University        TN Tech)\n",
      "1                         Oklahoma City University           OKCU)\n",
      "2            University of Arkansas at Little Rock           UALR)\n",
      "3                    Grand Valley State University           GVSU)\n",
      "4                                 Miami University        Miami U)\n",
      "5                          Dakota State University            DSU)\n",
      "6                          Alcorn State University         Alcorn)\n",
      "7                            University of Memphis     U. Memphis)\n",
      "8                 University of Washington, Tacoma      UW Tacoma)\n",
      "9                California State University Chico      CSU Chico)\n",
      "10                            Villanova University      Villanova)\n",
      "11                Virginia Commonwealth University            VCU)\n",
      "12                  University of Minnesota Duluth     UMN Duluth)\n",
      "13                               Howard University         Howard)\n",
      "14                              Fordham University        Fordham)\n",
      "15                           Ball State University     Ball State)\n",
      "16  Florida Agricultural and Mechanical University           FAMU)\n",
      "17                       Loyola University Chicago            LUC)\n",
      "18                          Boise State University    Boise State)\n",
      "19               University of Washington, Bothell     UW Bothell)\n",
      "20             Northwestern Polytechnic University            NPU)\n",
      "21                       University of Mississippi    U. Mississi)\n",
      "22                      Pittsburg State University     Pitt State)\n",
      "23                      St. Cloud State University           SCSU)\n",
      "24                    Southern Arkansas University        SAU Mag)\n",
      "25                    Bridgewater State University        BridgeW)\n",
      "26                           University of Wyoming      U Wyoming)\n",
      "27                            Marquette University      Marquette)\n",
      "28                      Governors State University         Gov St)\n",
      "29                         Sacred Heart University   Sacred Heart)\n"
     ]
    },
    {
     "name": "stderr",
     "output_type": "stream",
     "text": [
      "C:\\Users\\lakshmib\\AppData\\Local\\Continuum\\Anaconda3\\lib\\site-packages\\requests\\packages\\urllib3\\connectionpool.py:791: InsecureRequestWarning: Unverified HTTPS request is being made. Adding certificate verification is strongly advised. See: https://urllib3.readthedocs.org/en/latest/security.html\n",
      "  InsecureRequestWarning)\n"
     ]
    },
    {
     "name": "stdout",
     "output_type": "stream",
     "text": [
      "                                               0               1\n",
      "0                           University of Tulsa        U. Tulsa)\n",
      "1    City University Of New York, Staten Island         CUNY SI)\n",
      "2                University of Houston-Victoria             UHV)\n",
      "3                   Northern Arizona University             NAU)\n",
      "4   City University Of New York, Queens College         QC CUNY)\n",
      "5                       The University of Maine         U Maine)\n",
      "6        The University of Southern Mississippi             USM)\n",
      "7                               Troy University            Troy)\n",
      "8            Maharishi University of Management             MUM)\n",
      "9                      East Carolina University             ECU)\n",
      "10                   University of North Dakota             UND)\n",
      "11                Colorado Technical University             CTU)\n",
      "12                 Appalachian State University       App State)\n",
      "13        Washington State University,Vancouver       WSU Vanco)\n",
      "14                             Rowan University           Rowan)\n",
      "15                   University of Rhode Island     U.Rhode Isl)\n",
      "16               California Lutheran University    Cal Lutheran)\n",
      "17              University of Alaska, Fairbanks             UAF)\n",
      "18                             Emory University           Emory)\n",
      "19             University of California, Merced       UC Merced)\n",
      "20                  University of South Alabama   South Alabama)\n",
      "21                    College of William & Mary             W&M)\n",
      "22                    Kennesaw State University        Kennesaw)\n",
      "23                           Hofstra University         Hofstra)\n",
      "24                  Midwestern State University            MWSU)\n",
      "25                    University of New Orleans             UNO)\n",
      "26                  Western Kentucky University             WKU)\n",
      "27                University of Hawaii at Manoa        UH Manoa)\n",
      "28                    Texas Southern University           TX SU)\n",
      "29           University of Texas - Pan American            UTPA)\n"
     ]
    },
    {
     "name": "stderr",
     "output_type": "stream",
     "text": [
      "C:\\Users\\lakshmib\\AppData\\Local\\Continuum\\Anaconda3\\lib\\site-packages\\requests\\packages\\urllib3\\connectionpool.py:791: InsecureRequestWarning: Unverified HTTPS request is being made. Adding certificate verification is strongly advised. See: https://urllib3.readthedocs.org/en/latest/security.html\n",
      "  InsecureRequestWarning)\n"
     ]
    },
    {
     "name": "stdout",
     "output_type": "stream",
     "text": [
      "                                                 0               1\n",
      "0                     Georgia Southern University     GA Southern)\n",
      "1                   Indiana University South Bend            IUSB)\n",
      "2                       Kentucky State University            KYSU)\n",
      "3         Washington State University, Tri-Cities   WSU Tricities)\n",
      "4          University of Tennessee at Chattanooga             UTC)\n",
      "5                    University of Dallas, Irving         UDallas)\n",
      "6                       Saint Joseph's University             SJU)\n",
      "7                             Brandeis University        Brandeis)\n",
      "8                   Saint Marys University, Texas      St Mary TX)\n",
      "9                            Roosevelt University       Roosevelt)\n",
      "10                      The University of Vermont         Vermont)\n",
      "11                              Tulane University          Tulane)\n",
      "12                    University of North Florida             UNF)\n",
      "13                         Bowie State University     Bowie State)\n",
      "14                East Tennessee State University            ETSU)\n",
      "15                        Philadelphia University          PhilaU)\n",
      "16                   Sam Houston State University            SHSU)\n",
      "17  New Mexico Institute of Mining and Technology           NMIMT)\n",
      "18            Armstrong Atlantic State University       Armstrong)\n",
      "19              Middle Tennessee State University            MTSU)\n",
      "20           Embry Riddle Aeronautical University            ERAU)\n",
      "21                     University of South Dakota             USD)\n",
      "22    South Dakota School of Mines and Technology        SD Mines)\n",
      "23        Fairleigh Dickinson University, Florham     FDU Florham)\n",
      "24                              Rivier University          Rivier)\n",
      "25              Southern New Hampshire University            SNHU)\n",
      "26                            Monmouth University        Monmouth)\n",
      "27                     City University of Seattle           CityU)\n",
      "28                    Youngstown State University             YSU)\n",
      "29                                   Indiana Tech    Indiana Tech)\n"
     ]
    },
    {
     "name": "stderr",
     "output_type": "stream",
     "text": [
      "C:\\Users\\lakshmib\\AppData\\Local\\Continuum\\Anaconda3\\lib\\site-packages\\requests\\packages\\urllib3\\connectionpool.py:791: InsecureRequestWarning: Unverified HTTPS request is being made. Adding certificate verification is strongly advised. See: https://urllib3.readthedocs.org/en/latest/security.html\n",
      "  InsecureRequestWarning)\n"
     ]
    },
    {
     "name": "stdout",
     "output_type": "stream",
     "text": [
      "                                                    0              1\n",
      "0                              Valparaiso University          Valpo)\n",
      "1        City University Of New York, Lehman College       CUNY Leh)\n",
      "2                           McNeese State University        McNeese)\n",
      "3                         Montclair State University      Montclair)\n",
      "4                                 Webster University        Webster)\n",
      "5                           Arkansas Tech University            ATU)\n",
      "6               Oregon Health and Science University          OGIST)\n",
      "7   Baruch College - The City University of New York    CUNY Baruch)\n",
      "8            Shippensburg University of Pennsylvania         Ship U)\n",
      "9                       Northern Kentucky University            NKU)\n",
      "10                            Golden Gate University            GGU)\n",
      "11                    Catholic University Of America            CUA)\n",
      "12                          James Madison University            JMU)\n",
      "13                      Nova Southeastern University           Nova)\n",
      "14                   Milwaukee School of Engineering           MSOE)\n",
      "15                         Columbus State University       Columbus)\n",
      "16             University of Texas Rio Grande Valley          UTRGV)\n",
      "17                    University of central oklahoma            UCO)\n",
      "18    University of Southern Mississippi, Gulf Coast       USM Gulf)\n",
      "19                       Prairie View A&M University          PVAMU)\n",
      "20                              Stratford University      Stratford)\n",
      "21             Georgia Southwestern State University            GSW)\n",
      "22               Kutztown University of Pennsylvania       Kutztown)\n",
      "23               University of Wisconsin-Platteville       UW Platt)\n",
      "24             Southern Connecticut State University    Southern CT)\n",
      "25                     California Baptist University     CalBaptist)\n",
      "26                             University of Atlanta         U of A)\n",
      "27                     Eastern Washington University            EWU)\n",
      "28                    Western New England University            WNE)\n",
      "29                           Murray State University   Murray State)\n"
     ]
    },
    {
     "name": "stderr",
     "output_type": "stream",
     "text": [
      "C:\\Users\\lakshmib\\AppData\\Local\\Continuum\\Anaconda3\\lib\\site-packages\\requests\\packages\\urllib3\\connectionpool.py:791: InsecureRequestWarning: Unverified HTTPS request is being made. Adding certificate verification is strongly advised. See: https://urllib3.readthedocs.org/en/latest/security.html\n",
      "  InsecureRequestWarning)\n"
     ]
    },
    {
     "name": "stdout",
     "output_type": "stream",
     "text": [
      "                                           0              1\n",
      "0             Claremont Graduate University            CGU)\n",
      "1                       Mississippi College             MC)\n",
      "2                    Wake Forest University            WFU)\n",
      "3                     University of Montana            UMT)\n",
      "4                         Towson University         Towson)\n",
      "5                  Clark Atlanta University      Clark Atl)\n",
      "6          University of Mary Hardin-Baylor           UMHB)\n",
      "7                University of West Florida            UWF)\n",
      "8                 University of the Pacific      U Pacific)\n",
      "9    University of the District of Columbia            UDC)\n",
      "10              East Stroudsburg University            ESU)\n",
      "11                    St. John's University       St Johns)\n",
      "12  West Chester University of Pennsylvania          WCUPA)\n",
      "13                      University of Tampa        U Tampa)\n",
      "14              University of North America           UoNA)\n",
      "15                           Marist College         Marist)\n",
      "16            Metropolitan State University    Metro State)\n",
      "17            Western Washington University            WWU)\n",
      "18                    Wilmington University     Wilmington)\n",
      "19      Southern University and A&M College           SUBR)\n",
      "20                             Montana Tech   Montana Tech)\n",
      "21                 Saint Peter's University         SPU NJ)\n",
      "22               University of West Georgia            UWG)\n",
      "23                  Sonoma State University         Sonoma)\n",
      "24         Concordia University - Ann Arbor           CUAA)\n",
      "25               Southern Oregon University            SOU)\n",
      "26              University of Detroit Mercy        UDMercy)\n",
      "27                      Franklin University       Franklin)\n",
      "28          New Mexico Highlands University           NMHU)\n",
      "29                  Penn State Great Valley   Great Valley)\n"
     ]
    },
    {
     "name": "stderr",
     "output_type": "stream",
     "text": [
      "C:\\Users\\lakshmib\\AppData\\Local\\Continuum\\Anaconda3\\lib\\site-packages\\requests\\packages\\urllib3\\connectionpool.py:791: InsecureRequestWarning: Unverified HTTPS request is being made. Adding certificate verification is strongly advised. See: https://urllib3.readthedocs.org/en/latest/security.html\n",
      "  InsecureRequestWarning)\n"
     ]
    },
    {
     "name": "stdout",
     "output_type": "stream",
     "text": [
      "                                                  0              1\n",
      "0                         Dallas Bapist University            DBU)\n",
      "1                               Adelphi University        adelphi)\n",
      "2             Central Connecticut State University           CCSU)\n",
      "3                                     Hood College           Hood)\n",
      "4                               Hampton University        Hampton)\n",
      "5                          Saint Xavier University            SXU)\n",
      "6                             Fairfield University      Fairfield)\n",
      "7                      University of North Alabama   UNA Florence)\n",
      "8                         Norfolk State University        Norfolk)\n",
      "9                   Winston-Salem State University           WSSU)\n",
      "10                             La Salle University        LaSalle)\n",
      "11  Saint Xavier University, Illinois- Orland Park     SXU Orland)\n",
      "12                             Wesleyan University       Wesleyan)\n",
      "13                  Christopher Newport University            CNU)\n",
      "14             University of Texas - Permian Basin           UTPB)\n",
      "15                          University of Hartford       Hartford)\n",
      "16               Southeastern Louisiana University   Southeastern)\n",
      "17                    University of Southern Maine      USM Maine)\n",
      "18                           University Of Phoenix        Phoenix)\n",
      "19                                Trine University          Trine)\n",
      "20                   Southern Adventist University         SAU TN)\n",
      "21                             Atlantis University       Atlantis)\n",
      "22                        MCPHS University, Boston   MCPHS Boston)\n",
      "23        New York Film Academy Los Angeles Campus        NYFA LA)\n",
      "24                  Fontbonne University, St Louis      Fontbonne)\n",
      "25                            St Thomas University      St Thomas)\n",
      "26                               Merrimack College      Merrimack)\n",
      "27                   Christian Brothers University            CBU)\n",
      "28                         Morgan State University         Morgan)\n",
      "29                  Lipscomb University, Nashville       Lipscomb)\n"
     ]
    },
    {
     "name": "stderr",
     "output_type": "stream",
     "text": [
      "C:\\Users\\lakshmib\\AppData\\Local\\Continuum\\Anaconda3\\lib\\site-packages\\requests\\packages\\urllib3\\connectionpool.py:791: InsecureRequestWarning: Unverified HTTPS request is being made. Adding certificate verification is strongly advised. See: https://urllib3.readthedocs.org/en/latest/security.html\n",
      "  InsecureRequestWarning)\n"
     ]
    },
    {
     "name": "stdout",
     "output_type": "stream",
     "text": [
      "                                                    0                  1\n",
      "0                                Duquesne University                DUQ)\n",
      "1   Virginia Polytechnic Institute and State Unive...                VT)\n",
      "2                      University of The Cumberlands        Cumberlands)\n",
      "3                            Millersville University       Millersville)\n",
      "4                                   La Roche College            Laroche)\n",
      "5                          The College of Saint Rose             Strose)\n",
      "6                          University of the Potomac            Potomac)\n",
      "7                      Capitol Technology University           CapTechU)\n",
      "8                            Keck Graduate Institute                KGI)\n",
      "9           New York Film Academy South Beach Campus            NYFA SB)\n",
      "10                           University of San Diego           sandiego)\n",
      "11             Southern Polytechnic State University               SPSU)\n",
      "12                                Ashland University            Ashland)\n",
      "13                Hult International Business School               Hult)\n",
      "14                            University of Portland                 UP)\n",
      "15                               Bucknell University           bucknell)\n",
      "16                              Creighton University          cerighton)\n",
      "17                     Furman University, Greenville             Furman)\n",
      "18                       MCPHS University, Worcester    MCPHS Worcester)\n",
      "19  California Polytechnic State University, San L...           calpoly)\n",
      "20                      MCPHS University, Manchester   MCPHS Manchester)\n",
      "21                        Loyola University Maryland             Loyola)\n",
      "22                                    Babson College             Babson)\n",
      "23                              Salisbury University          Salisbury)\n",
      "24                    Tulane University of Louisiana             Tulane)\n",
      "25                              Northwood University          Northwood)\n",
      "26                         The College of New Jersey               TCNJ)\n",
      "27  SUNY College of Environmental Science and Fore...               ESF)\n",
      "28                                Trinity University            trinity)\n",
      "29                                Colgate University            colgate)\n"
     ]
    },
    {
     "name": "stderr",
     "output_type": "stream",
     "text": [
      "C:\\Users\\lakshmib\\AppData\\Local\\Continuum\\Anaconda3\\lib\\site-packages\\requests\\packages\\urllib3\\connectionpool.py:791: InsecureRequestWarning: Unverified HTTPS request is being made. Adding certificate verification is strongly advised. See: https://urllib3.readthedocs.org/en/latest/security.html\n",
      "  InsecureRequestWarning)\n"
     ]
    },
    {
     "name": "stdout",
     "output_type": "stream",
     "text": [
      "                                                    0              1\n",
      "0                  Wentworth Institute of Technology            WIT)\n",
      "1                         Texas Christian University            TCU)\n",
      "2                              Willamette University     Willamette)\n",
      "3                        University of Northern Iowa            UNI)\n",
      "4                             University of Richmond       richmond)\n",
      "5                           New York Medical College           NYMC)\n",
      "6                                    Wheaton College        Wheaton)\n",
      "7   University of Massachusetts Medical School Wor...      umassmed)\n",
      "8                                 Yeshiva University             YU)\n",
      "9                                    Emerson College        emerson)\n",
      "10                             Mount Holyoke College       mtholoke)\n",
      "11                              St Martin University       Stmartin)\n",
      "12                            SIT Graduate Institute   SIT graduate)\n",
      "13                                 Butler University         butler)\n",
      "14           Icahn School of Medicine at Mount Sinai     ICAHN MSSM)\n",
      "15                            University of Scranton       Scranton)\n",
      "16                        Soka University of America           Soka)\n",
      "17                                  Drake University          drake)\n",
      "18                                   Trinity College       trincoll)\n",
      "19                               New York Law School           NYLS)\n",
      "20                                   Elon University           elon)\n",
      "21                              Whitworth University      Whitworth)\n",
      "22                                Providence College     Providence)\n",
      "23                                   Oberlin College        Oberlin)\n",
      "24                                  Skidmore College       skidmore)\n",
      "25                                Gonzaga University        gonzaga)\n",
      "26                                    Rhodes College         Rhodes)\n",
      "27                                 Bryn Mawr College       Brynmawr)\n"
     ]
    }
   ],
   "source": [
    "write_2_csv(getUniversityList(),'universityList')"
   ]
  },
  {
   "cell_type": "code",
   "execution_count": null,
   "metadata": {
    "collapsed": true
   },
   "outputs": [],
   "source": []
  }
 ],
 "metadata": {
  "kernelspec": {
   "display_name": "Python 3",
   "language": "python",
   "name": "python3"
  },
  "language_info": {
   "codemirror_mode": {
    "name": "ipython",
    "version": 3
   },
   "file_extension": ".py",
   "mimetype": "text/x-python",
   "name": "python",
   "nbconvert_exporter": "python",
   "pygments_lexer": "ipython3",
   "version": "3.5.1"
  }
 },
 "nbformat": 4,
 "nbformat_minor": 1
}
