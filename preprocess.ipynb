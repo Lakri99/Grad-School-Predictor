{
 "cells": [
  {
   "cell_type": "code",
   "execution_count": 155,
   "metadata": {
    "collapsed": true
   },
   "outputs": [],
   "source": [
    "import pandas as pd\n",
    "import numpy as np\n"
   ]
  },
  {
   "cell_type": "code",
   "execution_count": 165,
   "metadata": {
    "collapsed": true
   },
   "outputs": [],
   "source": [
    "studentDetail_df = pd.read_csv(\"finalList.csv\", header=0)"
   ]
  },
  {
   "cell_type": "code",
   "execution_count": 166,
   "metadata": {
    "collapsed": false
   },
   "outputs": [
    {
     "data": {
      "text/html": [
       "<div>\n",
       "<table border=\"1\" class=\"dataframe\">\n",
       "  <thead>\n",
       "    <tr style=\"text-align: right;\">\n",
       "      <th></th>\n",
       "      <th>CGPA</th>\n",
       "      <th>CourseName</th>\n",
       "      <th>ENG_TEST</th>\n",
       "      <th>GRE</th>\n",
       "      <th>Name</th>\n",
       "      <th>WorkExp</th>\n",
       "      <th>admit/reject</th>\n",
       "      <th>college</th>\n",
       "    </tr>\n",
       "  </thead>\n",
       "  <tbody>\n",
       "    <tr>\n",
       "      <th>52639</th>\n",
       "      <td>\\r\\n54.5 %</td>\n",
       "      <td>\\r\\nUniversity of the Potomac Information Tech...</td>\n",
       "      <td>\\r\\n6</td>\n",
       "      <td>\\r\\n284</td>\n",
       "      <td>yashwanth</td>\n",
       "      <td>\\r\\nNA</td>\n",
       "      <td>admit</td>\n",
       "      <td>University of the Potomac</td>\n",
       "    </tr>\n",
       "    <tr>\n",
       "      <th>52640</th>\n",
       "      <td>\\r\\n54.5 %</td>\n",
       "      <td>\\r\\nUniversity of the Potomac Information Tech...</td>\n",
       "      <td>\\r\\n6</td>\n",
       "      <td>\\r\\n284</td>\n",
       "      <td>yashwanth</td>\n",
       "      <td>\\r\\nNA</td>\n",
       "      <td>admit</td>\n",
       "      <td>University of the Potomac</td>\n",
       "    </tr>\n",
       "    <tr>\n",
       "      <th>52641</th>\n",
       "      <td>\\r\\n8.5 CGPA</td>\n",
       "      <td>\\r\\nKeck Graduate Institute Bioscience\\r\\nFall...</td>\n",
       "      <td>\\r\\n110</td>\n",
       "      <td>\\r\\n303</td>\n",
       "      <td>Sreya</td>\n",
       "      <td>\\r\\n1 month</td>\n",
       "      <td>admit</td>\n",
       "      <td>Keck Graduate Institute</td>\n",
       "    </tr>\n",
       "    <tr>\n",
       "      <th>52642</th>\n",
       "      <td>\\r\\n8.5 CGPA</td>\n",
       "      <td>\\r\\nKeck Graduate Institute Bioscience\\r\\nFall...</td>\n",
       "      <td>\\r\\n110</td>\n",
       "      <td>\\r\\n303</td>\n",
       "      <td>Sreya</td>\n",
       "      <td>\\r\\n1 month</td>\n",
       "      <td>admit</td>\n",
       "      <td>Keck Graduate Institute</td>\n",
       "    </tr>\n",
       "  </tbody>\n",
       "</table>\n",
       "</div>"
      ],
      "text/plain": [
       "                CGPA                                         CourseName  \\\n",
       "52639    \\r\\n54.5 %   \\r\\nUniversity of the Potomac Information Tech...   \n",
       "52640    \\r\\n54.5 %   \\r\\nUniversity of the Potomac Information Tech...   \n",
       "52641  \\r\\n8.5 CGPA   \\r\\nKeck Graduate Institute Bioscience\\r\\nFall...   \n",
       "52642  \\r\\n8.5 CGPA   \\r\\nKeck Graduate Institute Bioscience\\r\\nFall...   \n",
       "\n",
       "       ENG_TEST       GRE       Name       WorkExp admit/reject  \\\n",
       "52639    \\r\\n6   \\r\\n284   yashwanth       \\r\\nNA         admit   \n",
       "52640    \\r\\n6   \\r\\n284   yashwanth       \\r\\nNA         admit   \n",
       "52641  \\r\\n110   \\r\\n303      Sreya   \\r\\n1 month         admit   \n",
       "52642  \\r\\n110   \\r\\n303      Sreya   \\r\\n1 month         admit   \n",
       "\n",
       "                         college  \n",
       "52639  University of the Potomac  \n",
       "52640  University of the Potomac  \n",
       "52641    Keck Graduate Institute  \n",
       "52642    Keck Graduate Institute  "
      ]
     },
     "execution_count": 166,
     "metadata": {},
     "output_type": "execute_result"
    }
   ],
   "source": [
    "studentDetail_df.tail(4)"
   ]
  },
  {
   "cell_type": "code",
   "execution_count": 167,
   "metadata": {
    "collapsed": true
   },
   "outputs": [],
   "source": [
    "# make a copy just in case\n",
    "copy_studentList = studentDetail_df.copy()"
   ]
  },
  {
   "cell_type": "code",
   "execution_count": 168,
   "metadata": {
    "collapsed": false
   },
   "outputs": [
    {
     "name": "stdout",
     "output_type": "stream",
     "text": [
      "[52147 52148 52149 52150 52151 52152 52153 52154 52155 52156 52157 52158\n",
      " 52159 52160 52161 52162 52163 52164 52165 52166 52167 52168 52169 52170\n",
      " 52171 52172 52173 52174 52175 52176]\n"
     ]
    }
   ],
   "source": [
    "# check if the work_exp is admit/reject .. easy to check in if.. \n",
    "# think of other logic if you can \n",
    "\n",
    "misarranged_df = studentDetail_df[(studentDetail_df['WorkExp'] == 'admit') | (studentDetail_df['WorkExp'] == 'reject')]\n",
    "index_to_del = misarranged_df.index.values\n",
    "print(index_to_del)\n",
    "studentDetail_df.drop(index_to_del, inplace=True)\n",
    "studentDetail_df.dropna(how='all', inplace=True) #remove the nan resulted from removing the rows"
   ]
  },
  {
   "cell_type": "code",
   "execution_count": 161,
   "metadata": {
    "collapsed": false
   },
   "outputs": [],
   "source": [
    "# change the index\n",
    "# studentDetail_df = studentDetail_df.reindex(list(range(studentDetail_df.shape[0]))) \n",
    "# Above does not seem to work.. renders the removal of nan useless\n"
   ]
  },
  {
   "cell_type": "code",
   "execution_count": 180,
   "metadata": {
    "collapsed": false,
    "scrolled": true
   },
   "outputs": [
    {
     "data": {
      "text/html": [
       "<div>\n",
       "<table border=\"1\" class=\"dataframe\">\n",
       "  <thead>\n",
       "    <tr style=\"text-align: right;\">\n",
       "      <th></th>\n",
       "      <th>CGPA</th>\n",
       "      <th>CourseName</th>\n",
       "      <th>ENG_TEST</th>\n",
       "      <th>GRE</th>\n",
       "      <th>Name</th>\n",
       "      <th>WorkExp</th>\n",
       "      <th>admit/reject</th>\n",
       "      <th>college</th>\n",
       "      <th>Period</th>\n",
       "      <th>CollegeInfo</th>\n",
       "      <th>Course</th>\n",
       "    </tr>\n",
       "  </thead>\n",
       "  <tbody>\n",
       "    <tr>\n",
       "      <th>52638</th>\n",
       "      <td>64.5 %</td>\n",
       "      <td>The College of Saint Rose Computer Information...</td>\n",
       "      <td>6.5</td>\n",
       "      <td>286</td>\n",
       "      <td>SAI KUMAR REDDY</td>\n",
       "      <td>NA</td>\n",
       "      <td>admit</td>\n",
       "      <td>The College of Saint Rose</td>\n",
       "      <td>Spring 2018</td>\n",
       "      <td>The College of Saint Rose Computer Information...</td>\n",
       "      <td>Computer Information Systems</td>\n",
       "    </tr>\n",
       "    <tr>\n",
       "      <th>52639</th>\n",
       "      <td>54.5 %</td>\n",
       "      <td>University of the Potomac Information Technolo...</td>\n",
       "      <td>6</td>\n",
       "      <td>284</td>\n",
       "      <td>yashwanth</td>\n",
       "      <td>NA</td>\n",
       "      <td>admit</td>\n",
       "      <td>University of the Potomac</td>\n",
       "      <td>Spring 2018</td>\n",
       "      <td>University of the Potomac Information Technology</td>\n",
       "      <td>Information Technology</td>\n",
       "    </tr>\n",
       "    <tr>\n",
       "      <th>52640</th>\n",
       "      <td>54.5 %</td>\n",
       "      <td>University of the Potomac Information Technolo...</td>\n",
       "      <td>6</td>\n",
       "      <td>284</td>\n",
       "      <td>yashwanth</td>\n",
       "      <td>NA</td>\n",
       "      <td>admit</td>\n",
       "      <td>University of the Potomac</td>\n",
       "      <td>Spring 2018</td>\n",
       "      <td>University of the Potomac Information Technology</td>\n",
       "      <td>Information Technology</td>\n",
       "    </tr>\n",
       "    <tr>\n",
       "      <th>52641</th>\n",
       "      <td>8.5 CGPA</td>\n",
       "      <td>Keck Graduate Institute Bioscience\\r\\nFall 2018</td>\n",
       "      <td>110</td>\n",
       "      <td>303</td>\n",
       "      <td>Sreya</td>\n",
       "      <td>1 month</td>\n",
       "      <td>admit</td>\n",
       "      <td>Keck Graduate Institute</td>\n",
       "      <td>Fall 2018</td>\n",
       "      <td>Keck Graduate Institute Bioscience</td>\n",
       "      <td>Bioscience</td>\n",
       "    </tr>\n",
       "    <tr>\n",
       "      <th>52642</th>\n",
       "      <td>8.5 CGPA</td>\n",
       "      <td>Keck Graduate Institute Bioscience\\r\\nFall 2018</td>\n",
       "      <td>110</td>\n",
       "      <td>303</td>\n",
       "      <td>Sreya</td>\n",
       "      <td>1 month</td>\n",
       "      <td>admit</td>\n",
       "      <td>Keck Graduate Institute</td>\n",
       "      <td>Fall 2018</td>\n",
       "      <td>Keck Graduate Institute Bioscience</td>\n",
       "      <td>Bioscience</td>\n",
       "    </tr>\n",
       "  </tbody>\n",
       "</table>\n",
       "</div>"
      ],
      "text/plain": [
       "            CGPA                                         CourseName ENG_TEST  \\\n",
       "52638    64.5 %   The College of Saint Rose Computer Information...     6.5    \n",
       "52639    54.5 %   University of the Potomac Information Technolo...       6    \n",
       "52640    54.5 %   University of the Potomac Information Technolo...       6    \n",
       "52641  8.5 CGPA    Keck Graduate Institute Bioscience\\r\\nFall 2018      110    \n",
       "52642  8.5 CGPA    Keck Graduate Institute Bioscience\\r\\nFall 2018      110    \n",
       "\n",
       "        GRE             Name   WorkExp admit/reject  \\\n",
       "52638  286   SAI KUMAR REDDY       NA         admit   \n",
       "52639  284         yashwanth       NA         admit   \n",
       "52640  284         yashwanth       NA         admit   \n",
       "52641  303            Sreya   1 month         admit   \n",
       "52642  303            Sreya   1 month         admit   \n",
       "\n",
       "                         college        Period  \\\n",
       "52638  The College of Saint Rose  Spring 2018    \n",
       "52639  University of the Potomac  Spring 2018    \n",
       "52640  University of the Potomac  Spring 2018    \n",
       "52641    Keck Graduate Institute    Fall 2018    \n",
       "52642    Keck Graduate Institute    Fall 2018    \n",
       "\n",
       "                                             CollegeInfo  \\\n",
       "52638  The College of Saint Rose Computer Information...   \n",
       "52639   University of the Potomac Information Technology   \n",
       "52640   University of the Potomac Information Technology   \n",
       "52641                 Keck Graduate Institute Bioscience   \n",
       "52642                 Keck Graduate Institute Bioscience   \n",
       "\n",
       "                              Course  \n",
       "52638   Computer Information Systems  \n",
       "52639         Information Technology  \n",
       "52640         Information Technology  \n",
       "52641                     Bioscience  \n",
       "52642                     Bioscience  "
      ]
     },
     "execution_count": 180,
     "metadata": {},
     "output_type": "execute_result"
    }
   ],
   "source": [
    "studentDetail_df.tail()"
   ]
  },
  {
   "cell_type": "code",
   "execution_count": 171,
   "metadata": {
    "collapsed": false
   },
   "outputs": [],
   "source": [
    "# Remove the line break and spaces\n",
    "for col in ['CourseName','ENG_TEST','GRE','WorkExp','CGPA']:\n",
    "    studentDetail_df[col] = studentDetail_df[col].astype(str).apply(lambda x: x[2:])\n"
   ]
  },
  {
   "cell_type": "code",
   "execution_count": 172,
   "metadata": {
    "collapsed": false
   },
   "outputs": [],
   "source": [
    "studentDetail_df['Period'] = studentDetail_df.CourseName.str.split('\\r\\n').str[1]\n",
    "studentDetail_df['CollegeInfo'] = studentDetail_df.CourseName.str.split('\\r\\n').str[0]"
   ]
  },
  {
   "cell_type": "code",
   "execution_count": 177,
   "metadata": {
    "collapsed": true
   },
   "outputs": [],
   "source": [
    "def getCourseName(df):\n",
    "    df['Course'] = df['CollegeInfo'][len(df['college']):]\n",
    "    return df['Course']"
   ]
  },
  {
   "cell_type": "code",
   "execution_count": 179,
   "metadata": {
    "collapsed": false,
    "scrolled": true
   },
   "outputs": [],
   "source": [
    "studentDetail_df['Course'] = studentDetail_df.apply(getCourseName, axis = 1)\n"
   ]
  },
  {
   "cell_type": "code",
   "execution_count": 181,
   "metadata": {
    "collapsed": false
   },
   "outputs": [],
   "source": [
    "intermediate_studentList = studentDetail_df.copy()"
   ]
  },
  {
   "cell_type": "code",
   "execution_count": null,
   "metadata": {
    "collapsed": true
   },
   "outputs": [],
   "source": [
    "# to do\n",
    "# get the year from the period and seperate period\n",
    "# normalise cgpa and remove cgpa letters\n",
    "# normalise eng test\n",
    "# "
   ]
  }
 ],
 "metadata": {
  "kernelspec": {
   "display_name": "Python 3",
   "language": "python",
   "name": "python3"
  },
  "language_info": {
   "codemirror_mode": {
    "name": "ipython",
    "version": 3
   },
   "file_extension": ".py",
   "mimetype": "text/x-python",
   "name": "python",
   "nbconvert_exporter": "python",
   "pygments_lexer": "ipython3",
   "version": "3.5.1"
  }
 },
 "nbformat": 4,
 "nbformat_minor": 0
}
