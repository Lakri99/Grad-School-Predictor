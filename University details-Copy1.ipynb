{
 "cells": [
  {
   "cell_type": "code",
   "execution_count": null,
   "metadata": {
    "collapsed": true
   },
   "outputs": [],
   "source": [
    "#this creates a csv file 'universityList.csv' containing name, key and link for all university.\n",
    "# Note to self\n",
    "# ------- Do not Execute this cell -----------\n",
    "\n",
    "getUniversityList()"
   ]
  },
  {
   "cell_type": "code",
   "execution_count": 1,
   "metadata": {
    "collapsed": true
   },
   "outputs": [],
   "source": [
    "import requests\n",
    "from lxml import html\n",
    "import sys\n",
    "from urllib.request import urlopen as uReq\n",
    "from bs4 import BeautifulSoup as soup\n",
    "import re\n",
    "import urllib.request\n",
    "from requests.exceptions import HTTPError\n",
    "import pandas as pd\n",
    "import numpy as np\n",
    "import time\n",
    "import random"
   ]
  },
  {
   "cell_type": "code",
   "execution_count": null,
   "metadata": {
    "collapsed": true
   },
   "outputs": [],
   "source": [
    "def open_url_2_soup(url, session_request = None):\n",
    "    \"\"\"\n",
    "    open webpage and convert to beautiful soup object\n",
    "    returns: page_soup(soup object)\n",
    "    params: url(str) - url of the page\n",
    "    \n",
    "    \"\"\"\n",
    "    proxies = [{\n",
    "        \"http\": 'http://14.102.81.195:21776', \n",
    "        \"https\": 'http://14.102.81.195:21776'\n",
    "    }]\n",
    "    \n",
    "    headers = {'User-Agent':'Mozilla/5.0 (Windows NT 10.0; Win64; x64) AppleWebKit/537.36 (KHTML, like Gecko) Chrome/60.0.3112.90 Safari/537.36'}\n",
    "    if(session_request == None):\n",
    "        page = requests.get(url, headers = headers,verify = False, allow_redirects = False)\n",
    "    else:\n",
    "        page = session_request.get(url, headers = headers,verify = False, allow_redirects = False)\n",
    "    if(page.status_code == 200):\n",
    "        page_soup = soup(page.content,'lxml')\n",
    "        return page_soup\n",
    "    elif(page.status_code == 302):\n",
    "        print(\"error code : \",page.status_code)\n",
    "        print(url)\n",
    "        time.sleep(900)\n",
    "        token,session_req = getAuthSession()\n",
    "        open_url_2_soup(url, session_req)\n",
    "    else:\n",
    "        print(page.status_code)\n",
    "        raise HTTPError()\n",
    "        \n",
    "        "
   ]
  },
  {
   "cell_type": "code",
   "execution_count": null,
   "metadata": {
    "collapsed": true,
    "scrolled": false
   },
   "outputs": [],
   "source": [
    "# run it once you open the notebook\n",
    "def getAuthSession():\n",
    "    \"\"\"\n",
    "    generate session with login credentials\n",
    "    params: None\n",
    "    returns: token(string) - the csrf token value\n",
    "             session_requests(session object): session with login posted\n",
    "    \"\"\"\n",
    "    USERNAME = \"webscrapingrb@gmail.com\"\n",
    "    PASSWORD = \"priyabashyam\"\n",
    "    LOGIN_URL = \"https://yocket.in/account/login\"\n",
    "    session_requests = requests.session()\n",
    "    headers = {'User-Agent':'Mozilla/5.0 (X11; Linux x86_64) AppleWebKit/537.36 (KHTML, like Gecko) Chrome/65.0.3325.181 Safari/537.36'}\n",
    "    result = session_requests.get(LOGIN_URL, verify = False, headers = headers)\n",
    "    tree = html.fromstring(result.text)\n",
    "    authenticity_token = list(set(tree.xpath(\"//input[@name='_csrfToken']/@value\")))[0]\n",
    "    payload = {\n",
    "        \"email\": USERNAME,\n",
    "         \"password\": PASSWORD,\n",
    "         \"_csrfToken\": authenticity_token\n",
    "    }\n",
    "\n",
    "    # Perform login\n",
    "    login_req = session_requests.post(LOGIN_URL, data=payload, headers=dict(referer=LOGIN_URL))\n",
    "    return (authenticity_token,session_requests)"
   ]
  },
  {
   "cell_type": "code",
   "execution_count": null,
   "metadata": {
    "collapsed": true
   },
   "outputs": [],
   "source": [
    "def getUniversityLookup(url):\n",
    "    \"\"\"\n",
    "    get the list of university and it's basic info from ONE page\n",
    "    returns : univ_df - dataframe containing name,key and url of universities one page at a time\n",
    "    params: url - url of the page\n",
    "    \n",
    "    \"\"\"\n",
    "    univ_name = []\n",
    "    univ_link = []\n",
    "    univ_soup = open_url_2_soup(url)\n",
    "    univ_detail_tag = univ_soup.findAll(\"div\",{\"class\":\"col-sm-9 col-xs-12\"})\n",
    "    for tag in univ_detail_tag:\n",
    "        a = tag.find(\"a\",href=True)\n",
    "        univ_name.append(a.text)\n",
    "        univ_link.append(\"https://yocket.in\"+a['href'])\n",
    "    #data cleaning \n",
    "    univ_df = pd.DataFrame({\"name\":np.asarray(univ_name),\"href\": np.asarray(univ_link)})\n",
    "    print(univ_df['name'].str.split('(',n = 1, expand = True))\n",
    "    univ_df[['name','keys']] = univ_df['name'].str.split('(',n = 1, expand = True)\n",
    "    univ_df['keys'] = univ_df['keys'].apply(lambda x: x[:-1])\n",
    "    return univ_df"
   ]
  },
  {
   "cell_type": "code",
   "execution_count": null,
   "metadata": {
    "collapsed": true
   },
   "outputs": [],
   "source": [
    "def getUniversityList():\n",
    "    \"\"\"\n",
    "    creates a csv file of all university detail\n",
    "    returns: UniversityList_df - dataframe containg the basic details of top 500 engineering schools\n",
    "    params: None\n",
    "    \n",
    "    \"\"\"\n",
    "    UniversityList_df = pd.DataFrame()\n",
    "    count = 1\n",
    "    while(count <= 16):\n",
    "        url = \"https://yocket.in/universities?page=\" + str(count)\n",
    "        temp_df = getUniversityLookup(url)\n",
    "#         print(temp_df)\n",
    "        UniversityList_df = UniversityList_df.append(temp_df,ignore_index=True)\n",
    "#         print(UniversityList_df)\n",
    "        time.sleep(5) \n",
    "        count += 1\n",
    "    UniversityList_df.to_csv('universityList.csv', encoding='utf-8')\n",
    "    return UniversityList_df\n"
   ]
  },
  {
   "cell_type": "code",
   "execution_count": null,
   "metadata": {
    "collapsed": true,
    "scrolled": true
   },
   "outputs": [],
   "source": [
    "\n",
    "def getUniversityDetail(url):\n",
    "    \"\"\"\n",
    "    get the details of a single university\n",
    "    params: url(string) - url of the site\n",
    "    returns : univ_detail(dict) - dictionary containing details of a single university\n",
    "    \n",
    "    \"\"\"\n",
    "    univ_detail = {}\n",
    "    page_soup = open_url_2_soup(url)\n",
    "    univ_tag = page_soup.findAll(\"div\",{\"class\":\"col-sm-3 col-xs-6\"})\n",
    "    univ_detail['name'] = page_soup.findAll(\"h1\")[0].text\n",
    "    tag_no = 1;\n",
    "    for tag in univ_tag:\n",
    "        if(tag_no in [1,2,3,4,6,8,9]):\n",
    "            name,data = extractUnivDetails(tag,tag_no)\n",
    "            univ_detail[name] = data\n",
    "        tag_no+= 1\n",
    "    try:\n",
    "        univ_detail['admitList'] = univ_detail['student_link']+\"2\"\n",
    "        univ_detail['rejectList'] = univ_detail['student_link']+\"3\"\n",
    "        univ_detail['appliedList'] = univ_detail['student_link']+\"1\"\n",
    "        del univ_detail['student_link']\n",
    "    except:\n",
    "        univ_detail['admitList'] = None\n",
    "        univ_detail['rejectList'] = None\n",
    "        univ_detail['appliedList'] = None\n",
    "        del univ_detail['student_link']\n",
    "    return(univ_detail)\n",
    "# getUniversityDetail(\"https://yocket.in/university-reviews/california-state-university-chico-3145/engineering\")"
   ]
  },
  {
   "cell_type": "code",
   "execution_count": null,
   "metadata": {
    "collapsed": true
   },
   "outputs": [],
   "source": [
    "def extractUnivDetails(tag,tag_no):\n",
    "    \"\"\"\n",
    "    returns : univ_dict(dictionary) - dictionary containing university(single) detail\n",
    "    params: tag(soup element) - the div containing the element\n",
    "            tag_no(int) - number of div\n",
    "    \"\"\"\n",
    "    univ_dict = {}\n",
    "    if(tag_no in [1,2,8,9]):\n",
    "        return(tag.h3.small.text,(tag.br.previous_sibling)[1:])\n",
    "    elif(tag_no ==3):\n",
    "        return (tag.h3.findAll(\"small\")[1].text,tag.h3.find(\"small\").previous_sibling)\n",
    "    elif(tag_no ==4):\n",
    "        return (tag.h3.findAll(\"small\")[1].text,(tag.h3.find(\"small\").previous_sibling)[2:])\n",
    "    elif(tag_no == 6):\n",
    "        try:\n",
    "            a = tag.findAll(\"a\",href=True)[0]\n",
    "        except:\n",
    "            return(\"student_link\",None)\n",
    "        else:\n",
    "            return(\"student_link\",(\"https://yocket.in\"+a['href'])[:-1])\n"
   ]
  },
  {
   "cell_type": "code",
   "execution_count": null,
   "metadata": {
    "collapsed": true
   },
   "outputs": [],
   "source": [
    "def univDetail_to_csv():\n",
    "    \"\"\"\n",
    "    generate csv file containing university details\n",
    "    params : None\n",
    "    returns : None\n",
    "    \"\"\"\n",
    "    univ_list = pd.read_csv('universityList.csv')\n",
    "    universityDetail = pd.DataFrame()\n",
    "    counter = 51\n",
    "    while(counter <= 100):\n",
    "        link = univ_list.iloc[counter]['href']\n",
    "        dict_temp = getUniversityDetail(link)\n",
    "        universityDetail = universityDetail.append(dict_temp,ignore_index = True)\n",
    "        print(counter)\n",
    "        counter += 1\n",
    "        time.sleep(10)\n",
    "#     print(universityDetail)\n",
    "    universityDetail.to_csv('universityDetailList.csv', encoding='utf-8',header = False,mode = 'a')"
   ]
  },
  {
   "cell_type": "code",
   "execution_count": null,
   "metadata": {
    "collapsed": true
   },
   "outputs": [],
   "source": [
    "#create the csv file of university list with all it's parameter\n",
    "#  Note to self\n",
    "# -----------DO NOT EXECUTE THIS CELL --------------\n",
    "univDetail_to_csv()   "
   ]
  },
  {
   "cell_type": "code",
   "execution_count": null,
   "metadata": {
    "collapsed": true
   },
   "outputs": [],
   "source": [
    "def getStdList(page_soup,admit_status):\n",
    "    \"\"\"\n",
    "    calculates the details of user for a single page\n",
    "    params : admit_status(string) - admit/reject string\n",
    "             page_soup(soup object) - soup of each page of student list of a university\n",
    "    returns: dataframe containing user detail from a single page\n",
    "    \"\"\"\n",
    "    name_tag = page_soup.findAll(\"input\" , {\"id\" : \"users-view-search-universities\"})[0]\n",
    "    name = name_tag['value']\n",
    "    grading = page_soup.findAll(\"div\",{\"class\" : \"col-sm-6\"})[1:]\n",
    "#     print(grading[0])\n",
    "    student_df = pd.DataFrame()\n",
    "    for tag in grading:\n",
    "#         print(tag)\n",
    "        std_data = {}\n",
    "        std_data['college'] = name\n",
    "        std_data['admit/reject'] = admit_status\n",
    "        a = tag.findAll(\"a\",href = True)[0]\n",
    "#         print(a)\n",
    "        std_data['Name'] = a.text #Tag for name of student\n",
    "#         std_data['studentLink'] - a['href']\n",
    "        std_data['CourseName'] = tag.find(\"small\").text #Tag for course\n",
    "        student_data_tag = tag.findAll(\"div\",{\"class\":\"col-sm-3 col-xs-6\"})\n",
    "        for data_tag in student_data_tag:\n",
    "            heading = data_tag.find(\"strong\").text\n",
    "            data = data_tag.findNext(\"br\").next_sibling\n",
    "            if (heading == \"GRE\"):\n",
    "                std_data['GRE'] = data.string\n",
    "\n",
    "            elif(heading == \"TOEFL\" or heading == \"IELTS\" or heading == \"ENG TEST\"):\n",
    "                std_data['ENG_TEST'] = data.string\n",
    "\n",
    "            elif(heading == \"UNDERGRAD\"):\n",
    "                std_data['CGPA']= data.string\n",
    "\n",
    "            elif(heading == \"WORK EX\"):\n",
    "                std_data['WorkExp'] = data.string\n",
    "#         print(std_data)\n",
    "        student_df = student_df.append(std_data, ignore_index=True)\n",
    "#     print(student_df)\n",
    "    return student_df\n"
   ]
  },
  {
   "cell_type": "code",
   "execution_count": null,
   "metadata": {
    "collapsed": true
   },
   "outputs": [],
   "source": [
    "def getStudentDetailList(url,session_request = None, admit = None):\n",
    "    \"\"\"\n",
    "    gets the entire student list for a single university\n",
    "    params: url(string) - student list url of the university\n",
    "            session_request(session obejct) - session with login posted\n",
    "            admit(string) - admit/reject status\n",
    "    return: student_detail(dataframe) - containg all the student list for a single university\n",
    "    \"\"\"\n",
    "    page_counter = 1\n",
    "    student_detail = pd.DataFrame()\n",
    "    url = url + \"?page=\"\n",
    "    target_url = url + str(page_counter)\n",
    "    while(page_counter <= 50):\n",
    "        \n",
    "        try:\n",
    "            page_soup = open_url_2_soup(target_url,session_request)\n",
    "        except HTTPError:\n",
    "            print(target_url)\n",
    "            print(\"exception raised\")\n",
    "            page_counter = 1\n",
    "            break\n",
    "            \n",
    "        else:\n",
    "            print(target_url)\n",
    "            target_url = url + str(page_counter)\n",
    "            std_detail_page = getStdList(page_soup,admit)\n",
    "            student_detail = pd.concat([student_detail,std_detail_page])\n",
    "            time.sleep(10)\n",
    "            page_counter += 1\n",
    "        \n",
    "    return student_detail"
   ]
  },
  {
   "cell_type": "code",
   "execution_count": null,
   "metadata": {
    "collapsed": true
   },
   "outputs": [],
   "source": [
    "def generateStudentList():\n",
    "    \"\"\"\n",
    "    generate applied and rejected student detail list for all universities\n",
    "    params: None\n",
    "    returns: None\n",
    "    \"\"\"\n",
    "    token, session_request = getAuthSession()\n",
    "#     session_request = None\n",
    "#     print(token)\n",
    "    student_detail_df = pd.read_csv(\"universityDetailList.csv\", header=1)\n",
    "    header = False\n",
    "    for index,row in student_detail_df.iterrows():\n",
    "        if(index in range(250,301)):\n",
    "            print(index)\n",
    "#           if(index == 100):\n",
    "            student_admit = getStudentDetailList(row['admitList'], session_request, 'admit')\n",
    "#             print(student_admit)\n",
    "            student_admit.to_csv('studentList1.csv', mode = 'a', encoding='utf-8',header = header)\n",
    "            header = False\n",
    "            student_reject = getStudentDetailList(row['rejectList'], session_request, 'reject')\n",
    "            student_reject.to_csv('studentList1.csv', mode='a', encoding = 'utf-8', header = header)\n",
    "#             time.sleep(120)\n",
    "       "
   ]
  },
  {
   "cell_type": "code",
   "execution_count": null,
   "metadata": {
    "collapsed": false
   },
   "outputs": [],
   "source": [
    "generateStudentList()"
   ]
  },
  {
   "cell_type": "code",
   "execution_count": null,
   "metadata": {
    "collapsed": true
   },
   "outputs": [],
   "source": [
    "import requests\n",
    "url = 'https://yocket.in/applications-admits-rejects/new-york-institute-of-technology-manhattan/2'\n",
    "headers = {'User-Agent':'Mozilla/5.0 (X11; Linux x86_64) AppleWebKit/537.36 (KHTML, like Gecko) Chrome/65.0.3325.181 Safari/537.36'}\n",
    "\n",
    "response = requests.get(url,proxies=proxies, headers = headers,verify = False, allow_redirects = False)\n",
    "print(response.status_code)\n",
    "\n",
    "    "
   ]
  },
  {
   "cell_type": "code",
   "execution_count": 15,
   "metadata": {
    "collapsed": false
   },
   "outputs": [
    {
     "name": "stdout",
     "output_type": "stream",
     "text": [
      "(24559, 9) (28084, 9)\n",
      "concated final shape (52643, 10)\n"
     ]
    },
    {
     "data": {
      "text/html": [
       "<div>\n",
       "<table border=\"1\" class=\"dataframe\">\n",
       "  <thead>\n",
       "    <tr style=\"text-align: right;\">\n",
       "      <th></th>\n",
       "      <th>Unnamed: 0</th>\n",
       "      <th>CGPA</th>\n",
       "      <th>CourseName</th>\n",
       "      <th>ENG_TEST</th>\n",
       "      <th>GRE</th>\n",
       "      <th>Name</th>\n",
       "      <th>WorkExp</th>\n",
       "      <th>admit/reject</th>\n",
       "      <th>college</th>\n",
       "    </tr>\n",
       "  </thead>\n",
       "  <tbody>\n",
       "    <tr>\n",
       "      <th>24556</th>\n",
       "      <td>8.0</td>\n",
       "      <td>\\r\\n9.29 CGPA</td>\n",
       "      <td>\\r\\nUniversity of California, Santa Barbara Co...</td>\n",
       "      <td>\\r\\n108</td>\n",
       "      <td>\\r\\n313</td>\n",
       "      <td>Srushti Sb</td>\n",
       "      <td>\\r\\n20 months</td>\n",
       "      <td>admit</td>\n",
       "      <td>University of California, Santa Barbara</td>\n",
       "    </tr>\n",
       "    <tr>\n",
       "      <th>24557</th>\n",
       "      <td>9.0</td>\n",
       "      <td>\\r\\n8.8 CGPA</td>\n",
       "      <td>\\r\\nUniversity of California, Santa Barbara El...</td>\n",
       "      <td>\\r\\n109</td>\n",
       "      <td>\\r\\n325</td>\n",
       "      <td>Tajuddin Manhar</td>\n",
       "      <td>\\r\\nNA</td>\n",
       "      <td>admit</td>\n",
       "      <td>University of California, Santa Barbara</td>\n",
       "    </tr>\n",
       "    <tr>\n",
       "      <th>24558</th>\n",
       "      <td>10.0</td>\n",
       "      <td>\\r\\n9.54 CGPA</td>\n",
       "      <td>\\r\\nUniversity of California, Santa Barbara El...</td>\n",
       "      <td>\\r\\n109</td>\n",
       "      <td>\\r\\n329</td>\n",
       "      <td>Prathi</td>\n",
       "      <td>\\r\\n30 months</td>\n",
       "      <td>admit</td>\n",
       "      <td>University of California, Santa Barbara</td>\n",
       "    </tr>\n",
       "  </tbody>\n",
       "</table>\n",
       "</div>"
      ],
      "text/plain": [
       "       Unnamed: 0            CGPA  \\\n",
       "24556         8.0  \\r\\n9.29 CGPA    \n",
       "24557         9.0   \\r\\n8.8 CGPA    \n",
       "24558        10.0  \\r\\n9.54 CGPA    \n",
       "\n",
       "                                              CourseName  ENG_TEST       GRE  \\\n",
       "24556  \\r\\nUniversity of California, Santa Barbara Co...  \\r\\n108   \\r\\n313    \n",
       "24557  \\r\\nUniversity of California, Santa Barbara El...  \\r\\n109   \\r\\n325    \n",
       "24558  \\r\\nUniversity of California, Santa Barbara El...  \\r\\n109   \\r\\n329    \n",
       "\n",
       "                  Name         WorkExp admit/reject  \\\n",
       "24556       Srushti Sb  \\r\\n20 months         admit   \n",
       "24557  Tajuddin Manhar         \\r\\nNA         admit   \n",
       "24558           Prathi  \\r\\n30 months         admit   \n",
       "\n",
       "                                       college  \n",
       "24556  University of California, Santa Barbara  \n",
       "24557  University of California, Santa Barbara  \n",
       "24558  University of California, Santa Barbara  "
      ]
     },
     "execution_count": 15,
     "metadata": {},
     "output_type": "execute_result"
    }
   ],
   "source": [
    "student = pd.read_csv('studentList.csv',header=1)\n",
    "student1 = pd.read_csv('studentList1.csv',header=None, names = ['Nt req','CGPA','CourseName','ENG_TEST','GRE','Name','WorkExp','admit/reject','college'])\n",
    "print(student.shape, student1.shape)\n",
    "concat = [student,student1]\n",
    "concat_df = pd.concat(concat)\n",
    "print(\"concated final shape\",concat_df.shape)\n",
    "student.tail(3)"
   ]
  },
  {
   "cell_type": "code",
   "execution_count": 16,
   "metadata": {
    "collapsed": false
   },
   "outputs": [
    {
     "data": {
      "text/html": [
       "<div>\n",
       "<table border=\"1\" class=\"dataframe\">\n",
       "  <thead>\n",
       "    <tr style=\"text-align: right;\">\n",
       "      <th></th>\n",
       "      <th>CGPA</th>\n",
       "      <th>CourseName</th>\n",
       "      <th>ENG_TEST</th>\n",
       "      <th>GRE</th>\n",
       "      <th>Name</th>\n",
       "      <th>Nt req</th>\n",
       "      <th>Unnamed: 0</th>\n",
       "      <th>WorkExp</th>\n",
       "      <th>admit/reject</th>\n",
       "      <th>college</th>\n",
       "    </tr>\n",
       "  </thead>\n",
       "  <tbody>\n",
       "    <tr>\n",
       "      <th>0</th>\n",
       "      <td>\\r\\n67 %</td>\n",
       "      <td>\\r\\nNortheastern University Information System...</td>\n",
       "      <td>\\r\\n96</td>\n",
       "      <td>\\r\\n310</td>\n",
       "      <td>Achira</td>\n",
       "      <td>NaN</td>\n",
       "      <td>0.0</td>\n",
       "      <td>\\r\\n36 months</td>\n",
       "      <td>admit</td>\n",
       "      <td>Northeastern University</td>\n",
       "    </tr>\n",
       "    <tr>\n",
       "      <th>1</th>\n",
       "      <td>\\r\\n65 %</td>\n",
       "      <td>\\r\\nNortheastern University Information System...</td>\n",
       "      <td>\\r\\n96</td>\n",
       "      <td>\\r\\n310</td>\n",
       "      <td>achira shah</td>\n",
       "      <td>NaN</td>\n",
       "      <td>1.0</td>\n",
       "      <td>\\r\\n24 months</td>\n",
       "      <td>admit</td>\n",
       "      <td>Northeastern University</td>\n",
       "    </tr>\n",
       "    <tr>\n",
       "      <th>2</th>\n",
       "      <td>\\r\\n7.85 CGPA</td>\n",
       "      <td>\\r\\nNortheastern University Engineering Manage...</td>\n",
       "      <td>\\r\\n100</td>\n",
       "      <td>\\r\\n304</td>\n",
       "      <td>Deep Vira</td>\n",
       "      <td>NaN</td>\n",
       "      <td>2.0</td>\n",
       "      <td>\\r\\n1 month</td>\n",
       "      <td>admit</td>\n",
       "      <td>Northeastern University</td>\n",
       "    </tr>\n",
       "  </tbody>\n",
       "</table>\n",
       "</div>"
      ],
      "text/plain": [
       "             CGPA                                         CourseName  \\\n",
       "0       \\r\\n67 %   \\r\\nNortheastern University Information System...   \n",
       "1       \\r\\n65 %   \\r\\nNortheastern University Information System...   \n",
       "2  \\r\\n7.85 CGPA   \\r\\nNortheastern University Engineering Manage...   \n",
       "\n",
       "   ENG_TEST       GRE         Name  Nt req  Unnamed: 0         WorkExp  \\\n",
       "0   \\r\\n96   \\r\\n310        Achira     NaN         0.0  \\r\\n36 months    \n",
       "1   \\r\\n96   \\r\\n310   achira shah     NaN         1.0  \\r\\n24 months    \n",
       "2  \\r\\n100   \\r\\n304     Deep Vira     NaN         2.0    \\r\\n1 month    \n",
       "\n",
       "  admit/reject                  college  \n",
       "0        admit  Northeastern University  \n",
       "1        admit  Northeastern University  \n",
       "2        admit  Northeastern University  "
      ]
     },
     "execution_count": 16,
     "metadata": {},
     "output_type": "execute_result"
    }
   ],
   "source": [
    "concat_df.head(3)"
   ]
  },
  {
   "cell_type": "code",
   "execution_count": 17,
   "metadata": {
    "collapsed": false,
    "scrolled": true
   },
   "outputs": [
    {
     "data": {
      "text/html": [
       "<div>\n",
       "<table border=\"1\" class=\"dataframe\">\n",
       "  <thead>\n",
       "    <tr style=\"text-align: right;\">\n",
       "      <th></th>\n",
       "      <th>Nt req</th>\n",
       "      <th>CGPA</th>\n",
       "      <th>CourseName</th>\n",
       "      <th>ENG_TEST</th>\n",
       "      <th>GRE</th>\n",
       "      <th>Name</th>\n",
       "      <th>WorkExp</th>\n",
       "      <th>admit/reject</th>\n",
       "      <th>college</th>\n",
       "    </tr>\n",
       "  </thead>\n",
       "  <tbody>\n",
       "    <tr>\n",
       "      <th>0</th>\n",
       "      <td>0</td>\n",
       "      <td>\\r\\n7.85 CGPA</td>\n",
       "      <td>\\r\\nNorth Carolina State University, Raleigh M...</td>\n",
       "      <td>\\r\\n100</td>\n",
       "      <td>\\r\\n 304</td>\n",
       "      <td>Deep Vira</td>\n",
       "      <td>\\r\\n1 month</td>\n",
       "      <td>reject</td>\n",
       "      <td>North Carolina State University, Raleigh</td>\n",
       "    </tr>\n",
       "    <tr>\n",
       "      <th>1</th>\n",
       "      <td>1</td>\n",
       "      <td>\\r\\n69.6 %</td>\n",
       "      <td>\\r\\nNorth Carolina State University, Raleigh A...</td>\n",
       "      <td>\\r\\n7</td>\n",
       "      <td>\\r\\n306</td>\n",
       "      <td>yash mehta</td>\n",
       "      <td>\\r\\n6 months</td>\n",
       "      <td>reject</td>\n",
       "      <td>North Carolina State University, Raleigh</td>\n",
       "    </tr>\n",
       "    <tr>\n",
       "      <th>2</th>\n",
       "      <td>2</td>\n",
       "      <td>\\r\\n8.85 CGPA</td>\n",
       "      <td>\\r\\nNorth Carolina State University, Raleigh M...</td>\n",
       "      <td>\\r\\n118</td>\n",
       "      <td>\\r\\n329</td>\n",
       "      <td>Srinidhi Suresh</td>\n",
       "      <td>\\r\\nNA</td>\n",
       "      <td>reject</td>\n",
       "      <td>North Carolina State University, Raleigh</td>\n",
       "    </tr>\n",
       "  </tbody>\n",
       "</table>\n",
       "</div>"
      ],
      "text/plain": [
       "   Nt req            CGPA                                         CourseName  \\\n",
       "0       0  \\r\\n7.85 CGPA   \\r\\nNorth Carolina State University, Raleigh M...   \n",
       "1       1     \\r\\n69.6 %   \\r\\nNorth Carolina State University, Raleigh A...   \n",
       "2       2  \\r\\n8.85 CGPA   \\r\\nNorth Carolina State University, Raleigh M...   \n",
       "\n",
       "   ENG_TEST        GRE             Name        WorkExp admit/reject  \\\n",
       "0  \\r\\n100   \\r\\n 304         Deep Vira   \\r\\n1 month        reject   \n",
       "1    \\r\\n7    \\r\\n306        yash mehta  \\r\\n6 months        reject   \n",
       "2  \\r\\n118    \\r\\n329   Srinidhi Suresh        \\r\\nNA        reject   \n",
       "\n",
       "                                    college  \n",
       "0  North Carolina State University, Raleigh  \n",
       "1  North Carolina State University, Raleigh  \n",
       "2  North Carolina State University, Raleigh  "
      ]
     },
     "execution_count": 17,
     "metadata": {},
     "output_type": "execute_result"
    }
   ],
   "source": [
    "student1.head(3)"
   ]
  }
 ],
 "metadata": {
  "kernelspec": {
   "display_name": "Python 3",
   "language": "python",
   "name": "python3"
  },
  "language_info": {
   "codemirror_mode": {
    "name": "ipython",
    "version": 3
   },
   "file_extension": ".py",
   "mimetype": "text/x-python",
   "name": "python",
   "nbconvert_exporter": "python",
   "pygments_lexer": "ipython3",
   "version": "3.5.1"
  }
 },
 "nbformat": 4,
 "nbformat_minor": 1
}
