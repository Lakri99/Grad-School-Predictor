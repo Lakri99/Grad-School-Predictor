{
 "cells": [
  {
   "cell_type": "code",
   "execution_count": null,
   "metadata": {
    "collapsed": true
   },
   "outputs": [],
   "source": [
    "#this creates a csv file 'universityList.csv' containing name, key and link for all university.\n",
    "# Note to self\n",
    "# ------- Do not Execute this cell -----------\n",
    "\n",
    "getUniversityList()"
   ]
  },
  {
   "cell_type": "code",
   "execution_count": 6,
   "metadata": {
    "collapsed": true
   },
   "outputs": [],
   "source": [
    "import requests\n",
    "from lxml import html\n",
    "import sys\n",
    "from urllib.request import urlopen as uReq\n",
    "from bs4 import BeautifulSoup as soup\n",
    "import re\n",
    "import urllib.request\n",
    "from requests.exceptions import HTTPError\n",
    "import pandas as pd\n",
    "import numpy as np\n",
    "import time"
   ]
  },
  {
   "cell_type": "code",
   "execution_count": 58,
   "metadata": {
    "collapsed": true
   },
   "outputs": [],
   "source": [
    "def open_url_2_soup(url):\n",
    "    \"\"\"\n",
    "    open webpage and convert to beautiful soup object\n",
    "    returns: page_soup(soup object)\n",
    "    params: url(str) - url of the page\n",
    "    \n",
    "    \"\"\"\n",
    "    headers = {'User-Agent': 'Mozilla/5.0'}\n",
    "    page = requests.get(url,headers = headers,verify = False, allow_redirects = False)\n",
    "    if(page.status_code == 200):\n",
    "        page_soup = soup(page.content,'lxml')\n",
    "        return page_soup\n",
    "    else: \n",
    "        raise HTTPError()"
   ]
  },
  {
   "cell_type": "code",
   "execution_count": 3,
   "metadata": {
    "collapsed": true
   },
   "outputs": [],
   "source": [
    "def getUniversityLookup(url):\n",
    "    \"\"\"\n",
    "    get the list of university and it's basic info from ONE page\n",
    "    returns : univ_df - dataframe containing name,key and url of universities one page at a time\n",
    "    params: url - url of the page\n",
    "    \n",
    "    \"\"\"\n",
    "    univ_name = []\n",
    "    univ_link = []\n",
    "    univ_soup = open_url_2_soup(url)\n",
    "    univ_detail_tag = univ_soup.findAll(\"div\",{\"class\":\"col-sm-9 col-xs-12\"})\n",
    "    for tag in univ_detail_tag:\n",
    "        a = tag.find(\"a\",href=True)\n",
    "        univ_name.append(a.text)\n",
    "        univ_link.append(\"https://yocket.in\"+a['href'])\n",
    "    #data cleaning \n",
    "    univ_df = pd.DataFrame({\"name\":np.asarray(univ_name),\"href\": np.asarray(univ_link)})\n",
    "    print(univ_df['name'].str.split('(',n = 1, expand = True))\n",
    "    univ_df[['name','keys']] = univ_df['name'].str.split('(',n = 1, expand = True)\n",
    "    univ_df['keys'] = univ_df['keys'].apply(lambda x: x[:-1])\n",
    "    return univ_df"
   ]
  },
  {
   "cell_type": "code",
   "execution_count": 4,
   "metadata": {
    "collapsed": true
   },
   "outputs": [],
   "source": [
    "def getUniversityList():\n",
    "    \"\"\"\n",
    "    creates a csv file of all university detail\n",
    "    returns: UniversityList_df - dataframe containg the basic details of top 500 engineering schools\n",
    "    params: None\n",
    "    \n",
    "    \"\"\"\n",
    "    UniversityList_df = pd.DataFrame()\n",
    "    count = 1\n",
    "    while(count <= 16):\n",
    "        url = \"https://yocket.in/universities?page=\" + str(count)\n",
    "        temp_df = getUniversityLookup(url)\n",
    "#         print(temp_df)\n",
    "        UniversityList_df = UniversityList_df.append(temp_df,ignore_index=True)\n",
    "#         print(UniversityList_df)\n",
    "        time.sleep(5) \n",
    "        count += 1\n",
    "    UniversityList_df.to_csv('universityList.csv', encoding='utf-8')\n",
    "    return UniversityList_df\n"
   ]
  },
  {
   "cell_type": "code",
   "execution_count": 5,
   "metadata": {
    "collapsed": false,
    "scrolled": true
   },
   "outputs": [
    {
     "name": "stderr",
     "output_type": "stream",
     "text": [
      "/home/rbl/anaconda3/lib/python3.6/site-packages/requests/packages/urllib3/connectionpool.py:852: InsecureRequestWarning: Unverified HTTPS request is being made. Adding certificate verification is strongly advised. See: https://urllib3.readthedocs.io/en/latest/advanced-usage.html#ssl-warnings\n",
      "  InsecureRequestWarning)\n"
     ]
    },
    {
     "ename": "NameError",
     "evalue": "name 'extractUnivDetails' is not defined",
     "output_type": "error",
     "traceback": [
      "\u001b[0;31m---------------------------------------------------------------------------\u001b[0m",
      "\u001b[0;31mNameError\u001b[0m                                 Traceback (most recent call last)",
      "\u001b[0;32m<ipython-input-5-87e106464a4d>\u001b[0m in \u001b[0;36m<module>\u001b[0;34m()\u001b[0m\n\u001b[1;32m     28\u001b[0m         \u001b[0;32mdel\u001b[0m \u001b[0muniv_detail\u001b[0m\u001b[0;34m[\u001b[0m\u001b[0;34m'student_link'\u001b[0m\u001b[0;34m]\u001b[0m\u001b[0;34m\u001b[0m\u001b[0m\n\u001b[1;32m     29\u001b[0m     \u001b[0;32mreturn\u001b[0m\u001b[0;34m(\u001b[0m\u001b[0muniv_detail\u001b[0m\u001b[0;34m)\u001b[0m\u001b[0;34m\u001b[0m\u001b[0m\n\u001b[0;32m---> 30\u001b[0;31m \u001b[0mgetUniversityDetail\u001b[0m\u001b[0;34m(\u001b[0m\u001b[0;34m\"https://yocket.in/university-reviews/california-state-university-chico-3145/engineering\"\u001b[0m\u001b[0;34m)\u001b[0m\u001b[0;34m\u001b[0m\u001b[0m\n\u001b[0m",
      "\u001b[0;32m<ipython-input-5-87e106464a4d>\u001b[0m in \u001b[0;36mgetUniversityDetail\u001b[0;34m(url)\u001b[0m\n\u001b[1;32m     14\u001b[0m     \u001b[0;32mfor\u001b[0m \u001b[0mtag\u001b[0m \u001b[0;32min\u001b[0m \u001b[0muniv_tag\u001b[0m\u001b[0;34m:\u001b[0m\u001b[0;34m\u001b[0m\u001b[0m\n\u001b[1;32m     15\u001b[0m         \u001b[0;32mif\u001b[0m\u001b[0;34m(\u001b[0m\u001b[0mtag_no\u001b[0m \u001b[0;32min\u001b[0m \u001b[0;34m[\u001b[0m\u001b[0;36m1\u001b[0m\u001b[0;34m,\u001b[0m\u001b[0;36m2\u001b[0m\u001b[0;34m,\u001b[0m\u001b[0;36m3\u001b[0m\u001b[0;34m,\u001b[0m\u001b[0;36m4\u001b[0m\u001b[0;34m,\u001b[0m\u001b[0;36m6\u001b[0m\u001b[0;34m,\u001b[0m\u001b[0;36m8\u001b[0m\u001b[0;34m,\u001b[0m\u001b[0;36m9\u001b[0m\u001b[0;34m]\u001b[0m\u001b[0;34m)\u001b[0m\u001b[0;34m:\u001b[0m\u001b[0;34m\u001b[0m\u001b[0m\n\u001b[0;32m---> 16\u001b[0;31m             \u001b[0mname\u001b[0m\u001b[0;34m,\u001b[0m\u001b[0mdata\u001b[0m \u001b[0;34m=\u001b[0m \u001b[0mextractUnivDetails\u001b[0m\u001b[0;34m(\u001b[0m\u001b[0mtag\u001b[0m\u001b[0;34m,\u001b[0m\u001b[0mtag_no\u001b[0m\u001b[0;34m)\u001b[0m\u001b[0;34m\u001b[0m\u001b[0m\n\u001b[0m\u001b[1;32m     17\u001b[0m             \u001b[0muniv_detail\u001b[0m\u001b[0;34m[\u001b[0m\u001b[0mname\u001b[0m\u001b[0;34m]\u001b[0m \u001b[0;34m=\u001b[0m \u001b[0mdata\u001b[0m\u001b[0;34m\u001b[0m\u001b[0m\n\u001b[1;32m     18\u001b[0m         \u001b[0mtag_no\u001b[0m\u001b[0;34m+=\u001b[0m \u001b[0;36m1\u001b[0m\u001b[0;34m\u001b[0m\u001b[0m\n",
      "\u001b[0;31mNameError\u001b[0m: name 'extractUnivDetails' is not defined"
     ]
    }
   ],
   "source": [
    "\n",
    "def getUniversityDetail(url):\n",
    "    \"\"\"\n",
    "    get the details of a single university\n",
    "    params: url(string) - url of the site\n",
    "    returns : univ_detail(dict) - dictionary containing details of a single university\n",
    "    \n",
    "    \"\"\"\n",
    "    univ_detail = {}\n",
    "    page_soup = open_url_2_soup(url)\n",
    "    univ_tag = page_soup.findAll(\"div\",{\"class\":\"col-sm-3 col-xs-6\"})\n",
    "    univ_detail['name'] = page_soup.findAll(\"h1\")[0].text\n",
    "    tag_no = 1;\n",
    "    for tag in univ_tag:\n",
    "        if(tag_no in [1,2,3,4,6,8,9]):\n",
    "            name,data = extractUnivDetails(tag,tag_no)\n",
    "            univ_detail[name] = data\n",
    "        tag_no+= 1\n",
    "    try:\n",
    "        univ_detail['admitList'] = univ_detail['student_link']+\"2\"\n",
    "        univ_detail['rejectList'] = univ_detail['student_link']+\"3\"\n",
    "        univ_detail['appliedList'] = univ_detail['student_link']+\"1\"\n",
    "        del univ_detail['student_link']\n",
    "    except:\n",
    "        univ_detail['admitList'] = None\n",
    "        univ_detail['rejectList'] = None\n",
    "        univ_detail['appliedList'] = None\n",
    "        del univ_detail['student_link']\n",
    "    return(univ_detail)\n",
    "getUniversityDetail(\"https://yocket.in/university-reviews/california-state-university-chico-3145/engineering\")"
   ]
  },
  {
   "cell_type": "code",
   "execution_count": 6,
   "metadata": {
    "collapsed": true
   },
   "outputs": [],
   "source": [
    "def extractUnivDetails(tag,tag_no):\n",
    "    \"\"\"\n",
    "    returns : univ_dict(dictionary) - dictionary containing university(single) detail\n",
    "    params: tag(soup element) - the div containing the element\n",
    "            tag_no(int) - number of div\n",
    "    \"\"\"\n",
    "    univ_dict = {}\n",
    "    if(tag_no in [1,2,8,9]):\n",
    "        return(tag.h3.small.text,(tag.br.previous_sibling)[1:])\n",
    "    elif(tag_no ==3):\n",
    "        return (tag.h3.findAll(\"small\")[1].text,tag.h3.find(\"small\").previous_sibling)\n",
    "    elif(tag_no ==4):\n",
    "        return (tag.h3.findAll(\"small\")[1].text,(tag.h3.find(\"small\").previous_sibling)[2:])\n",
    "    elif(tag_no == 6):\n",
    "        try:\n",
    "            a = tag.findAll(\"a\",href=True)[0]\n",
    "        except:\n",
    "            return(\"student_link\",None)\n",
    "        else:\n",
    "            return(\"student_link\",(\"https://yocket.in\"+a['href'])[:-1])\n"
   ]
  },
  {
   "cell_type": "code",
   "execution_count": 7,
   "metadata": {
    "collapsed": true
   },
   "outputs": [],
   "source": [
    "def univDetail_to_csv():\n",
    "    \"\"\"\n",
    "    generate csv file containing university details\n",
    "    params : None\n",
    "    returns : None\n",
    "    \"\"\"\n",
    "    univ_list = pd.read_csv('universityList.csv')\n",
    "    universityDetail = pd.DataFrame()\n",
    "    counter = 51\n",
    "    while(counter <= 100):\n",
    "        link = univ_list.iloc[counter]['href']\n",
    "        dict_temp = getUniversityDetail(link)\n",
    "        universityDetail = universityDetail.append(dict_temp,ignore_index = True)\n",
    "        print(counter)\n",
    "        counter += 1\n",
    "        time.sleep(10)\n",
    "#     print(universityDetail)\n",
    "    universityDetail.to_csv('universityDetailList.csv', encoding='utf-8',header = False,mode = 'a')"
   ]
  },
  {
   "cell_type": "code",
   "execution_count": null,
   "metadata": {
    "collapsed": true
   },
   "outputs": [],
   "source": [
    "#create the cab file of university list with all it's parameter\n",
    "#  Note to self\n",
    "# -----------DO NOT EXECUTE THIS CELL --------------\n",
    "univDetail_to_csv()   "
   ]
  },
  {
   "cell_type": "code",
   "execution_count": 8,
   "metadata": {
    "collapsed": true
   },
   "outputs": [],
   "source": [
    "def getStdList(page_soup,admit_status):\n",
    "    \"\"\"\n",
    "    calculates the details of user for a single page\n",
    "    params : admit_status(string) - admit/reject string\n",
    "             page_soup(soup object) - soup of each page of student list of a university\n",
    "    returns: dataframe containing user detail from a single page\n",
    "    \"\"\"\n",
    "    name_tag = page_soup.findAll(\"input\" , {\"id\" : \"users-view-search-universities\"})[0]\n",
    "    name = name_tag['value']\n",
    "    grading = page_soup.findAll(\"div\",{\"class\" : \"col-sm-6\"})[1:]\n",
    "#     print(grading[0])\n",
    "    student_df = pd.DataFrame()\n",
    "    for tag in grading:\n",
    "#         print(tag)\n",
    "        std_data = {}\n",
    "        std_data['college'] = name\n",
    "        std_data['admit/reject'] = admit_status\n",
    "        a = tag.findAll(\"a\",href = True)[0]\n",
    "#         print(a)\n",
    "        std_data['Name'] = a.text #Tag for name of student\n",
    "#         std_data['studentLink'] - a['href']\n",
    "        std_data['CourseName'] = tag.find(\"small\").text #Tag for course\n",
    "        student_data_tag = tag.findAll(\"div\",{\"class\":\"col-sm-3 col-xs-6\"})\n",
    "        for data_tag in student_data_tag:\n",
    "            heading = data_tag.find(\"strong\").text\n",
    "            data = data_tag.findNext(\"br\").next_sibling\n",
    "            if (heading == \"GRE\"):\n",
    "                std_data['GRE'] = data.string\n",
    "\n",
    "            elif(heading == \"TOEFL\" or heading == \"IELTS\" or heading == \"ENG TEST\"):\n",
    "                std_data['ENG_TEST'] = data.string\n",
    "\n",
    "            elif(heading == \"UNDERGRAD\"):\n",
    "                std_data['CGPA']= data.string\n",
    "\n",
    "            elif(heading == \"WORK EX\"):\n",
    "                std_data['WorkExp'] = data.string\n",
    "#         print(std_data)\n",
    "        student_df = student_df.append(std_data, ignore_index=True)\n",
    "#     print(student_df)\n",
    "    return student_df\n"
   ]
  },
  {
   "cell_type": "code",
   "execution_count": 59,
   "metadata": {
    "collapsed": true
   },
   "outputs": [],
   "source": [
    "def getStudentDetailList(url,admit):\n",
    "    \"\"\"\n",
    "    gets the entire student list for a single university\n",
    "    params: url(string) - student list url of the university\n",
    "            admit(string) - admit/reject status\n",
    "    return: student_detail(dataframe) - containg all the student list for a single university\n",
    "    \"\"\"\n",
    "    page_counter = 1\n",
    "    student_detail = pd.DataFrame()\n",
    "    url = url + \"?page=1\"\n",
    "    while(True):\n",
    "        try:\n",
    "            page_soup = open_url_2_soup(url)\n",
    "        except HTTPError:\n",
    "            print(url)\n",
    "            print(\"exception raised\")\n",
    "            page_counter = 1\n",
    "            break\n",
    "            \n",
    "        else:\n",
    "            print(\"in else\")\n",
    "            std_detail_page = getStdList(page_soup,admit)\n",
    "            student_detail = pd.concat([student_detail,std_detail_page])\n",
    "#             print(student_detail)\n",
    "            page_counter += 1\n",
    "            url = url[:-1] + str(page_counter)\n",
    "    return student_detail"
   ]
  },
  {
   "cell_type": "code",
   "execution_count": 64,
   "metadata": {
    "collapsed": true
   },
   "outputs": [],
   "source": [
    "def generateStudentList():\n",
    "    \"\"\"\n",
    "    generate applied and rejected student detail list for all universities\n",
    "    params: None\n",
    "    returns: None\n",
    "    \"\"\"\n",
    "    student_detail_df = pd.read_csv(\"universityDetailList.csv\", header=1)\n",
    "    header = True\n",
    "    for index,row in student_detail_df.iterrows():\n",
    "        print(row['admitList'])\n",
    "        student_admit = getStudentDetailList(row['admitList'],'admit')\n",
    "        student_admit.to_csv('studentList.csv', mode = 'a', encoding='utf-8',header = header)\n",
    "        header = False\n",
    "        print(row['rejectList'])\n",
    "        student_reject = getStudentDetailList(row['rejectList'],'rejected')\n",
    "        student_reject.to_csv('studentList.csv', mode='a', encoding = 'utf-8', header = header)\n",
    "        break\n",
    "    \n",
    "        \n",
    "               "
   ]
  },
  {
   "cell_type": "code",
   "execution_count": 15,
   "metadata": {
    "collapsed": false,
    "scrolled": false
   },
   "outputs": [
    {
     "name": "stderr",
     "output_type": "stream",
     "text": [
      "C:\\Users\\lakshmib\\AppData\\Local\\Continuum\\Anaconda3\\lib\\site-packages\\requests\\packages\\urllib3\\connectionpool.py:791: InsecureRequestWarning: Unverified HTTPS request is being made. Adding certificate verification is strongly advised. See: https://urllib3.readthedocs.org/en/latest/security.html\n",
      "  InsecureRequestWarning)\n",
      "C:\\Users\\lakshmib\\AppData\\Local\\Continuum\\Anaconda3\\lib\\site-packages\\requests\\packages\\urllib3\\connectionpool.py:791: InsecureRequestWarning: Unverified HTTPS request is being made. Adding certificate verification is strongly advised. See: https://urllib3.readthedocs.org/en/latest/security.html\n",
      "  InsecureRequestWarning)\n",
      "C:\\Users\\lakshmib\\AppData\\Local\\Continuum\\Anaconda3\\lib\\site-packages\\requests\\packages\\urllib3\\connectionpool.py:791: InsecureRequestWarning: Unverified HTTPS request is being made. Adding certificate verification is strongly advised. See: https://urllib3.readthedocs.org/en/latest/security.html\n",
      "  InsecureRequestWarning)\n"
     ]
    },
    {
     "name": "stdout",
     "output_type": "stream",
     "text": [
      "e4d1d652cc529b46f51456fc7d9b1c78f58b42a5349549f767c4b9fe616e52812106e5e13ead424b0f925b49e872a38fe265c5fc50a2574eaa35cce90657a9c8\n"
     ]
    },
    {
     "name": "stderr",
     "output_type": "stream",
     "text": [
      "C:\\Users\\lakshmib\\AppData\\Local\\Continuum\\Anaconda3\\lib\\site-packages\\requests\\packages\\urllib3\\connectionpool.py:791: InsecureRequestWarning: Unverified HTTPS request is being made. Adding certificate verification is strongly advised. See: https://urllib3.readthedocs.org/en/latest/security.html\n",
      "  InsecureRequestWarning)\n"
     ]
    },
    {
     "data": {
      "text/plain": [
       "b'<!DOCTYPE html>\\n<html>\\n<head>\\n<title>Rejects from Northeastern University | Yocket</title>\\n<meta name=\"description\" content=\"Check profiles and test scores (GRE, GMAT, TOEFL, IELTS...) of students who got a reject from Northeastern University for Fall 2018 and Spring 2018\" />\\n<meta charset=\"utf-8\" /><meta name=\"viewport\" content=\"width=device-width, initial-scale=1.0\" />\\n<script src=\"/cdn-cgi/apps/head/Mu6wVX4OcZ8KDPC4TGyjOacEUjg.js\"></script><link href=\"/img/yocket.ico\" type=\"image/x-icon\" rel=\"icon\" /><link href=\"/img/yocket.ico\" type=\"image/x-icon\" rel=\"shortcut icon\" />\\n<link rel=\"dns-prefetch\" href=\"//static.yocket.in\" />\\n<link rel=\"dns-prefetch\" href=\"//yocket.in\" />\\n<link rel=\"dns-prefetch\" href=\"//maxcdn.bootstrapcdn.com\" />\\n<link rel=\"dns-prefetch\" href=\"//fonts.gstatic.com\" />\\n<link rel=\"dns-prefetch\" href=\"//fonts.googleapis.com\" />\\n<meta name=\"theme-color\" content=\"#EF6C00\" /><link rel=\"icon\" sizes=\"192x192\" href=\"https://static.yocket.in/images/yocket_logo.png\" />\\n<link rel=\"manifest\" href=\"/manifest.json\" />\\n<noscript class=\\'css-links-wrapper\\'>\\n\\t<!--<link rel=\"stylesheet\" href=\"https://maxcdn.bootstrapcdn.com/font-awesome/4.4.0/css/font-awesome.min.css\" class=\"js-fa-async-stylesheets\" media=\"meaningless-media-query\" async=\"async\"/>-->\\n\\t<link rel=\"stylesheet\" href=\"https://use.fontawesome.com/releases/v5.1.1/css/all.css\" class=\"js-fa-async-stylesheets\" media=\"meaningless-media-query\" async=\"async\"/>\\t<link rel=\"stylesheet\" href=\"https://fonts.googleapis.com/css?family=Noto+Sans:400,700\" class=\"js-fa-async-stylesheets\" media=\"meaningless-media-query\" async=\"async\"/></noscript>\\n\\n<script src=\"https://static.yocket.in/js/vendor.js?v=2.28.37\" defer=\"defer\"></script><script type=\"text/javascript\">\\n\\twindow.base_url = \\'https://yocket.in/\\';\\n\\twindow.username = \\'lakri\\';  \\n</script>\\n<script>\\n\\twindow.reqAnimFr =\\n\\t\\t(typeof window.requestAnimationFrame === \\'function\\')?\\n\\t\\t\\t(function(fn) { window.requestAnimationFrame(function() { fn(); }); }):\\n\\t\\t\\t(function(fn) { setTimeout(fn, 10); });\\n\\n\\t// Full load(if loaded, call, else, wait for loading)\\n\\twindow.onFullLoad = function(_onLoad) {\\n\\t\\t// Is it already loaded?\\n\\t\\tif([ \\'complete\\', \\'interactive\\' ].indexOf(document.readyState) !== -1) {\\n\\t\\t\\trequestAnimationFrame(_onLoad);\\n\\t\\t} else {\\n\\t\\t\\twindow.addEventListener(\\'DOMContentLoaded\\', _onLoad);\\n\\t\\t}\\n\\t};\\n\\n\\t(function(doc, win, raf) {\\n\\t\\t\\'use strict\\';\\n\\t\\twindow.Array.from= window.Array.from || function(arr) { return window.Array.prototype.slice.call(arr, 0); };\\n\\n\\t\\tvar $deferedLinks= doc.querySelector(\\'.css-links-wrapper\\');\\n\\n\\t\\tfunction applyCSS($el) { if($el.getAttribute(\\'media\\') !== \\'all\\') $el.setAttribute(\\'media\\', \\'all\\'); }\\n\\n\\t\\twindow.lCSSAsync= function () {\\n\\t\\t\\tvar cls= \\'js-fa-async-stylesheets\\';\\n\\t\\t\\tvar $asyncLinks= doc.querySelectorAll(\\'.\\' + cls) || [];\\n\\n\\t\\t\\tfor(var i= 0; i< $asyncLinks.length; i++) {\\n\\t\\t\\t\\tvar $el = $asyncLinks[i];\\n\\t\\t\\t\\tvar isLoaded = true;\\n\\t\\t\\t\\t$el.classList.remove(cls);\\n\\n\\t\\t\\t\\tfor(var j= 0; j < doc.styleSheets.length; j++) {\\n\\t\\t\\t\\t\\tvar s = doc.styleSheets[j];\\n\\t\\t\\t\\t\\tif(s.href === $el.href && !(\\'cssRules\\' in s)) {\\n\\t\\t\\t\\t\\t\\t$el.addEventListener(\\'load\\', applyCSS.bind(null, $el));\\n\\t\\t\\t\\t\\t\\tisLoaded = false;\\n\\t\\t\\t\\t\\t\\tbreak;\\n\\t\\t\\t\\t\\t}\\n\\t\\t\\t\\t}\\n\\n\\t\\t\\t\\tif(isLoaded) raf(applyCSS.bind(null, $el));\\n\\t\\t\\t}\\n\\t\\t};\\n\\n\\t\\tfunction lCSSDef() {\\n\\t\\t\\traf(function() {\\n\\t\\t\\t\\tvar $div= doc.createElement(\\'div\\');\\n\\t\\t\\t\\t$div.innerHTML= $deferedLinks? $deferedLinks.textContent: \\'\\';\\n\\t\\t\\t\\tdoc.head.appendChild($div);\\n\\t\\t\\t\\twindow.lCSSAsync();\\n\\t\\t\\t});\\n\\t\\t}\\n\\t\\tdoc.addEventListener(\\'DOMContentLoaded\\', lCSSDef);\\n\\t})(document, window, window.reqAnimFr);\\n</script>\\n<script src=\"https://maxcdn.bootstrapcdn.com/bootstrap/3.3.5/js/bootstrap.min.js\" integrity=\"sha512-K1qjQ+NcF2TYO/eI3M6v8EiNYZfA95pQumfvcVrTHtwQVDG+aHRqLi/ETn2uB+1JqwYqVG3LIvdm9lj6imS/pQ==\" crossorigin=\\'anonymous\\' defer></script>\\n\\n<script>var loggedInUserId = 410406</script>\\n<script>\\n  (function(i,s,o,g,r,a,m){i[\\'GoogleAnalyticsObject\\']=r;i[r]=i[r]||function(){\\n  (i[r].q=i[r].q||[]).push(arguments)},i[r].l=1*new Date();a=s.createElement(o),\\n  m=s.getElementsByTagName(o)[0];a.async=1;a.src=g;m.parentNode.insertBefore(a,m)\\n  })(window,document,\\'script\\',\\'//www.google-analytics.com/analytics.js\\',\\'ga\\');\\n\\n  ga(\\'create\\', \\'UA-61697801-2\\', \\'auto\\', {\\'userId\\' : \\'410406\\'});  ga(\\'send\\', \\'pageview\\');\\n</script>\\n\\n<script async=\\'async\\' src=\\'https://www.googletagservices.com/tag/js/gpt.js\\'></script>\\n<script>\\n  var googletag = googletag || {};\\n  googletag.cmd = googletag.cmd || [];\\n</script>\\n<script>\\n  googletag.cmd.push(function() {\\n    googletag.defineSlot(\\'/118013234/yocket-right-1\\', [300, 250], \\'div-gpt-ad-1486040951439-0\\').addService(googletag.pubads());\\n    googletag.defineSlot(\\'/118013234/yocket-right-2\\', [300, 250], \\'div-gpt-ad-1486040951439-1\\').addService(googletag.pubads());\\n    googletag.defineSlot(\\'/118013234/yocket-right-3\\', [300, 250], \\'div-gpt-ad-1486040951439-2\\').addService(googletag.pubads());\\n    googletag.defineSlot(\\'/118013234/yocket-right-4\\', [300, 250], \\'div-gpt-ad-1510292313192-3\\').addService(googletag.pubads());\\n    googletag.pubads().enableSingleRequest();\\n    googletag.enableServices();\\n  });\\n</script>\\n\\n<script>\\n    !function(f,b,e,v,n,t,s)\\n    {if(f.fbq)return;n=f.fbq=function(){n.callMethod?\\n    n.callMethod.apply(n,arguments):n.queue.push(arguments)};\\n    if(!f._fbq)f._fbq=n;n.push=n;n.loaded=!0;n.version=\\'2.0\\';\\n    n.queue=[];t=b.createElement(e);t.async=!0;\\n    t.src=v;s=b.getElementsByTagName(e)[0];\\n    s.parentNode.insertBefore(t,s)}(window,document,\\'script\\',\\n    \\'https://connect.facebook.net/en_US/fbevents.js\\');\\n     fbq(\\'init\\', \\'2335918096634703\\'); \\n    fbq(\\'track\\', \\'PageView\\');\\n</script>\\n<noscript>\\n    <img height=\"1\" width=\"1\"\\n    src=\"https://www.facebook.com/tr?id=129716877531675&ev=PageView\\n    &noscript=1\"/>\\n</noscript>\\n\\n\\n<script>(function(d, s, id) {\\n  var js, fjs = d.getElementsByTagName(s)[0];\\n  if (d.getElementById(id)) return;\\n  js = d.createElement(s); js.id = id;\\n  js.crossorigin=\\'anonymous\\';\\n  js.src = \"//connect.facebook.net/en_US/sdk.js#xfbml=1&version=v2.8&appId=812660582206420\";\\n  fjs.parentNode.insertBefore(js, fjs);\\n}(document, \\'script\\', \\'facebook-jssdk\\'));</script>\\n\\n<link rel=\"stylesheet\" href=\"https://static.yocket.in/css/style.css?v=2.27.14\" class=\"js-fa-async-stylesheets\" media=\"meaningless-media-query\" async=\"async\" /><link rel=\"stylesheet\" href=\"https://fonts.googleapis.com/css?family=Marck+Script\" class=\"js-fa-async-stylesheets\" media=\"meaningless-media-query\" async=\"async\" /><script>setTimeout(window.lCSSAsync, 10);</script>\\n<style>body{font-family:\"Noto Sans\",Arial,sans-serif;font-size:13px;line-height:1.42857143;color:#555;background-color:#fff}.container{margin-right:auto;margin-left:auto;padding-left:15px;padding-right:15px}@media (min-width:768px){.container{width:750px}}@media (min-width:992px){.container{width:970px}}@media (min-width:1200px){.container{width:1170px}}.container-fluid{margin-right:auto;margin-left:auto;padding-left:15px;padding-right:15px}.row{margin-left:-15px;margin-right:-15px}.col-lg-1,.col-lg-10,.col-lg-11,.col-lg-12,.col-lg-2,.col-lg-3,.col-lg-4,.col-lg-5,.col-lg-6,.col-lg-7,.col-lg-8,.col-lg-9,.col-md-1,.col-md-10,.col-md-11,.col-md-12,.col-md-2,.col-md-3,.col-md-4,.col-md-5,.col-md-6,.col-md-7,.col-md-8,.col-md-9,.col-sm-1,.col-sm-10,.col-sm-11,.col-sm-12,.col-sm-2,.col-sm-3,.col-sm-4,.col-sm-5,.col-sm-6,.col-sm-7,.col-sm-8,.col-sm-9,.col-xs-1,.col-xs-10,.col-xs-11,.col-xs-12,.col-xs-2,.col-xs-3,.col-xs-4,.col-xs-5,.col-xs-6,.col-xs-7,.col-xs-8,.col-xs-9{position:relative;min-height:1px;padding-left:15px;padding-right:15px}.col-xs-1,.col-xs-10,.col-xs-11,.col-xs-12,.col-xs-2,.col-xs-3,.col-xs-4,.col-xs-5,.col-xs-6,.col-xs-7,.col-xs-8,.col-xs-9{float:left}.col-xs-12{width:100%}.col-xs-11{width:91.66666667%}.col-xs-10{width:83.33333333%}.col-xs-9{width:75%}.col-xs-8{width:66.66666667%}.col-xs-7{width:58.33333333%}.col-xs-6{width:50%}.col-xs-5{width:41.66666667%}.col-xs-4{width:33.33333333%}.col-xs-3{width:25%}.col-xs-2{width:16.66666667%}.col-xs-1{width:8.33333333%}.col-xs-pull-12{right:100%}.col-xs-pull-11{right:91.66666667%}.col-xs-pull-10{right:83.33333333%}.col-xs-pull-9{right:75%}.col-xs-pull-8{right:66.66666667%}.col-xs-pull-7{right:58.33333333%}.col-xs-pull-6{right:50%}.col-xs-pull-5{right:41.66666667%}.col-xs-pull-4{right:33.33333333%}.col-xs-pull-3{right:25%}.col-xs-pull-2{right:16.66666667%}.col-xs-pull-1{right:8.33333333%}.col-xs-pull-0{right:auto}.col-xs-push-12{left:100%}.col-xs-push-11{left:91.66666667%}.col-xs-push-10{left:83.33333333%}.col-xs-push-9{left:75%}.col-xs-push-8{left:66.66666667%}.col-xs-push-7{left:58.33333333%}.col-xs-push-6{left:50%}.col-xs-push-5{left:41.66666667%}.col-xs-push-4{left:33.33333333%}.col-xs-push-3{left:25%}.col-xs-push-2{left:16.66666667%}.col-xs-push-1{left:8.33333333%}.col-xs-push-0{left:auto}.col-xs-offset-12{margin-left:100%}.col-xs-offset-11{margin-left:91.66666667%}.col-xs-offset-10{margin-left:83.33333333%}.col-xs-offset-9{margin-left:75%}.col-xs-offset-8{margin-left:66.66666667%}.col-xs-offset-7{margin-left:58.33333333%}.col-xs-offset-6{margin-left:50%}.col-xs-offset-5{margin-left:41.66666667%}.col-xs-offset-4{margin-left:33.33333333%}.col-xs-offset-3{margin-left:25%}.col-xs-offset-2{margin-left:16.66666667%}.col-xs-offset-1{margin-left:8.33333333%}.col-xs-offset-0{margin-left:0}@media (min-width:768px){.col-sm-1,.col-sm-10,.col-sm-11,.col-sm-12,.col-sm-2,.col-sm-3,.col-sm-4,.col-sm-5,.col-sm-6,.col-sm-7,.col-sm-8,.col-sm-9{float:left}.col-sm-12{width:100%}.col-sm-11{width:91.66666667%}.col-sm-10{width:83.33333333%}.col-sm-9{width:75%}.col-sm-8{width:66.66666667%}.col-sm-7{width:58.33333333%}.col-sm-6{width:50%}.col-sm-5{width:41.66666667%}.col-sm-4{width:33.33333333%}.col-sm-3{width:25%}.col-sm-2{width:16.66666667%}.col-sm-1{width:8.33333333%}.col-sm-pull-12{right:100%}.col-sm-pull-11{right:91.66666667%}.col-sm-pull-10{right:83.33333333%}.col-sm-pull-9{right:75%}.col-sm-pull-8{right:66.66666667%}.col-sm-pull-7{right:58.33333333%}.col-sm-pull-6{right:50%}.col-sm-pull-5{right:41.66666667%}.col-sm-pull-4{right:33.33333333%}.col-sm-pull-3{right:25%}.col-sm-pull-2{right:16.66666667%}.col-sm-pull-1{right:8.33333333%}.col-sm-pull-0{right:auto}.col-sm-push-12{left:100%}.col-sm-push-11{left:91.66666667%}.col-sm-push-10{left:83.33333333%}.col-sm-push-9{left:75%}.col-sm-push-8{left:66.66666667%}.col-sm-push-7{left:58.33333333%}.col-sm-push-6{left:50%}.col-sm-push-5{left:41.66666667%}.col-sm-push-4{left:33.33333333%}.col-sm-push-3{left:25%}.col-sm-push-2{left:16.66666667%}.col-sm-push-1{left:8.33333333%}.col-sm-push-0{left:auto}.col-sm-offset-12{margin-left:100%}.col-sm-offset-11{margin-left:91.66666667%}.col-sm-offset-10{margin-left:83.33333333%}.col-sm-offset-9{margin-left:75%}.col-sm-offset-8{margin-left:66.66666667%}.col-sm-offset-7{margin-left:58.33333333%}.col-sm-offset-6{margin-left:50%}.col-sm-offset-5{margin-left:41.66666667%}.col-sm-offset-4{margin-left:33.33333333%}.col-sm-offset-3{margin-left:25%}.col-sm-offset-2{margin-left:16.66666667%}.col-sm-offset-1{margin-left:8.33333333%}.col-sm-offset-0{margin-left:0}}@media (min-width:992px){.col-md-1,.col-md-10,.col-md-11,.col-md-12,.col-md-2,.col-md-3,.col-md-4,.col-md-5,.col-md-6,.col-md-7,.col-md-8,.col-md-9{float:left}.col-md-12{width:100%}.col-md-11{width:91.66666667%}.col-md-10{width:83.33333333%}.col-md-9{width:75%}.col-md-8{width:66.66666667%}.col-md-7{width:58.33333333%}.col-md-6{width:50%}.col-md-5{width:41.66666667%}.col-md-4{width:33.33333333%}.col-md-3{width:25%}.col-md-2{width:16.66666667%}.col-md-1{width:8.33333333%}.col-md-pull-12{right:100%}.col-md-pull-11{right:91.66666667%}.col-md-pull-10{right:83.33333333%}.col-md-pull-9{right:75%}.col-md-pull-8{right:66.66666667%}.col-md-pull-7{right:58.33333333%}.col-md-pull-6{right:50%}.col-md-pull-5{right:41.66666667%}.col-md-pull-4{right:33.33333333%}.col-md-pull-3{right:25%}.col-md-pull-2{right:16.66666667%}.col-md-pull-1{right:8.33333333%}.col-md-pull-0{right:auto}.col-md-push-12{left:100%}.col-md-push-11{left:91.66666667%}.col-md-push-10{left:83.33333333%}.col-md-push-9{left:75%}.col-md-push-8{left:66.66666667%}.col-md-push-7{left:58.33333333%}.col-md-push-6{left:50%}.col-md-push-5{left:41.66666667%}.col-md-push-4{left:33.33333333%}.col-md-push-3{left:25%}.col-md-push-2{left:16.66666667%}.col-md-push-1{left:8.33333333%}.col-md-push-0{left:auto}.col-md-offset-12{margin-left:100%}.col-md-offset-11{margin-left:91.66666667%}.col-md-offset-10{margin-left:83.33333333%}.col-md-offset-9{margin-left:75%}.col-md-offset-8{margin-left:66.66666667%}.col-md-offset-7{margin-left:58.33333333%}.col-md-offset-6{margin-left:50%}.col-md-offset-5{margin-left:41.66666667%}.col-md-offset-4{margin-left:33.33333333%}.col-md-offset-3{margin-left:25%}.col-md-offset-2{margin-left:16.66666667%}.col-md-offset-1{margin-left:8.33333333%}.col-md-offset-0{margin-left:0}}@media (min-width:1200px){.col-lg-1,.col-lg-10,.col-lg-11,.col-lg-12,.col-lg-2,.col-lg-3,.col-lg-4,.col-lg-5,.col-lg-6,.col-lg-7,.col-lg-8,.col-lg-9{float:left}.col-lg-12{width:100%}.col-lg-11{width:91.66666667%}.col-lg-10{width:83.33333333%}.col-lg-9{width:75%}.col-lg-8{width:66.66666667%}.col-lg-7{width:58.33333333%}.col-lg-6{width:50%}.col-lg-5{width:41.66666667%}.col-lg-4{width:33.33333333%}.col-lg-3{width:25%}.col-lg-2{width:16.66666667%}.col-lg-1{width:8.33333333%}.col-lg-pull-12{right:100%}.col-lg-pull-11{right:91.66666667%}.col-lg-pull-10{right:83.33333333%}.col-lg-pull-9{right:75%}.col-lg-pull-8{right:66.66666667%}.col-lg-pull-7{right:58.33333333%}.col-lg-pull-6{right:50%}.col-lg-pull-5{right:41.66666667%}.col-lg-pull-4{right:33.33333333%}.col-lg-pull-3{right:25%}.col-lg-pull-2{right:16.66666667%}.col-lg-pull-1{right:8.33333333%}.col-lg-pull-0{right:auto}.col-lg-push-12{left:100%}.col-lg-push-11{left:91.66666667%}.col-lg-push-10{left:83.33333333%}.col-lg-push-9{left:75%}.col-lg-push-8{left:66.66666667%}.col-lg-push-7{left:58.33333333%}.col-lg-push-6{left:50%}.col-lg-push-5{left:41.66666667%}.col-lg-push-4{left:33.33333333%}.col-lg-push-3{left:25%}.col-lg-push-2{left:16.66666667%}.col-lg-push-1{left:8.33333333%}.col-lg-push-0{left:auto}.col-lg-offset-12{margin-left:100%}.col-lg-offset-11{margin-left:91.66666667%}.col-lg-offset-10{margin-left:83.33333333%}.col-lg-offset-9{margin-left:75%}.col-lg-offset-8{margin-left:66.66666667%}.col-lg-offset-7{margin-left:58.33333333%}.col-lg-offset-6{margin-left:50%}.col-lg-offset-5{margin-left:41.66666667%}.col-lg-offset-4{margin-left:33.33333333%}.col-lg-offset-3{margin-left:25%}.col-lg-offset-2{margin-left:16.66666667%}.col-lg-offset-1{margin-left:8.33333333%}.col-lg-offset-0{margin-left:0}}.btn-group-vertical>.btn-group:after,.btn-group-vertical>.btn-group:before,.btn-toolbar:after,.btn-toolbar:before,.clearfix:after,.clearfix:before,.container-fluid:after,.container-fluid:before,.container:after,.container:before,.dl-horizontal dd:after,.dl-horizontal dd:before,.form-horizontal .form-group:after,.form-horizontal .form-group:before,.modal-footer:after,.modal-footer:before,.nav:after,.nav:before,.navbar-collapse:after,.navbar-collapse:before,.navbar-header:after,.navbar-header:before,.navbar:after,.navbar:before,.pager:after,.pager:before,.panel-body:after,.panel-body:before,.row:after,.row:before{content:\" \";display:table}.btn-group-vertical>.btn-group:after,.btn-toolbar:after,.clearfix:after,.container-fluid:after,.container:after,.dl-horizontal dd:after,.form-horizontal .form-group:after,.modal-footer:after,.nav:after,.navbar-collapse:after,.navbar-header:after,.navbar:after,.pager:after,.panel-body:after,.row:after{clear:both}.center-block{display:block;margin-left:auto;margin-right:auto}.nav{margin-bottom:0;padding-left:0;list-style:none}.nav>li{position:relative;display:block}.nav>li>a{position:relative;display:block;padding:10px 15px}.nav>li>a:focus,.nav>li>a:hover{text-decoration:none;background-color:#eee}.nav>li.disabled>a{color:#777}.nav>li.disabled>a:focus,.nav>li.disabled>a:hover{color:#777;text-decoration:none;background-color:transparent;cursor:not-allowed}.nav .open>a,.nav .open>a:focus,.nav .open>a:hover{background-color:#eee;border-color:#ef6c00}.nav .nav-divider{height:1px;margin:8px 0;overflow:hidden;background-color:#e5e5e5}.nav>li>a>img{max-width:none}.nav-tabs{border-bottom:1px solid #ddd}.nav-tabs>li{float:left;margin-bottom:-1px}.nav-tabs>li>a{margin-right:2px;line-height:1.42857143;border:1px solid transparent;border-radius:4px 4px 0 0}.nav-tabs>li>a:hover{border-color:#eee #eee #ddd}.nav-tabs>li.active>a,.nav-tabs>li.active>a:focus,.nav-tabs>li.active>a:hover{color:#555;background-color:#fff;border:1px solid #ddd;border-bottom-color:transparent;cursor:default}.nav-tabs.nav-justified{width:100%;border-bottom:0}.nav-tabs.nav-justified>li{float:none}.nav-tabs.nav-justified>li>a{text-align:center;margin-bottom:5px}.nav-tabs.nav-justified>.dropdown .dropdown-menu{top:auto;left:auto}@media (min-width:768px){.nav-tabs.nav-justified>li{display:table-cell;width:1%}.nav-tabs.nav-justified>li>a{margin-bottom:0}}.nav-tabs.nav-justified>li>a{margin-right:0;border-radius:4px}.nav-tabs.nav-justified>.active>a,.nav-tabs.nav-justified>.active>a:focus,.nav-tabs.nav-justified>.active>a:hover{border:1px solid #ddd}@media (min-width:768px){.nav-tabs.nav-justified>li>a{border-bottom:1px solid #ddd;border-radius:4px 4px 0 0}.nav-tabs.nav-justified>.active>a,.nav-tabs.nav-justified>.active>a:focus,.nav-tabs.nav-justified>.active>a:hover{border-bottom-color:#fff}}.nav-pills>li{float:left}.nav-pills>li>a{border-radius:4px}.nav-pills>li+li{margin-left:2px}.nav-pills>li.active>a,.nav-pills>li.active>a:focus,.nav-pills>li.active>a:hover{color:#fff;background-color:#ff9800}.nav-stacked>li{float:none}.nav-stacked>li+li{margin-top:2px;margin-left:0}.nav-justified{width:100%}.nav-justified>li{float:none}.nav-justified>li>a{text-align:center;margin-bottom:5px}.nav-justified>.dropdown .dropdown-menu{top:auto;left:auto}@media (min-width:768px){.nav-justified>li{display:table-cell;width:1%}.nav-justified>li>a{margin-bottom:0}}.nav-tabs-justified{border-bottom:0}.nav-tabs-justified>li>a{margin-right:0;border-radius:4px}.nav-tabs-justified>.active>a,.nav-tabs-justified>.active>a:focus,.nav-tabs-justified>.active>a:hover{border:1px solid #ddd}@media (min-width:768px){.nav-tabs-justified>li>a{border-bottom:1px solid #ddd;border-radius:4px 4px 0 0}.nav-tabs-justified>.active>a,.nav-tabs-justified>.active>a:focus,.nav-tabs-justified>.active>a:hover{border-bottom-color:#fff}}.tab-content>.tab-pane{display:none}.tab-content>.active{display:block}.nav-tabs .dropdown-menu{margin-top:-1px;border-top-right-radius:0;border-top-left-radius:0}.navbar{position:relative;min-height:50px;margin-bottom:18px;border:1px solid transparent}@media (min-width:768px){.navbar{border-radius:4px}}@media (min-width:768px){.navbar-header{float:left}}.navbar-collapse{overflow-x:visible;padding-right:15px;padding-left:15px;border-top:1px solid transparent;-webkit-box-shadow:inset 0 1px 0 rgba(255,255,255,.1);box-shadow:inset 0 1px 0 rgba(255,255,255,.1);-webkit-overflow-scrolling:touch}.navbar-collapse.in{overflow-y:auto}@media (min-width:768px){.navbar-collapse{width:auto;border-top:0;-webkit-box-shadow:none;box-shadow:none}.navbar-collapse.collapse{display:block!important;height:auto!important;padding-bottom:0;overflow:visible!important}.navbar-collapse.in{overflow-y:visible}.navbar-fixed-bottom .navbar-collapse,.navbar-fixed-top .navbar-collapse,.navbar-static-top .navbar-collapse{padding-left:0;padding-right:0}}.navbar-fixed-bottom .navbar-collapse,.navbar-fixed-top .navbar-collapse{max-height:340px}@media (max-device-width:480px) and (orientation:landscape){.navbar-fixed-bottom .navbar-collapse,.navbar-fixed-top .navbar-collapse{max-height:200px}}.container-fluid>.navbar-collapse,.container-fluid>.navbar-header,.container>.navbar-collapse,.container>.navbar-header{margin-right:-15px;margin-left:-15px}@media (min-width:768px){.container-fluid>.navbar-collapse,.container-fluid>.navbar-header,.container>.navbar-collapse,.container>.navbar-header{margin-right:0;margin-left:0}}.navbar-static-top{z-index:1000;border-width:0 0 1px}@media (min-width:768px){.navbar-static-top{border-radius:0}}.navbar-fixed-bottom,.navbar-fixed-top{position:fixed;right:0;left:0;z-index:1030}@media (min-width:768px){.navbar-fixed-bottom,.navbar-fixed-top{border-radius:0}}.navbar-fixed-top{top:0;border-width:0 0 1px}.navbar-fixed-bottom{bottom:0;margin-bottom:0;border-width:1px 0 0}.navbar-brand{float:left;padding:16px 15px;font-size:27px;line-height:18px;height:50px;font-family:\"Marck Script\",cursive}.navbar-brand:focus,.navbar-brand:hover{text-decoration:none}.navbar-brand>img{display:block}@media (min-width:768px){.navbar>.container .navbar-brand,.navbar>.container-fluid .navbar-brand{margin-left:-15px}}.navbar-toggle{position:relative;float:right;margin-right:15px;padding:9px 10px;margin-top:8px;margin-bottom:8px;background-color:transparent;background-image:none;border:1px solid transparent;border-radius:4px}.navbar-toggle:focus{outline:0}.navbar-toggle .icon-bar{display:block;width:22px;height:2px;border-radius:1px}.navbar-toggle .icon-bar+.icon-bar{margin-top:4px}@media (min-width:768px){.navbar-toggle{display:none}}.navbar-nav{margin:8px -15px}.navbar-nav>li>a{padding-top:10px;padding-bottom:10px;line-height:18px}@media (max-width:767px){.navbar-nav .open .dropdown-menu{position:static;float:none;width:auto;margin-top:0;background-color:transparent;border:0;-webkit-box-shadow:none;box-shadow:none}.navbar-nav .open .dropdown-menu .dropdown-header,.navbar-nav .open .dropdown-menu>li>a{padding:5px 15px 5px 25px}.navbar-nav .open .dropdown-menu>li>a{line-height:18px}.navbar-nav .open .dropdown-menu>li>a:focus,.navbar-nav .open .dropdown-menu>li>a:hover{background-image:none}}@media (min-width:768px){.navbar-nav{float:left;margin:0}.navbar-nav>li{float:left}.navbar-nav>li>a{padding-top:16px;padding-bottom:16px}}.navbar-form{margin-left:-15px;margin-right:-15px;padding:10px 15px;border-top:1px solid transparent;border-bottom:1px solid transparent;-webkit-box-shadow:inset 0 1px 0 rgba(255,255,255,.1),0 1px 0 rgba(255,255,255,.1);box-shadow:inset 0 1px 0 rgba(255,255,255,.1),0 1px 0 rgba(255,255,255,.1);margin-top:9px;margin-bottom:9px}@media (min-width:768px){.navbar-form .form-group{display:inline-block;margin-bottom:0;vertical-align:middle}.navbar-form .form-control{display:inline-block;width:auto;vertical-align:middle}.navbar-form .form-control-static{display:inline-block}.navbar-form .input-group{display:inline-table;vertical-align:middle}.navbar-form .input-group .form-control,.navbar-form .input-group .input-group-addon,.navbar-form .input-group .input-group-btn{width:auto}.navbar-form .input-group>.form-control{width:100%}.navbar-form .control-label{margin-bottom:0;vertical-align:middle}.navbar-form .checkbox,.navbar-form .radio{display:inline-block;margin-top:0;margin-bottom:0;vertical-align:middle}.navbar-form .checkbox label,.navbar-form .radio label{padding-left:0}.navbar-form .checkbox input[type=checkbox],.navbar-form .radio input[type=radio]{position:relative;margin-left:0}.navbar-form .has-feedback .form-control-feedback{top:0}}@media (max-width:767px){.navbar-form .form-group{margin-bottom:5px}.navbar-form .form-group:last-child{margin-bottom:0}}@media (min-width:768px){.navbar-form{width:auto;border:0;margin-left:0;margin-right:0;padding-top:0;padding-bottom:0;-webkit-box-shadow:none;box-shadow:none}}.navbar-nav>li>.dropdown-menu{margin-top:0;border-top-right-radius:0;border-top-left-radius:0}.navbar-fixed-bottom .navbar-nav>li>.dropdown-menu{margin-bottom:0;border-top-right-radius:4px;border-top-left-radius:4px;border-bottom-right-radius:0;border-bottom-left-radius:0}.navbar-btn{margin-top:9px;margin-bottom:9px}.navbar-btn.btn-sm{margin-top:10px;margin-bottom:10px}.navbar-btn.btn-xs{margin-top:14px;margin-bottom:14px}.navbar-text{margin-top:16px;margin-bottom:16px}@media (min-width:768px){.navbar-text{float:left;margin-left:15px;margin-right:15px}}@media (min-width:768px){.navbar-left{float:left!important}.navbar-right{float:right!important;margin-right:-15px}.navbar-right~.navbar-right{margin-right:0}}.navbar-default{background-color:#ff9800;border-color:none}.navbar-default .navbar-brand{color:#fff}.navbar-default .navbar-brand:focus,.navbar-default .navbar-brand:hover{color:#e6e6e6;background-color:transparent}.navbar-default .navbar-text{color:#fff}.navbar-default .navbar-nav>li>a{color:#fff}.navbar-default .navbar-nav>li>a:focus,.navbar-default .navbar-nav>li>a:hover{color:#f8f8f8;background-color:transparent}.navbar-default .navbar-nav>.active>a,.navbar-default .navbar-nav>.active>a:focus,.navbar-default .navbar-nav>.active>a:hover{color:#fff;background-color:#de8400}.navbar-default .navbar-nav>.disabled>a,.navbar-default .navbar-nav>.disabled>a:focus,.navbar-default .navbar-nav>.disabled>a:hover{color:#ccc;background-color:transparent}.navbar-default .navbar-toggle{border-color:none}.navbar-default .navbar-toggle:focus,.navbar-default .navbar-toggle:hover{background-color:#de8400}.navbar-default .navbar-toggle .icon-bar{background-color:#fff}.navbar-default .navbar-collapse,.navbar-default .navbar-form{border-color:none}.navbar-default .navbar-nav>.open>a,.navbar-default .navbar-nav>.open>a:focus,.navbar-default .navbar-nav>.open>a:hover{background-color:#de8400;color:#fff}@media (max-width:767px){.navbar-default .navbar-nav .open .dropdown-menu>li>a{color:#fff}.navbar-default .navbar-nav .open .dropdown-menu>li>a:focus,.navbar-default .navbar-nav .open .dropdown-menu>li>a:hover{color:#f8f8f8;background-color:transparent}.navbar-default .navbar-nav .open .dropdown-menu>.active>a,.navbar-default .navbar-nav .open .dropdown-menu>.active>a:focus,.navbar-default .navbar-nav .open .dropdown-menu>.active>a:hover{color:#fff;background-color:#de8400}.navbar-default .navbar-nav .open .dropdown-menu>.disabled>a,.navbar-default .navbar-nav .open .dropdown-menu>.disabled>a:focus,.navbar-default .navbar-nav .open .dropdown-menu>.disabled>a:hover{color:#ccc;background-color:transparent}}.navbar-default .navbar-link{color:#fff}.navbar-default .navbar-link:hover{color:#f8f8f8}.navbar-default .btn-link{color:#fff}.navbar-default .btn-link:focus,.navbar-default .btn-link:hover{color:#f8f8f8}.navbar-default .btn-link[disabled]:focus,.navbar-default .btn-link[disabled]:hover,fieldset[disabled] .navbar-default .btn-link:focus,fieldset[disabled] .navbar-default .btn-link:hover{color:#ccc}.navbar-inverse{background-color:#222;border-color:#080808}.navbar-inverse .navbar-brand{color:#9d9d9d}.navbar-inverse .navbar-brand:focus,.navbar-inverse .navbar-brand:hover{color:#fff;background-color:transparent}.navbar-inverse .navbar-text{color:#9d9d9d}.navbar-inverse .navbar-nav>li>a{color:#9d9d9d}.navbar-inverse .navbar-nav>li>a:focus,.navbar-inverse .navbar-nav>li>a:hover{color:#fff;background-color:transparent}.navbar-inverse .navbar-nav>.active>a,.navbar-inverse .navbar-nav>.active>a:focus,.navbar-inverse .navbar-nav>.active>a:hover{color:#fff;background-color:#080808}.navbar-inverse .navbar-nav>.disabled>a,.navbar-inverse .navbar-nav>.disabled>a:focus,.navbar-inverse .navbar-nav>.disabled>a:hover{color:#444;background-color:transparent}.navbar-inverse .navbar-toggle{border-color:#333}.navbar-inverse .navbar-toggle:focus,.navbar-inverse .navbar-toggle:hover{background-color:#333}.navbar-inverse .navbar-toggle .icon-bar{background-color:#fff}.navbar-inverse .navbar-collapse,.navbar-inverse .navbar-form{border-color:#101010}.navbar-inverse .navbar-nav>.open>a,.navbar-inverse .navbar-nav>.open>a:focus,.navbar-inverse .navbar-nav>.open>a:hover{background-color:#080808;color:#fff}@media (max-width:767px){.navbar-inverse .navbar-nav .open .dropdown-menu>.dropdown-header{border-color:#080808}.navbar-inverse .navbar-nav .open .dropdown-menu .divider{background-color:#080808}.navbar-inverse .navbar-nav .open .dropdown-menu>li>a{color:#9d9d9d}.navbar-inverse .navbar-nav .open .dropdown-menu>li>a:focus,.navbar-inverse .navbar-nav .open .dropdown-menu>li>a:hover{color:#fff;background-color:transparent}.navbar-inverse .navbar-nav .open .dropdown-menu>.active>a,.navbar-inverse .navbar-nav .open .dropdown-menu>.active>a:focus,.navbar-inverse .navbar-nav .open .dropdown-menu>.active>a:hover{color:#fff;background-color:#080808}.navbar-inverse .navbar-nav .open .dropdown-menu>.disabled>a,.navbar-inverse .navbar-nav .open .dropdown-menu>.disabled>a:focus,.navbar-inverse .navbar-nav .open .dropdown-menu>.disabled>a:hover{color:#444;background-color:transparent}}.navbar-inverse .navbar-link{color:#9d9d9d}.navbar-inverse .navbar-link:hover{color:#fff}.navbar-inverse .btn-link{color:#9d9d9d}.navbar-inverse .btn-link:focus,.navbar-inverse .btn-link:hover{color:#fff}.navbar-inverse .btn-link[disabled]:focus,.navbar-inverse .btn-link[disabled]:hover,fieldset[disabled] .navbar-inverse .btn-link:focus,fieldset[disabled] .navbar-inverse .btn-link:hover{color:#444}.hide{display:none!important}.show{display:block!important}.invisible{visibility:hidden}.text-hide{font:0/0 a;color:transparent;text-shadow:none;background-color:transparent;border:0}.hidden{display:none!important}a{color:#ef6c00;text-decoration:none}a:focus,a:hover{color:#a34900;text-decoration:underline}a:focus{outline:thin dotted;outline:5px auto -webkit-focus-ring-color;outline-offset:-2px}.text-left{text-align:left}.text-right{text-align:right}.text-center{text-align:center}.text-justify{text-align:justify}.text-nowrap{white-space:nowrap}.text-lowercase{text-transform:lowercase}.text-uppercase{text-transform:uppercase}.text-capitalize{text-transform:capitalize}.text-muted{color:#777}.text-primary{color:#ff9800}a.text-primary:focus,a.text-primary:hover{color:#cc7a00}.text-success{color:#2e7d32}a.text-success:focus,a.text-success:hover{color:#205823}.text-info{color:#1565c0}a.text-info:focus,a.text-info:hover{color:#104d92}.text-warning{color:#ef6c00}a.text-warning:focus,a.text-warning:hover{color:#bc5500}.text-danger{color:#c62828}a.text-danger:focus,a.text-danger:hover{color:#9c1f1f}.page-header{padding-bottom:8px;margin:36px 0 18px;border-bottom:1px solid #eee}.btn{display:inline-block;margin-bottom:0;font-weight:lighter;text-align:center;vertical-align:middle;-ms-touch-action:manipulation;touch-action:manipulation;cursor:pointer;background-image:none;border:1px solid transparent;white-space:nowrap;padding:6px 12px;font-size:13px;line-height:1.42857143;border-radius:4px;-webkit-user-select:none;-moz-user-select:none;-ms-user-select:none;user-select:none}.btn.active.focus,.btn.active:focus,.btn.focus,.btn:active.focus,.btn:active:focus,.btn:focus{outline:thin dotted;outline:5px auto -webkit-focus-ring-color;outline-offset:-2px}.btn.focus,.btn:focus,.btn:hover{color:#333;text-decoration:none}.btn.active,.btn:active{outline:0;background-image:none;-webkit-box-shadow:inset 0 3px 5px rgba(0,0,0,.125);box-shadow:inset 0 3px 5px rgba(0,0,0,.125)}.btn.disabled,.btn[disabled],fieldset[disabled] .btn{cursor:not-allowed;opacity:.65;-webkit-box-shadow:none;box-shadow:none}a.btn.disabled,fieldset[disabled] a.btn{pointer-events:none}.btn-default{color:#333;background-color:#fff;border-color:#ccc}.btn-default.focus,.btn-default:focus{color:#333;background-color:#e6e6e6;border-color:#8c8c8c}.btn-default:hover{color:#333;background-color:#e6e6e6;border-color:#adadad}.btn-default.active,.btn-default:active,.open>.dropdown-toggle.btn-default{color:#333;background-color:#e6e6e6;border-color:#adadad}.btn-default.active.focus,.btn-default.active:focus,.btn-default.active:hover,.btn-default:active.focus,.btn-default:active:focus,.btn-default:active:hover,.open>.dropdown-toggle.btn-default.focus,.open>.dropdown-toggle.btn-default:focus,.open>.dropdown-toggle.btn-default:hover{color:#333;background-color:#d4d4d4;border-color:#8c8c8c}.btn-default.active,.btn-default:active,.open>.dropdown-toggle.btn-default{background-image:none}.btn-default.disabled,.btn-default.disabled.active,.btn-default.disabled.focus,.btn-default.disabled:active,.btn-default.disabled:focus,.btn-default.disabled:hover,.btn-default[disabled],.btn-default[disabled].active,.btn-default[disabled].focus,.btn-default[disabled]:active,.btn-default[disabled]:focus,.btn-default[disabled]:hover,fieldset[disabled] .btn-default,fieldset[disabled] .btn-default.active,fieldset[disabled] .btn-default.focus,fieldset[disabled] .btn-default:active,fieldset[disabled] .btn-default:focus,fieldset[disabled] .btn-default:hover{background-color:#fff;border-color:#ccc}.btn-default .badge{color:#fff;background-color:#333}.btn-primary{color:#fff;background-color:#ff9800;border-color:#e68900}.btn-primary.focus,.btn-primary:focus{color:#fff;background-color:#cc7a00;border-color:#663d00}.btn-primary:hover{color:#fff;background-color:#cc7a00;border-color:#a86400}.btn-primary.active,.btn-primary:active,.open>.dropdown-toggle.btn-primary{color:#fff;background-color:#cc7a00;border-color:#a86400}.btn-primary.active.focus,.btn-primary.active:focus,.btn-primary.active:hover,.btn-primary:active.focus,.btn-primary:active:focus,.btn-primary:active:hover,.open>.dropdown-toggle.btn-primary.focus,.open>.dropdown-toggle.btn-primary:focus,.open>.dropdown-toggle.btn-primary:hover{color:#fff;background-color:#a86400;border-color:#663d00}.btn-primary.active,.btn-primary:active,.open>.dropdown-toggle.btn-primary{background-image:none}.btn-primary.disabled,.btn-primary.disabled.active,.btn-primary.disabled.focus,.btn-primary.disabled:active,.btn-primary.disabled:focus,.btn-primary.disabled:hover,.btn-primary[disabled],.btn-primary[disabled].active,.btn-primary[disabled].focus,.btn-primary[disabled]:active,.btn-primary[disabled]:focus,.btn-primary[disabled]:hover,fieldset[disabled] .btn-primary,fieldset[disabled] .btn-primary.active,fieldset[disabled] .btn-primary.focus,fieldset[disabled] .btn-primary:active,fieldset[disabled] .btn-primary:focus,fieldset[disabled] .btn-primary:hover{background-color:#ff9800;border-color:#e68900}.btn-primary .badge{color:#ff9800;background-color:#fff}.btn-success{color:#fff;background-color:#4caf50;border-color:#449d48}.btn-success.focus,.btn-success:focus{color:#fff;background-color:#3d8b40;border-color:#1e441f}.btn-success:hover{color:#fff;background-color:#3d8b40;border-color:#327334}.btn-success.active,.btn-success:active,.open>.dropdown-toggle.btn-success{color:#fff;background-color:#3d8b40;border-color:#327334}.btn-success.active.focus,.btn-success.active:focus,.btn-success.active:hover,.btn-success:active.focus,.btn-success:active:focus,.btn-success:active:hover,.open>.dropdown-toggle.btn-success.focus,.open>.dropdown-toggle.btn-success:focus,.open>.dropdown-toggle.btn-success:hover{color:#fff;background-color:#327334;border-color:#1e441f}.btn-success.active,.btn-success:active,.open>.dropdown-toggle.btn-success{background-image:none}.btn-success.disabled,.btn-success.disabled.active,.btn-success.disabled.focus,.btn-success.disabled:active,.btn-success.disabled:focus,.btn-success.disabled:hover,.btn-success[disabled],.btn-success[disabled].active,.btn-success[disabled].focus,.btn-success[disabled]:active,.btn-success[disabled]:focus,.btn-success[disabled]:hover,fieldset[disabled] .btn-success,fieldset[disabled] .btn-success.active,fieldset[disabled] .btn-success.focus,fieldset[disabled] .btn-success:active,fieldset[disabled] .btn-success:focus,fieldset[disabled] .btn-success:hover{background-color:#4caf50;border-color:#449d48}.btn-success .badge{color:#4caf50;background-color:#fff}.btn-info{color:#fff;background-color:#2196f3;border-color:#0d8aee}.btn-info.focus,.btn-info:focus{color:#fff;background-color:#0c7cd5;border-color:#064475}.btn-info:hover{color:#fff;background-color:#0c7cd5;border-color:#0a68b4}.btn-info.active,.btn-info:active,.open>.dropdown-toggle.btn-info{color:#fff;background-color:#0c7cd5;border-color:#0a68b4}.btn-info.active.focus,.btn-info.active:focus,.btn-info.active:hover,.btn-info:active.focus,.btn-info:active:focus,.btn-info:active:hover,.open>.dropdown-toggle.btn-info.focus,.open>.dropdown-toggle.btn-info:focus,.open>.dropdown-toggle.btn-info:hover{color:#fff;background-color:#0a68b4;border-color:#064475}.btn-info.active,.btn-info:active,.open>.dropdown-toggle.btn-info{background-image:none}.btn-info.disabled,.btn-info.disabled.active,.btn-info.disabled.focus,.btn-info.disabled:active,.btn-info.disabled:focus,.btn-info.disabled:hover,.btn-info[disabled],.btn-info[disabled].active,.btn-info[disabled].focus,.btn-info[disabled]:active,.btn-info[disabled]:focus,.btn-info[disabled]:hover,fieldset[disabled] .btn-info,fieldset[disabled] .btn-info.active,fieldset[disabled] .btn-info.focus,fieldset[disabled] .btn-info:active,fieldset[disabled] .btn-info:focus,fieldset[disabled] .btn-info:hover{background-color:#2196f3;border-color:#0d8aee}.btn-info .badge{color:#2196f3;background-color:#fff}.btn-warning{color:#fff;background-color:#ef6c00;border-color:#d66000}.btn-warning.focus,.btn-warning:focus{color:#fff;background-color:#bc5500;border-color:#562700}.btn-warning:hover{color:#fff;background-color:#bc5500;border-color:#984500}.btn-warning.active,.btn-warning:active,.open>.dropdown-toggle.btn-warning{color:#fff;background-color:#bc5500;border-color:#984500}.btn-warning.active.focus,.btn-warning.active:focus,.btn-warning.active:hover,.btn-warning:active.focus,.btn-warning:active:focus,.btn-warning:active:hover,.open>.dropdown-toggle.btn-warning.focus,.open>.dropdown-toggle.btn-warning:focus,.open>.dropdown-toggle.btn-warning:hover{color:#fff;background-color:#984500;border-color:#562700}.btn-warning.active,.btn-warning:active,.open>.dropdown-toggle.btn-warning{background-image:none}.btn-warning.disabled,.btn-warning.disabled.active,.btn-warning.disabled.focus,.btn-warning.disabled:active,.btn-warning.disabled:focus,.btn-warning.disabled:hover,.btn-warning[disabled],.btn-warning[disabled].active,.btn-warning[disabled].focus,.btn-warning[disabled]:active,.btn-warning[disabled]:focus,.btn-warning[disabled]:hover,fieldset[disabled] .btn-warning,fieldset[disabled] .btn-warning.active,fieldset[disabled] .btn-warning.focus,fieldset[disabled] .btn-warning:active,fieldset[disabled] .btn-warning:focus,fieldset[disabled] .btn-warning:hover{background-color:#ef6c00;border-color:#d66000}.btn-warning .badge{color:#ef6c00;background-color:#fff}.btn-danger{color:#fff;background-color:#f44336;border-color:#f32c1e}.btn-danger.focus,.btn-danger:focus{color:#fff;background-color:#ea1c0d;border-color:#891008}.btn-danger:hover{color:#fff;background-color:#ea1c0d;border-color:#c8180b}.btn-danger.active,.btn-danger:active,.open>.dropdown-toggle.btn-danger{color:#fff;background-color:#ea1c0d;border-color:#c8180b}.btn-danger.active.focus,.btn-danger.active:focus,.btn-danger.active:hover,.btn-danger:active.focus,.btn-danger:active:focus,.btn-danger:active:hover,.open>.dropdown-toggle.btn-danger.focus,.open>.dropdown-toggle.btn-danger:focus,.open>.dropdown-toggle.btn-danger:hover{color:#fff;background-color:#c8180b;border-color:#891008}.btn-danger.active,.btn-danger:active,.open>.dropdown-toggle.btn-danger{background-image:none}.btn-danger.disabled,.btn-danger.disabled.active,.btn-danger.disabled.focus,.btn-danger.disabled:active,.btn-danger.disabled:focus,.btn-danger.disabled:hover,.btn-danger[disabled],.btn-danger[disabled].active,.btn-danger[disabled].focus,.btn-danger[disabled]:active,.btn-danger[disabled]:focus,.btn-danger[disabled]:hover,fieldset[disabled] .btn-danger,fieldset[disabled] .btn-danger.active,fieldset[disabled] .btn-danger.focus,fieldset[disabled] .btn-danger:active,fieldset[disabled] .btn-danger:focus,fieldset[disabled] .btn-danger:hover{background-color:#f44336;border-color:#f32c1e}.btn-danger .badge{color:#f44336;background-color:#fff}.btn-link{color:#ef6c00;font-weight:400;border-radius:0}.btn-link,.btn-link.active,.btn-link:active,.btn-link[disabled],fieldset[disabled] .btn-link{background-color:transparent;-webkit-box-shadow:none;box-shadow:none}.btn-link,.btn-link:active,.btn-link:focus,.btn-link:hover{border-color:transparent}.btn-link:focus,.btn-link:hover{color:#a34900;text-decoration:underline;background-color:transparent}.btn-link[disabled]:focus,.btn-link[disabled]:hover,fieldset[disabled] .btn-link:focus,fieldset[disabled] .btn-link:hover{color:#777;text-decoration:none}.btn-group-lg>.btn,.btn-lg{padding:10px 16px;font-size:17px;line-height:1.3333333;border-radius:6px}.btn-group-sm>.btn,.btn-sm{padding:5px 10px;font-size:12px;line-height:1.5;border-radius:2px}.btn-group-xs>.btn,.btn-xs{padding:1px 5px;font-size:12px;line-height:1.5;border-radius:2px}.btn-block{display:block;width:100%}.btn-block+.btn-block{margin-top:5px}.dropdown,.dropup{position:relative}.dropdown-toggle:focus{outline:0}.dropdown-menu{position:absolute;top:100%;left:0;z-index:1000;display:none;float:left;min-width:160px;padding:8px 0;margin:4px 0 0;list-style:none;font-size:14px;text-align:left;background-color:#fff;border:1px solid #ccc;border:1px solid rgba(0,0,0,.2);border-radius:4px;-webkit-box-shadow:0 6px 12px rgba(0,0,0,.4);box-shadow:0 6px 12px rgba(0,0,0,.4);background-clip:padding-box}.dropdown-menu.pull-right{right:0;left:auto}.dropdown-menu .divider{height:1px;margin:8px 0;overflow:hidden;background-color:#e5e5e5}.dropdown-menu>li>a{display:block;padding:3px 20px;clear:both;font-weight:400;line-height:1.42857143;color:#333;white-space:nowrap}.dropdown-menu>li>a:focus,.dropdown-menu>li>a:hover{text-decoration:none;color:#262626;background-color:#f5f5f5}.visible-lg,.visible-md,.visible-sm,.visible-xs{display:none!important}.visible-lg-block,.visible-lg-inline,.visible-lg-inline-block,.visible-md-block,.visible-md-inline,.visible-md-inline-block,.visible-sm-block,.visible-sm-inline,.visible-sm-inline-block,.visible-xs-block,.visible-xs-inline,.visible-xs-inline-block{display:none!important}@media (max-width:767px){.visible-xs{display:block!important}table.visible-xs{display:table!important}tr.visible-xs{display:table-row!important}td.visible-xs,th.visible-xs{display:table-cell!important}}@media (max-width:767px){.visible-xs-block{display:block!important}}@media (max-width:767px){.visible-xs-inline{display:inline!important}}@media (max-width:767px){.visible-xs-inline-block{display:inline-block!important}}@media (min-width:768px) and (max-width:991px){.visible-sm{display:block!important}table.visible-sm{display:table!important}tr.visible-sm{display:table-row!important}td.visible-sm,th.visible-sm{display:table-cell!important}}@media (min-width:768px) and (max-width:991px){.visible-sm-block{display:block!important}}@media (min-width:768px) and (max-width:991px){.visible-sm-inline{display:inline!important}}@media (min-width:768px) and (max-width:991px){.visible-sm-inline-block{display:inline-block!important}}@media (min-width:992px) and (max-width:1199px){.visible-md{display:block!important}table.visible-md{display:table!important}tr.visible-md{display:table-row!important}td.visible-md,th.visible-md{display:table-cell!important}}@media (min-width:992px) and (max-width:1199px){.visible-md-block{display:block!important}}@media (min-width:992px) and (max-width:1199px){.visible-md-inline{display:inline!important}}@media (min-width:992px) and (max-width:1199px){.visible-md-inline-block{display:inline-block!important}}@media (min-width:1200px){.visible-lg{display:block!important}table.visible-lg{display:table!important}tr.visible-lg{display:table-row!important}td.visible-lg,th.visible-lg{display:table-cell!important}}@media (min-width:1200px){.visible-lg-block{display:block!important}}@media (min-width:1200px){.visible-lg-inline{display:inline!important}}@media (min-width:1200px){.visible-lg-inline-block{display:inline-block!important}}@media (max-width:767px){.hidden-xs{display:none!important}}@media (min-width:768px) and (max-width:991px){.hidden-sm{display:none!important}}@media (min-width:992px) and (max-width:1199px){.hidden-md{display:none!important}}@media (min-width:1200px){.hidden-lg{display:none!important}}.visible-print{display:none!important}.fa-number-badge{position:relative}.fa-number-badge::after{content:attr(data-number);position:absolute;top:100%;left:100%;display:block;-webkit-box-sizing:border-box;box-sizing:border-box;height:auto;padding:.3em .4em;border-radius:1rem;font-family:Roboto,Helvetica,Arial,sans-serif;font-size:.7em;line-height:1.3em;color:#fff;background-color:#7f8c8d;-webkit-box-shadow:0 1px 2px 1px rgba(0,0,0,.1);box-shadow:0 1px 2px 1px rgba(0,0,0,.1);-webkit-transform:translate(-50%,-50%);-ms-transform:translate(-50%,-50%);transform:translate(-50%,-50%)}.fa-icon-placeholder::before{content:\\'.\\';font-style:normal}</style>\\n<link rel=\\'canonical\\' href=\\'https://yocket.in/applications-admits-rejects/northeastern-university/3\\' />\\n<meta property=\"og:title\" content=\"Rejects from Northeastern University | Yocket\" /> <meta property=\"og:description\" content=\"Check profiles and test scores (GRE, GMAT, TOEFL, IELTS...) of students who got a reject from Northeastern University for Fall 2018 and Spring 2018\" /> <meta property=\"og:site_name\" content=\"Yocket\" /> <meta property=\"og:image\" content=\"https://static.yocket.in/images/graphics/yocket-fb-share-og-image.png\" /> <style id=\"antiClickjack\">body{display:none !important;}</style>\\n</head>\\n<body style=\"padding-top: 50px;\" class=\"body-unset\">\\n<style>\\n\\t.padding-4 {\\n\\t\\tpadding: 4px;\\n\\t\\tpadding-right: .6em;\\n\\t}\\n</style>\\n<script>\\n/**\\n$jQ(document).ready(function(e) {\\n\\t$jQ(\".ga-event\").click(function(ev) {\\n\\t\\tev.preventDefault();\\n\\t\\tvar url = $jQ(this).attr(\\'href\\');\\n\\t\\tsetTimeout(function () { window.location.href = url; }, 1000);\\n\\t\\t\\n\\t\\tvar event_category = $jQ(this).data(\"event-category\");\\n\\t\\tvar event_action = $jQ(this).data(\"event-action\");\\n\\t\\tvar event_label = $jQ(this).data(\"event-label\");\\n\\t\\tga(\\'send\\', \\'event\\', event_category, event_action, event_label, {\\n\\t\\t\\thitCallback: function() {\\n\\t\\t\\t  window.location.href = url;\\n\\t\\t\\t}\\n\\t\\t});\\n\\t});\\n});\\n*/\\n</script>\\n<style>\\n\\t.skiptranslate iframe {\\n\\t\\tdisplay: none;\\n\\t}\\n\\t.translator-container {\\n\\t\\t\\n\\t}\\n</style>\\n<div class=\"translator-container js-translator-container\"></div>\\n<nav class=\"navbar navbar-default navbar-fixed-top\">\\n<div class=\"container\">\\n\\n<div class=\"navbar-header\">\\n<button type=\"button\" class=\"navbar-toggle collapsed\" data-toggle=\"collapse\" data-target=\"#bs-example-navbar-collapse-1\" aria-expanded=\"false\">\\n<span class=\"sr-only\">Toggle navigation</span>\\n<span class=\"icon-bar\"></span>\\n<span class=\"icon-bar\"></span>\\n<span class=\"icon-bar\"></span>\\n</button>\\n<a href=\"/\" class=\"navbar-brand\">Yocket <div class=\"navbar-brand--subhead\">by Stupidsid</div></a> </div>\\n\\n<div class=\"collapse navbar-collapse\" id=\"bs-example-navbar-collapse-1\">\\n<ul class=\"nav navbar-nav\">\\n<li><a href=\"/\">\\n<span class=\\'fa fa-home\\'></span>\\n</a></li>\\n<li class=\"dropdown\">\\n<a href=\"#\" class=\"dropdown-toggle\" data-toggle=\"dropdown\" role=\"button\" aria-haspopup=\"true\" aria-expanded=\"false\">UNIVERSITIES <span class=\"caret\"></span>\\n</a>\\n<ul class=\"dropdown-menu\">\\n<li><a href=\"/universities\" class=\"ga-event\" data-event-category=\"Universities\" data-event-action=\"Navigate\" data-event-label=\"UniversityReviews\"><i class=\"fa fa-chart-bar padding-4\"></i> University Reviews</a></li>\\n<li role=\"separator\" class=\"divider\"></li>\\n<li><a href=\"/university-application-deadlines\" class=\"ga-event\" data-event-category=\"Universities\" data-event-action=\"Navigate\" data-event-label=\"UniversityDeadlines\"><i class=\"fa fa-clock padding-4\"></i> University Deadlines</a></li>\\n<li role=\"separator\" class=\"divider\"></li>\\n<li><a href=\"/university-courses/recommend\" class=\"ga-event\" data-event-category=\"Universities\" data-event-action=\"Navigate\" data-event-label=\"ProfileEvaluator\"><i class=\"fa fa-graduation-cap padding-4\"></i> Grad School Finder</a></li>\\n<li role=\"separator\" class=\"divider\"></li>\\n<li><a href=\"/universities/compare\" class=\"ga-event\" data-event-category=\"Universities\" data-event-action=\"Navigate\" data-event-label=\"CompareUniversities\"><i class=\"fa fa-balance-scale padding-4\"></i> Compare Universities</a></li>\\n<li role=\"separator\" class=\"divider\"></li>\\n<li><a href=\"/course-descriptions\" class=\"ga-event\" data-event-category=\"Courses\" data-event-action=\"Navigate\" data-event-label=\"CourseDescriptions\"><i class=\"fa fa-book padding-4\"></i> Course Descriptions</a></li>\\n</ul>\\n</li>\\n<li class=\"dropdown\">\\n<a href=\"#\" class=\"dropdown-toggle\" data-toggle=\"dropdown\" role=\"button\" aria-haspopup=\"true\" aria-expanded=\"false\">PROFILES <span class=\"caret\"></span>\\n</a>\\n<ul class=\"dropdown-menu\">\\n<li><a href=\"/profiles/find/matching-profiles\" class=\"ga-event\" data-event-category=\"Profiles\" data-event-action=\"Navigate\" data-event-label=\"SimilarProfiles\"><i class=\"fa fa-users padding-4\"></i> Similar Profiles</a></li>\\n<li role=\"separator\" class=\"divider\"></li>\\n<li><a href=\"/profiles/find/matching-admits-and-rejects\" class=\"ga-event\" data-event-category=\"Profiles\" data-event-action=\"Navigate\" data-event-label=\"AdmitsRejects\"><i class=\"fa fa-tags padding-4\"></i> Admits & Rejects</a></li>\\n<li role=\"separator\" class=\"divider\"></li>\\n<li><a href=\"/profiles/find\"><i class=\"fa fa-search padding-4\"></i> Find Profiles</a></li>\\n<li role=\"separator\" class=\"divider\"></li>\\n<li><a href=\"/profiles/find-roommates\"><i class=\"fa fa-home padding-4\"></i> Roommate Finder</a></li>\\n</ul>\\n</li>\\n<li><a href=\"/discussions/home\">DISCUSSIONS</a></li>\\n<li class=\"dropdown\">\\n<a href=\"#\" class=\"dropdown-toggle\" data-toggle=\"dropdown\" role=\"button\" aria-haspopup=\"true\" aria-expanded=\"false\">SERVICES <span class=\"caret\"></span>\\n</a>\\n<ul class=\"dropdown-menu\">\\n<li><a href=\"/services/mail\"><i class=\"fa fa-paper-plane padding-4\"></i> Send transcripts</a></li>\\n<li><a href=\"/services/mail/orders\"><i class=\"fa fa-shopping-cart padding-4\"></i> Transcripts orders</a></li>\\n\\n<li role=\"separator\" class=\"divider\"></li>\\n<li><a href=\"/services/loan-assistance\"><i class=\"fa fa-hand-holding-usd padding-4\"></i>Education Loans</a></li>\\n<li role=\"separator\" class=\"divider\"></li>\\n<li><a href=\"/services/forex?type=forex\"><i class=\"fa fa-credit-card padding-4\"></i> Forex Card</a></li>\\n<li><a href=\"/services/forex?type=fees\"><i class=\"fa fa-file-invoice-dollar padding-4\"></i> University fee payment</a></li>\\n<li role=\"separator\" class=\"divider\"></li>\\n<li><a href=\"/fs/yocket-insurance-details-23\"><i class=\"fa fa-medkit padding-4\"></i> Health/Travel Insurance</a></li>\\n</ul>\\n</li>\\n<li><a href=\"/events\">EVENTS</a></li>\\n<li><a href=\"/blog\">BLOG</a></li>\\n<li class=\"dropdown\">\\n<a href=\"#\" class=\"dropdown-toggle\" data-toggle=\"dropdown\" role=\"button\" aria-haspopup=\"true\" aria-expanded=\"false\">\\n<span class=\"text-uppercase\">lakri</span>\\n<span class=\"caret\"></span>\\n</a>\\n<ul class=\"dropdown-menu\">\\n<li><a href=\"/profiles/lakri1995\"><i class=\"fa fa-rocket padding-4\"></i> My Profile</a></li>\\n<li><a href=\"/profiles/lakri1995/discussions\"><i class=\"fas fa-comments padding-4\"></i> My Discussions</a></li>\\n\\n<li role=\"separator\" class=\"divider\"></li>\\n<li><a href=\"/account/settings\"><i class=\"fa fa-cog padding-4\"></i> Account Settings</a></li>\\n<li role=\"separator\" class=\"divider\"></li>\\n<li><a href=\"/account/logout\"><i class=\"fa fa-sign-out-alt padding-4\"></i> Logout</a></li>\\n</ul>\\n</li>\\n<li>\\n<a href=\\'/profiles/lakri1995/notifications\\'>\\n<i class=\\'fa fa-icon-placeholder fa-bell \\' data-number=\\'0\\'></i>\\n</a>\\n</li>\\n</ul>\\n</div>\\n</div>\\n</nav>\\n<div class=\"container-fluid\">\\n</div>\\n<br>\\n<div class=\"container\">\\n<div class=\"row\">\\n<div class=\"col-sm-9\">\\n<script>\\n\\t\\ttry{\\n\\t\\t\\tlocalStorage.setItem(\"universityCourseId\", 49237);\\n\\t\\t\\tlocalStorage.setItem(\"universityUrlAlias\", );\\n\\t\\t}\\n\\t\\tcatch(err){\\n\\t\\t\\tconsole.log(\\'Handled! university alias\\');\\n\\t\\t}\\n    </script>\\n<h1>Rejects from Northeastern University</h1><hr>\\n<div class=\"well\">\\n<h4>Find admits & rejects</h4><p>Check profiles and test scores (GRE, GMAT, TOEFL, IELTS...) of students who got a reject from Northeastern University for Fall 2018 and Spring 2018</p><hr>\\n<ul class=\"alert alert-danger\" id=\"admits-rejects-error\" style=\"display: none;padding-left: 30px\">\\n</ul>\\n<div class=\"ui-widget col-sm-4\">\\n<div class=\"input-group\">\\n<span class=\"input-group-addon\" style=\"background: #fff;\"><i id=\"users-view-search-universities-icon\" class=\"fa fa-university\"></i></span>\\n<input type=\"text\" id=\"users-view-search-universities\" class=\"form-control\" placeholder=\"University name\" aria-describedby=\"users-view-search-universities\" autocomplete=\"off\" value=\"Northeastern University\">\\n</div>\\n</div>\\n<div class=\"ui-widget col-sm-4\">\\n<div class=\"input-group\">\\n<span class=\"input-group-addon\" style=\"background: #fff;\"><i id=\"users-view-search-courses-icon\" class=\"fa fa-file-text\"></i></span>\\n<input type=\"text\" disabled=\"disabled\" id=\"users-view-search-courses\" class=\"form-control\" placeholder=\"Grad course name\" aria-describedby=\"users-view-search-courses\" autocomplete=\"off\" value=\"\">\\n</div>\\n</div>\\n<div class=\"input-group col-sm-4\">\\n<div class=\"input-group-addon\">Status</div>\\n<select name=\"university-application-status\" class=\"form-control\" id=\"university-application-status\"><option value=\"0\">Choose status</option><option value=\"1\">Applied</option><option value=\"2\">Admit</option><option value=\"3\" selected=\"selected\">Reject</option><option value=\"4\">Interested</option></select> </div>\\n<input type=\"hidden\" id=\"user-id\" value=\"410406\" />\\n<br>\\n<div class=\"text-center\">\\n<button type=\"button\" id=\"find-admits-rejects-button\" class=\"btn btn-success btn-sm\"> FIND </button>\\n</div>\\n</div>\\n<div class=\"row\"> <div class=\"col-sm-6\">\\n<div class=\"panel panel-warning\">\\n<div class=\"panel-body\">\\n<div class=\"row\">\\n<div class=\"col-sm-9\">\\n<h4>\\n<a href=\"/profiles/Abhishek Shambhu\">Abhishek Shambhu</a><br>\\n<small>\\nNortheastern University <br>\\nFall 2018 </small>\\n</h4>\\n</div>\\n<div class=\"col-sm-3 text-uppercase\">\\n<label class=\"label label-danger\">Reject</label><br><br>\\n</div>\\n</div>\\n<div class=\"row text-center\">\\n<div class=\"col-sm-3 col-xs-6\">\\n<strong>GRE</strong><br>\\n294 </div>\\n<div class=\"col-sm-3 col-xs-6\">\\n<strong>IELTS</strong><br>\\n7 </div>\\n<div class=\"col-sm-3 col-xs-6\">\\n<strong>UNDERGRAD</strong><br>\\n58.49 % </div>\\n<div class=\"col-sm-3 col-xs-6\">\\n<strong>WORK EX</strong><br>\\n27 months </div>\\n</div>\\n</div>\\n</div>\\n</div>\\n<div class=\"col-sm-6\">\\n<div class=\"panel panel-warning\">\\n<div class=\"panel-body\">\\n<div class=\"row\">\\n<div class=\"col-sm-9\">\\n<h4>\\n<a href=\"/profiles/ABHINAV 1616\">Abhinav Boddupalli</a><br>\\n<small>\\nNortheastern University Electrical & Computer Engineering<br>\\nFall 2018 </small>\\n</h4>\\n</div>\\n<div class=\"col-sm-3 text-uppercase\">\\n<label class=\"label label-danger\">Reject</label><br><br>\\n</div>\\n</div>\\n<div class=\"row text-center\">\\n<div class=\"col-sm-3 col-xs-6\">\\n<strong>GRE</strong><br>\\n322 </div>\\n<div class=\"col-sm-3 col-xs-6\">\\n<strong>TOEFL</strong><br>\\n108 </div>\\n<div class=\"col-sm-3 col-xs-6\">\\n<strong>UNDERGRAD</strong><br>\\n8 CGPA </div>\\n<div class=\"col-sm-3 col-xs-6\">\\n<strong>WORK EX</strong><br>\\n4 months </div>\\n</div>\\n</div>\\n</div>\\n</div>\\n</div>\\n<div class=\"row\"> <div class=\"col-sm-6\">\\n<div class=\"panel panel-warning\">\\n<div class=\"panel-body\">\\n<div class=\"row\">\\n<div class=\"col-sm-9\">\\n<h4>\\n<a href=\"/profiles/rajsoni\">Raj Soni</a><br>\\n<small>\\nNortheastern University Information Systems<br>\\nFall 2018 </small>\\n</h4>\\n</div>\\n<div class=\"col-sm-3 text-uppercase\">\\n<label class=\"label label-danger\">Reject</label><br><br>\\n</div>\\n</div>\\n<div class=\"row text-center\">\\n<div class=\"col-sm-3 col-xs-6\">\\n<strong>GRE</strong><br>\\n293 </div>\\n<div class=\"col-sm-3 col-xs-6\">\\n<strong>TOEFL</strong><br>\\n101 </div>\\n<div class=\"col-sm-3 col-xs-6\">\\n<strong>UNDERGRAD</strong><br>\\n8.72 CGPA </div>\\n<div class=\"col-sm-3 col-xs-6\">\\n<strong>WORK EX</strong><br>\\n20 months </div>\\n</div>\\n</div>\\n</div>\\n</div>\\n<div class=\"col-sm-6\">\\n<div class=\"panel panel-warning\">\\n<div class=\"panel-body\">\\n<div class=\"row\">\\n<div class=\"col-sm-9\">\\n<h4>\\n<a href=\"/profiles/bhuvan1996\">Bhuvan</a><br>\\n<small>\\nNortheastern University Electrical & Computer Engineering<br>\\nFall 2017 </small>\\n</h4>\\n</div>\\n<div class=\"col-sm-3 text-uppercase\">\\n<label class=\"label label-danger\">Reject</label><br><br>\\n</div>\\n</div>\\n<div class=\"row text-center\">\\n<div class=\"col-sm-3 col-xs-6\">\\n<strong>GRE</strong><br>\\n312 </div>\\n<div class=\"col-sm-3 col-xs-6\">\\n<strong>TOEFL</strong><br>\\n94 </div>\\n<div class=\"col-sm-3 col-xs-6\">\\n<strong>UNDERGRAD</strong><br>\\n7.08 CGPA </div>\\n<div class=\"col-sm-3 col-xs-6\">\\n<strong>WORK EX</strong><br>\\n1 month </div>\\n</div>\\n</div>\\n</div>\\n</div>\\n</div>\\n<div class=\"row\"> <div class=\"col-sm-6\">\\n<div class=\"panel panel-warning\">\\n<div class=\"panel-body\">\\n<div class=\"row\">\\n<div class=\"col-sm-9\">\\n<h4>\\n<a href=\"/profiles/AravindP\">Aravind P</a><br>\\n<small>\\nNortheastern University Electrical & Computer Engineering<br>\\nFall 2018 </small>\\n</h4>\\n</div>\\n<div class=\"col-sm-3 text-uppercase\">\\n<label class=\"label label-danger\">Reject</label><br><br>\\n</div>\\n</div>\\n<div class=\"row text-center\">\\n<div class=\"col-sm-3 col-xs-6\">\\n<strong>GRE</strong><br>\\n303 </div>\\n<div class=\"col-sm-3 col-xs-6\">\\n<strong>TOEFL</strong><br>\\n101 </div>\\n<div class=\"col-sm-3 col-xs-6\">\\n<strong>UNDERGRAD</strong><br>\\n8.62 CGPA </div>\\n<div class=\"col-sm-3 col-xs-6\">\\n<strong>WORK EX</strong><br>\\n15 months </div>\\n</div>\\n</div>\\n</div>\\n</div>\\n<div class=\"col-sm-6\">\\n<div class=\"panel panel-warning\">\\n<div class=\"panel-body\">\\n<div class=\"row\">\\n<div class=\"col-sm-9\">\\n<h4>\\n<a href=\"/profiles/mj0695\">Mayur Jain</a><br>\\n<small>\\nNortheastern University Computer Science<br>\\nFall 2018 </small>\\n</h4>\\n</div>\\n<div class=\"col-sm-3 text-uppercase\">\\n<label class=\"label label-danger\">Reject</label><br><br>\\n</div>\\n</div>\\n<div class=\"row text-center\">\\n<div class=\"col-sm-3 col-xs-6\">\\n<strong>GRE</strong><br>\\n308 </div>\\n<div class=\"col-sm-3 col-xs-6\">\\n<strong>IELTS</strong><br>\\n8 </div>\\n<div class=\"col-sm-3 col-xs-6\">\\n<strong>UNDERGRAD</strong><br>\\n7.25 CGPA </div>\\n<div class=\"col-sm-3 col-xs-6\">\\n<strong>WORK EX</strong><br>\\n1 month </div>\\n</div>\\n</div>\\n</div>\\n</div>\\n</div>\\n<div class=\"row\"> <div class=\"col-sm-6\">\\n<div class=\"panel panel-warning\">\\n<div class=\"panel-body\">\\n<div class=\"row\">\\n<div class=\"col-sm-9\">\\n<h4>\\n<a href=\"/profiles/neel kanjariya \">neel kanjariya</a><br>\\n<small>\\nNortheastern University Electrical & Computer Engineering<br>\\nFall 2018 </small>\\n</h4>\\n</div>\\n<div class=\"col-sm-3 text-uppercase\">\\n<label class=\"label label-danger\">Reject</label><br><br>\\n</div>\\n</div>\\n<div class=\"row text-center\">\\n<div class=\"col-sm-3 col-xs-6\">\\n<strong>GRE</strong><br>\\n315 </div>\\n<div class=\"col-sm-3 col-xs-6\">\\n<strong>TOEFL</strong><br>\\n102 </div>\\n<div class=\"col-sm-3 col-xs-6\">\\n<strong>UNDERGRAD</strong><br>\\n7.58 CGPA </div>\\n<div class=\"col-sm-3 col-xs-6\">\\n<strong>WORK EX</strong><br>\\nNA </div>\\n</div>\\n</div>\\n</div>\\n</div>\\n<div class=\"col-sm-6\">\\n<div class=\"panel panel-warning\">\\n<div class=\"panel-body\">\\n<div class=\"row\">\\n<div class=\"col-sm-9\">\\n<h4>\\n<a href=\"/profiles/monamisaw\">Sawrav Roy</a><br>\\n<small>\\nNortheastern University Electrical & Computer Engineering<br>\\nFall 2018 </small>\\n</h4>\\n</div>\\n<div class=\"col-sm-3 text-uppercase\">\\n<label class=\"label label-danger\">Reject</label><br><br>\\n</div>\\n</div>\\n<div class=\"row text-center\">\\n<div class=\"col-sm-3 col-xs-6\">\\n<strong>GRE</strong><br>\\n306 </div>\\n<div class=\"col-sm-3 col-xs-6\">\\n<strong>TOEFL</strong><br>\\n109 </div>\\n<div class=\"col-sm-3 col-xs-6\">\\n<strong>UNDERGRAD</strong><br>\\n8.58 CGPA </div>\\n<div class=\"col-sm-3 col-xs-6\">\\n<strong>WORK EX</strong><br>\\n60 months </div>\\n</div>\\n</div>\\n</div>\\n</div>\\n</div>\\n<div class=\"row\"> <div class=\"col-sm-6\">\\n<div class=\"panel panel-warning\">\\n<div class=\"panel-body\">\\n<div class=\"row\">\\n<div class=\"col-sm-9\">\\n<h4>\\n<a href=\"/profiles/cfc1996 \">Sushruth R P</a><br>\\n<small>\\nNortheastern University Electrical & Computer Engineering<br>\\nFall 2018 </small>\\n</h4>\\n</div>\\n<div class=\"col-sm-3 text-uppercase\">\\n<label class=\"label label-danger\">Reject</label><br><br>\\n</div>\\n</div>\\n<div class=\"row text-center\">\\n<div class=\"col-sm-3 col-xs-6\">\\n<strong>GRE</strong><br>\\n314 </div>\\n<div class=\"col-sm-3 col-xs-6\">\\n<strong>TOEFL</strong><br>\\n111 </div>\\n<div class=\"col-sm-3 col-xs-6\">\\n<strong>UNDERGRAD</strong><br>\\n8.41 CGPA </div>\\n<div class=\"col-sm-3 col-xs-6\">\\n<strong>WORK EX</strong><br>\\n4 months </div>\\n</div>\\n</div>\\n</div>\\n</div>\\n<div class=\"col-sm-6\">\\n<div class=\"panel panel-warning\">\\n<div class=\"panel-body\">\\n<div class=\"row\">\\n<div class=\"col-sm-9\">\\n<h4>\\n<a href=\"/profiles/saijadhav\">Sai Jadhav</a><br>\\n<small>\\nNortheastern University Electrical & Computer Engineering<br>\\nFall 2018 </small>\\n</h4>\\n</div>\\n<div class=\"col-sm-3 text-uppercase\">\\n<label class=\"label label-danger\">Reject</label><br><br>\\n</div>\\n</div>\\n<div class=\"row text-center\">\\n<div class=\"col-sm-3 col-xs-6\">\\n<strong>GRE</strong><br>\\n324 </div>\\n<div class=\"col-sm-3 col-xs-6\">\\n<strong>TOEFL</strong><br>\\n109 </div>\\n<div class=\"col-sm-3 col-xs-6\">\\n<strong>UNDERGRAD</strong><br>\\n82 % </div>\\n<div class=\"col-sm-3 col-xs-6\">\\n<strong>WORK EX</strong><br>\\nNA </div>\\n</div>\\n</div>\\n</div>\\n</div>\\n</div>\\n<div class=\"row\"> <div class=\"col-sm-6\">\\n<div class=\"panel panel-warning\">\\n<div class=\"panel-body\">\\n<div class=\"row\">\\n<div class=\"col-sm-9\">\\n<h4>\\n<a href=\"/profiles/Shivom\">Shivom Kushwaha</a><br>\\n<small>\\nNortheastern University Mechanical Engineering<br>\\nFall 2018 </small>\\n</h4>\\n</div>\\n<div class=\"col-sm-3 text-uppercase\">\\n<label class=\"label label-danger\">Reject</label><br><br>\\n</div>\\n</div>\\n<div class=\"row text-center\">\\n<div class=\"col-sm-3 col-xs-6\">\\n<strong>GRE</strong><br>\\n316 </div>\\n<div class=\"col-sm-3 col-xs-6\">\\n<strong>IELTS</strong><br>\\n8 </div>\\n<div class=\"col-sm-3 col-xs-6\">\\n<strong>UNDERGRAD</strong><br>\\n8.06 CGPA </div>\\n<div class=\"col-sm-3 col-xs-6\">\\n<strong>WORK EX</strong><br>\\nNA </div>\\n</div>\\n</div>\\n</div>\\n</div>\\n<div class=\"col-sm-6\">\\n<div class=\"panel panel-warning\">\\n<div class=\"panel-body\">\\n<div class=\"row\">\\n<div class=\"col-sm-9\">\\n<h4>\\n<a href=\"/profiles/pendy\">adit pendam</a><br>\\n<small>\\nNortheastern University Electrical & Computer Engineering<br>\\nFall 2018 </small>\\n</h4>\\n</div>\\n<div class=\"col-sm-3 text-uppercase\">\\n<label class=\"label label-danger\">Reject</label><br><br>\\n</div>\\n</div>\\n<div class=\"row text-center\">\\n<div class=\"col-sm-3 col-xs-6\">\\n<strong>GRE</strong><br>\\n326 </div>\\n<div class=\"col-sm-3 col-xs-6\">\\n<strong>TOEFL</strong><br>\\n107 </div>\\n<div class=\"col-sm-3 col-xs-6\">\\n<strong>UNDERGRAD</strong><br>\\n8.02 CGPA </div>\\n<div class=\"col-sm-3 col-xs-6\">\\n<strong>WORK EX</strong><br>\\n2 months </div>\\n</div>\\n</div>\\n</div>\\n</div>\\n</div>\\n<div class=\"row\"> <div class=\"col-sm-6\">\\n<div class=\"panel panel-warning\">\\n<div class=\"panel-body\">\\n<div class=\"row\">\\n<div class=\"col-sm-9\">\\n<h4>\\n<a href=\"/profiles/sanz96\">SanziL Madye</a><br>\\n<small>\\nNortheastern University Computer Science<br>\\nFall 2018 </small>\\n</h4>\\n</div>\\n<div class=\"col-sm-3 text-uppercase\">\\n<label class=\"label label-danger\">Reject</label><br><br>\\n</div>\\n</div>\\n<div class=\"row text-center\">\\n<div class=\"col-sm-3 col-xs-6\">\\n<strong>GRE</strong><br>\\n308 </div>\\n<div class=\"col-sm-3 col-xs-6\">\\n<strong>TOEFL</strong><br>\\n101 </div>\\n<div class=\"col-sm-3 col-xs-6\">\\n<strong>UNDERGRAD</strong><br>\\n7.95 CGPA </div>\\n<div class=\"col-sm-3 col-xs-6\">\\n<strong>WORK EX</strong><br>\\nNA </div>\\n</div>\\n</div>\\n</div>\\n</div>\\n<div class=\"col-sm-6\">\\n<div class=\"panel panel-warning\">\\n<div class=\"panel-body\">\\n<div class=\"row\">\\n<div class=\"col-sm-9\">\\n<h4>\\n<a href=\"/profiles/LeharA\">Lehar Agarwal</a><br>\\n<small>\\nNortheastern University Computer Science<br>\\nFall 2018 </small>\\n</h4>\\n</div>\\n<div class=\"col-sm-3 text-uppercase\">\\n<label class=\"label label-danger\">Reject</label><br><br>\\n</div>\\n</div>\\n<div class=\"row text-center\">\\n<div class=\"col-sm-3 col-xs-6\">\\n<strong>GRE</strong><br>\\n310 </div>\\n<div class=\"col-sm-3 col-xs-6\">\\n<strong>TOEFL</strong><br>\\n106 </div>\\n<div class=\"col-sm-3 col-xs-6\">\\n<strong>UNDERGRAD</strong><br>\\n75.6 % </div>\\n<div class=\"col-sm-3 col-xs-6\">\\n<strong>WORK EX</strong><br>\\n42 months </div>\\n</div>\\n</div>\\n</div>\\n</div>\\n</div>\\n<div class=\"row\"> <div class=\"col-sm-6\">\\n<div class=\"panel panel-warning\">\\n<div class=\"panel-body\">\\n<div class=\"row\">\\n<div class=\"col-sm-9\">\\n<h4>\\n<a href=\"/profiles/Ashmil\">ASHMIL ASHMIL</a><br>\\n<small>\\nNortheastern University Computer Science<br>\\nFall 2018 </small>\\n</h4>\\n</div>\\n<div class=\"col-sm-3 text-uppercase\">\\n<label class=\"label label-danger\">Reject</label><br><br>\\n</div>\\n</div>\\n<div class=\"row text-center\">\\n<div class=\"col-sm-3 col-xs-6\">\\n<strong>GRE</strong><br>\\n325 </div>\\n<div class=\"col-sm-3 col-xs-6\">\\n<strong>TOEFL</strong><br>\\n109 </div>\\n<div class=\"col-sm-3 col-xs-6\">\\n<strong>UNDERGRAD</strong><br>\\n7.65 CGPA </div>\\n<div class=\"col-sm-3 col-xs-6\">\\n<strong>WORK EX</strong><br>\\nNA </div>\\n</div>\\n</div>\\n</div>\\n</div>\\n<div class=\"col-sm-6\">\\n<div class=\"panel panel-warning\">\\n<div class=\"panel-body\">\\n<div class=\"row\">\\n<div class=\"col-sm-9\">\\n<h4>\\n<a href=\"/profiles/parthdave494\">Parth </a><br>\\n<small>\\nNortheastern University Engineering Management<br>\\nFall 2018 </small>\\n</h4>\\n</div>\\n<div class=\"col-sm-3 text-uppercase\">\\n<label class=\"label label-danger\">Reject</label><br><br>\\n</div>\\n</div>\\n<div class=\"row text-center\">\\n<div class=\"col-sm-3 col-xs-6\">\\n<strong>GRE</strong><br>\\n292 </div>\\n<div class=\"col-sm-3 col-xs-6\">\\n<strong>IELTS</strong><br>\\n6.5 </div>\\n<div class=\"col-sm-3 col-xs-6\">\\n<strong>UNDERGRAD</strong><br>\\n7.3 CGPA </div>\\n<div class=\"col-sm-3 col-xs-6\">\\n<strong>WORK EX</strong><br>\\nNA </div>\\n</div>\\n</div>\\n</div>\\n</div>\\n</div>\\n<div class=\"row\"> <div class=\"col-sm-6\">\\n<div class=\"panel panel-warning\">\\n<div class=\"panel-body\">\\n<div class=\"row\">\\n<div class=\"col-sm-9\">\\n<h4>\\n<a href=\"/profiles/AmitShetty\">Amit Shetty</a><br>\\n<small>\\nNortheastern University Computer Science<br>\\nSpring 2019 </small>\\n</h4>\\n</div>\\n<div class=\"col-sm-3 text-uppercase\">\\n<label class=\"label label-danger\">Reject</label><br><br>\\n</div>\\n</div>\\n<div class=\"row text-center\">\\n<div class=\"col-sm-3 col-xs-6\">\\n<strong>GRE</strong><br>\\n319 </div>\\n<div class=\"col-sm-3 col-xs-6\">\\n<strong>TOEFL</strong><br>\\n112 </div>\\n<div class=\"col-sm-3 col-xs-6\">\\n<strong>UNDERGRAD</strong><br>\\n58 % </div>\\n<div class=\"col-sm-3 col-xs-6\">\\n<strong>WORK EX</strong><br>\\n60 months </div>\\n</div>\\n</div>\\n</div>\\n</div>\\n<div class=\"col-sm-6\">\\n<div class=\"panel panel-warning\">\\n<div class=\"panel-body\">\\n<div class=\"row\">\\n<div class=\"col-sm-9\">\\n<h4>\\n<a href=\"/profiles/Savanp22\">Savan Patel</a><br>\\n<small>\\nNortheastern University Mechanical Engineering<br>\\nFall 2018 </small>\\n</h4>\\n</div>\\n<div class=\"col-sm-3 text-uppercase\">\\n<label class=\"label label-danger\">Reject</label><br><br>\\n</div>\\n</div>\\n<div class=\"row text-center\">\\n<div class=\"col-sm-3 col-xs-6\">\\n<strong>GRE</strong><br>\\n317 </div>\\n<div class=\"col-sm-3 col-xs-6\">\\n<strong>IELTS</strong><br>\\n7.5 </div>\\n<div class=\"col-sm-3 col-xs-6\">\\n<strong>UNDERGRAD</strong><br>\\n8.89 CGPA </div>\\n<div class=\"col-sm-3 col-xs-6\">\\n<strong>WORK EX</strong><br>\\n19 months </div>\\n</div>\\n</div>\\n</div>\\n</div>\\n</div>\\n<div class=\"row\"> <div class=\"col-sm-6\">\\n<div class=\"panel panel-warning\">\\n<div class=\"panel-body\">\\n<div class=\"row\">\\n<div class=\"col-sm-9\">\\n<h4>\\n<a href=\"/profiles/briggs\">Brijesh Goharia</a><br>\\n<small>\\nNortheastern University Industrial Engineering<br>\\nFall 2018 </small>\\n</h4>\\n</div>\\n<div class=\"col-sm-3 text-uppercase\">\\n<label class=\"label label-danger\">Reject</label><br><br>\\n</div>\\n</div>\\n<div class=\"row text-center\">\\n<div class=\"col-sm-3 col-xs-6\">\\n<strong>GRE</strong><br>\\n306 </div>\\n<div class=\"col-sm-3 col-xs-6\">\\n<strong>TOEFL</strong><br>\\n104 </div>\\n<div class=\"col-sm-3 col-xs-6\">\\n<strong>UNDERGRAD</strong><br>\\n7.16 CGPA </div>\\n<div class=\"col-sm-3 col-xs-6\">\\n<strong>WORK EX</strong><br>\\n18 months </div>\\n</div>\\n</div>\\n</div>\\n</div>\\n<div class=\"col-sm-6\">\\n<div class=\"panel panel-warning\">\\n<div class=\"panel-body\">\\n<div class=\"row\">\\n<div class=\"col-sm-9\">\\n<h4>\\n<a href=\"/profiles/balajivishalteja\">Balaji Vishal Teja</a><br>\\n<small>\\nNortheastern University Data Analytics<br>\\nFall 2018 </small>\\n</h4>\\n</div>\\n<div class=\"col-sm-3 text-uppercase\">\\n<label class=\"label label-danger\">Reject</label><br><br>\\n</div>\\n</div>\\n<div class=\"row text-center\">\\n<div class=\"col-sm-3 col-xs-6\">\\n<strong>GRE</strong><br>\\n303 </div>\\n<div class=\"col-sm-3 col-xs-6\">\\n<strong>IELTS</strong><br>\\n6.5 </div>\\n<div class=\"col-sm-3 col-xs-6\">\\n<strong>UNDERGRAD</strong><br>\\n6.53 CGPA </div>\\n<div class=\"col-sm-3 col-xs-6\">\\n<strong>WORK EX</strong><br>\\nNA </div>\\n</div>\\n</div>\\n</div>\\n</div>\\n</div>\\n<div class=\"clearfix\"></div>\\n<div class=\"text-center\">\\n<div class=\"paginator\">\\n<ul class=\"pagination\">\\n<li class=\"prev\"><a rel=\"prev\" href=\"/applications-admits-rejects/northeastern-university/3\"><i class=\"fa fa-chevron-left\"></i></a></li> <li><a href=\"/applications-admits-rejects/northeastern-university/3\">1</a></li><li class=\"active\"><a href=\"\">2</a></li><li><a href=\"/applications-admits-rejects/northeastern-university/3?page=3\">3</a></li><li><a href=\"/applications-admits-rejects/northeastern-university/3?page=4\">4</a></li><li><a href=\"/applications-admits-rejects/northeastern-university/3?page=5\">5</a></li> <li class=\"next\"><a rel=\"next\" href=\"/applications-admits-rejects/northeastern-university/3?page=3\"><i class=\"fa fa-chevron-right\"></i></a></li> </ul>\\n</div>\\n</div>\\n</div>\\n<div class=\"col-sm-3\">\\n<div style=\"padding-top: 16px;\">\\n<div class=\"col-sm-12\">\\n<script async src=\"//pagead2.googlesyndication.com/pagead/js/adsbygoogle.js\"></script>\\n\\n\\n<div id=\\'div-gpt-ad-1486040951439-0\\' style=\\'height:250px; width:300px;\\'>\\n<script>\\n                googletag.cmd.push(function() { googletag.display(\\'div-gpt-ad-1486040951439-0\\'); });\\n            </script>\\n</div>\\n<br /><br />\\n\\n<div id=\\'div-gpt-ad-1486040951439-1\\' style=\\'height:250px; width:300px;\\'>\\n<script>\\n                googletag.cmd.push(function() { googletag.display(\\'div-gpt-ad-1486040951439-1\\'); });\\n            </script>\\n</div>\\n<br /><br />\\n\\n<div id=\\'div-gpt-ad-1486040951439-2\\' style=\\'height:250px; width:300px;\\'>\\n<script>\\n                googletag.cmd.push(function() { googletag.display(\\'div-gpt-ad-1486040951439-2\\'); });\\n            </script>\\n</div>\\n<br /><br />\\n\\n<script async src=\"//pagead2.googlesyndication.com/pagead/js/adsbygoogle.js\"></script>\\n\\n<ins class=\"adsbygoogle\" style=\"display:inline-block;width:300px;height:250px\" data-ad-client=\"ca-pub-5512390705137507\" data-ad-slot=\"9303728642/6835238112\"></ins>\\n<script>\\n        (adsbygoogle = window.adsbygoogle || []).push({});\\n        </script>\\n</div>\\n</div>\\n</div>\\n<div class=\"clearfix\"></div>\\n</div>\\n</div>\\n<br />\\n<br />\\n<div style=\\'height: 200px;\\' class=\\'hidden-md hidden-lg\\'></div>\\n<div style=\\'height: 100px;\\' class=\\'hidden-sm hidden-md hidden-lg\\'></div>\\n<footer class=\"footer text-center clearfix\">\\n<div class=\"container clearfix\">\\n<div class=\"row clearfix\">\\n<div class=\"col-sm-12\">\\n<h4>Looking for help? <a href=\"/contact-us\" class=\"btn btn-info\" style=\"color:#fff;\">CONTACT US</a></h4>\\n</div>\\n</div>\\n<br />\\n<div class=\"row clearfix\">\\n<div class=\"col-sm-3 col-xs-6\">\\n<p><strong>STUDY ABROAD UNIVERSITIES</strong></p>\\n<ul class=\"list-unstyled\">\\n<li><a href=\"/universities/study-in-usa/top-100\">Top 100 Universities in USA</a></li>\\n<li><a href=\"/universities/study-in-australia\">Study in Australia</a></li>\\n<li><a href=\"/universities/study-in-united-kingdom\">Study in UK</a></li>\\n<li><a href=\"/universities/study-in-canada\">Universities in Canada</a></li>\\n<li><a href=\"/universities/study-in-singapore\">Study in Singapore</a></li>\\n<li><a href=\"/universities/compare\">Compare Universities</a></li>\\n<li><a href=\"/universities\">University Reviews</a></li>\\n<li><a href=\"/university-application-deadlines\">Application Deadlines</a></li>\\n</ul>\\n</div>\\n<div class=\"col-sm-3 col-xs-6\">\\n<p><strong>APPLICATION PROCESS</strong></p>\\n<ul class=\"list-unstyled\">\\n<li>\\n<a href=\"/blog/gre-preparation-guide-1/how-to-prepare-for-gre-3\">How to prepare for GRE</a> </li>\\n<li>\\n<a href=\"/blog/gre-preparation-guide-1/gre-structure-and-pattern-2\">GRE Exam</a> |\\n<a href=\"/blog/toefl-ielts-preparation-guide-2/ielts-v-s-toefl-771\">IELTS vs TOEFL</a> </li>\\n<li>\\n<a href=\"/blog/gmat-preparation-guide-3/how-to-prepare-for-gmat-12\">How to prepare for GMAT</a> </li>\\n<li>\\n<a href=\"/blog/university-application-process-4/all-about-lors-17\">LOR</a>\\n| <a href=\"/blog/university-application-process-4/all-about-sop-18\">SOP</a> | <a href=\"/blog/i-20-and-visa-5/documents-required-for-student-visa-interview-25\">Visa Documents</a> </li>\\n<li><a href=\"/blog/study-abroad-financing-6/total-expenses-for-ms-in-us-20\">Cost for MS in US</a></li>\\n<li><a href=\"/blog\">More Articles</a></li>\\n<li><a href=\"/course-descriptions\">Course Descriptions</a></li>\\n<li><a href=\"/profiles/find/matching-admits-and-rejects\">Admits &amp; rejects</a></li>\\n</ul>\\n</div>\\n<div class=\"visible-xs\">\\n<div class=\"clearfix\"></div>\\n</div>\\n<div class=\"col-sm-3 col-xs-6\">\\n<p><strong>EXPLORE YOCKET SERVICES</strong></p>\\n<ul class=\"list-unstyled\">\\n<li><a href=\"/university-courses/recommend\">Profile evaluator</a></li>\\n<li><a href=\"/profiles/find/matching-profiles\">Similar profiles</a></li>\\n<li><a href=\"/profiles/find-roommates\">Roommate finder</a></li>\\n<li><a href=\"/discussions/home\">Discussions</a></li>\\n<li><a href=\"/services/mail\">Send transcripts</a></li>\\n<li><a href=\"/services/loan-assistance\">Education Loans</a> | <a href=\"/services/forex\">Forex Card</a></li>\\n<li><a href=\"/services/forex\">University fee payment</a></li>\\n<li><a href=\"/fs/yocket-insurance-details-23\">Health/Travel Insurance</a></li>\\n</ul>\\n</div>\\n<div class=\"col-sm-3 col-xs-6\">\\n<p><strong>MORE</strong></p>\\n<ul class=\"list-unstyled\">\\n<li><a href=\"/contact-us\">Contact us</a> </li>\\n<li> <a href=\"/about/jobs\">Work with us</a></li>\\n<li><a href=\"https://www.facebook.com/yocketapp\" target=\"_blank\" class=\"ga-event\" data-event-category=\"SocialMedia\" data-event-action=\"Click\" data-event-label=\"Facebook\">Facebook</a> | <a href=\"https://twitter.com/yocketapp\" target=\"_blank\" class=\"ga-event\" data-event-category=\"SocialMedia\" data-event-action=\"Click\" data-event-label=\"Twitter\">Twitter</a></li>\\n<li><a href=\"https://www.youtube.com/channel/UC-cDK8t9TBFWEnCyoTYIR-Q\" target=\"_blank\" class=\"ga-event\" data-event-category=\"SocialMedia\" data-event-action=\"Click\" data-event-label=\"YouTube\">YouTube</a> | <a href=\"https://www.instagram.com/yocketapp\" target=\"_blank\" class=\"ga-event\" data-event-category=\"SocialMedia\" data-event-action=\"Click\" data-event-label=\"Instagram\">Instagram</a></li>\\n<li><a href=\"/about/company\">About Us</a></li>\\n<li><a href=\"/about/campus-ambassador-program\">Campus Ambassador</a></li>\\n<li><a href=\"/about/privacy\">Privacy</a> </li>\\n<li> <a href=\"/about/terms\">Terms</a></li>\\n</ul>\\n</div>\\n</div>\\n<br />\\n<div class=\\'clearfix\\'>\\n<div id=\"google_translate_element_footer\"></div>\\n</div>\\n<br />\\n</div>\\n\\n<div id=\"fb-root\"></div>\\n</footer>\\n</body>\\n</html>\\n'"
      ]
     },
     "execution_count": 15,
     "metadata": {},
     "output_type": "execute_result"
    }
   ],
   "source": [
    "# run it once you open the notebook\n",
    "def getAuthSession():\n",
    "    USERNAME = \"studytonightrb@gmail.com\"\n",
    "    PASSWORD = \"priyabashyam\"\n",
    "    LOGIN_URL = \"https://yocket.in/account/login\"\n",
    "    session_requests = requests.session()\n",
    "    headers = {'User-Agent': 'Mozilla/5.0'}\n",
    "    result = session_requests.get(LOGIN_URL, verify = False, headers = headers)\n",
    "    tree = html.fromstring(result.text)\n",
    "    authenticity_token = list(set(tree.xpath(\"//input[@name='_csrfToken']/@value\")))[0]\n",
    "    payload = {\n",
    "        \"email\": USERNAME,\n",
    "         \"password\": PASSWORD,\n",
    "         \"_csrfToken\": authenticity_token\n",
    "    }\n",
    "\n",
    "    # Perform login\n",
    "    login_req = session_requests.post(LOGIN_URL, data=payload, headers=dict(referer=LOGIN_URL))\n",
    "    return (authenticity_token,session_requests)\n",
    "token,session_request = getAuthSession()\n",
    "print(token)\n",
    "scrap_url = \"https://yocket.in/applications-admits-rejects/northeastern-university/3?page=2\"\n",
    "response = session_request.get(scrap_url,headers=dict(referer=URL),verify = False, allow_redirects = False)\n",
    "response.content\n",
    "# page_soup\n",
    "\n",
    "\n",
    "    \n",
    "\n",
    "    \n",
    "    \n",
    "    \n",
    "\n"
   ]
  },
  {
   "cell_type": "code",
   "execution_count": 8,
   "metadata": {
    "collapsed": false
   },
   "outputs": [
    {
     "name": "stderr",
     "output_type": "stream",
     "text": [
      "C:\\Users\\lakshmib\\AppData\\Local\\Continuum\\Anaconda3\\lib\\site-packages\\requests\\packages\\urllib3\\connectionpool.py:791: InsecureRequestWarning: Unverified HTTPS request is being made. Adding certificate verification is strongly advised. See: https://urllib3.readthedocs.org/en/latest/security.html\n",
      "  InsecureRequestWarning)\n",
      "C:\\Users\\lakshmib\\AppData\\Local\\Continuum\\Anaconda3\\lib\\site-packages\\requests\\packages\\urllib3\\connectionpool.py:791: InsecureRequestWarning: Unverified HTTPS request is being made. Adding certificate verification is strongly advised. See: https://urllib3.readthedocs.org/en/latest/security.html\n",
      "  InsecureRequestWarning)\n",
      "C:\\Users\\lakshmib\\AppData\\Local\\Continuum\\Anaconda3\\lib\\site-packages\\requests\\packages\\urllib3\\connectionpool.py:791: InsecureRequestWarning: Unverified HTTPS request is being made. Adding certificate verification is strongly advised. See: https://urllib3.readthedocs.org/en/latest/security.html\n",
      "  InsecureRequestWarning)\n",
      "C:\\Users\\lakshmib\\AppData\\Local\\Continuum\\Anaconda3\\lib\\site-packages\\requests\\packages\\urllib3\\connectionpool.py:791: InsecureRequestWarning: Unverified HTTPS request is being made. Adding certificate verification is strongly advised. See: https://urllib3.readthedocs.org/en/latest/security.html\n",
      "  InsecureRequestWarning)\n"
     ]
    },
    {
     "data": {
      "text/plain": [
       "200"
      ]
     },
     "execution_count": 8,
     "metadata": {},
     "output_type": "execute_result"
    }
   ],
   "source": [
    "USERNAME = \"studytonightrb@gmail.com\"\n",
    "PASSWORD = \"priyabashyam\"\n",
    "BASE_URL = \"https://yocket.in\"\n",
    "LOGIN_URL = \"https://yocket.in/account/login\"\n",
    "URL = \"https://yocket.in/recent-admits-rejects?page=\"\n",
    "SCRAP_URL = \"https://yocket.in/applications-admits-rejects/northeastern-university/3?page=2\"\n",
    "session_requests = requests.session()\n",
    "headers = {'User-Agent': 'Mozilla/5.0'}\n",
    "    # Get login csrf token\n",
    "result = session_requests.get(LOGIN_URL, verify = False, headers = headers)\n",
    "tree = html.fromstring(result.text)\n",
    "authenticity_token = list(set(tree.xpath(\"//input[@name='_csrfToken']/@value\")))[0]\n",
    "\n",
    "    # Create payload\n",
    "payload = {\n",
    "    \"email\": USERNAME,\n",
    "     \"password\": PASSWORD,\n",
    "     \"_csrfToken\": authenticity_token\n",
    "}\n",
    "\n",
    "    # Perform login\n",
    "login_req = session_requests.post(LOGIN_URL, data=payload, headers=dict(referer=LOGIN_URL))\n",
    "result = session_requests.get(SCRAP_URL, headers=dict(referer=URL),verify = False, allow_redirects = False)\n",
    "result.status_code"
   ]
  }
 ],
 "metadata": {
  "kernelspec": {
   "display_name": "Python 3",
   "language": "python",
   "name": "python3"
  },
  "language_info": {
   "codemirror_mode": {
    "name": "ipython",
    "version": 3
   },
   "file_extension": ".py",
   "mimetype": "text/x-python",
   "name": "python",
   "nbconvert_exporter": "python",
   "pygments_lexer": "ipython3",
   "version": "3.5.1"
  }
 },
 "nbformat": 4,
 "nbformat_minor": 1
}
